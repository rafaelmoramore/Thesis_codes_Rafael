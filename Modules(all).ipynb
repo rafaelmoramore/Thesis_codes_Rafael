{
 "cells": [
  {
   "cell_type": "markdown",
   "id": "cea30590",
   "metadata": {},
   "source": [
    "# All modules\n",
    "\n",
    "### This notebook computes all modules needed for the shear Correlation Function $\\xi_{+}, \\xi_{-}$"
   ]
  },
  {
   "cell_type": "code",
   "execution_count": 1,
   "id": "8f6dc42c",
   "metadata": {},
   "outputs": [
    {
     "name": "stdout",
     "output_type": "stream",
     "text": [
      "1.21.2\n"
     ]
    }
   ],
   "source": [
    "import numpy as np\n",
    "print(np.__version__) # version 1.20.0 or higher it's needed in order to compute all c_m correctly (np.fft)\n",
    "import scipy as sp\n",
    "import matplotlib.pyplot as plt\n",
    "import math\n",
    "import time"
   ]
  },
  {
   "cell_type": "code",
   "execution_count": 2,
   "id": "168ab770",
   "metadata": {},
   "outputs": [
    {
     "data": {
      "text/plain": [
       "array([ 0. ,  0.1,  0.2,  0.3,  0.4,  0.5,  0.6,  0.7,  0.8,  0.9,  1. ,\n",
       "        1.1,  1.2,  1.3,  1.4,  1.5,  1.6,  1.7,  1.8,  1.9,  2. ,  2.1,\n",
       "        2.2,  2.3,  2.4,  2.5,  2.6,  2.7,  2.8,  2.9,  3. ,  3.1,  3.2,\n",
       "        3.3,  3.4,  3.5,  3.6,  3.7,  3.8,  3.9,  4. ,  4.1,  4.2,  4.3,\n",
       "        4.4,  4.5,  4.6,  4.7,  4.8,  4.9,  5. ,  5.1,  5.2,  5.3,  5.4,\n",
       "        5.5,  5.6,  5.7,  5.8,  5.9,  6. ,  6.1,  6.2,  6.3,  6.4,  6.5,\n",
       "        6.6,  6.7,  6.8,  6.9,  7. ,  7.1,  7.2,  7.3,  7.4,  7.5,  7.6,\n",
       "        7.7,  7.8,  7.9,  8. ,  8.1,  8.2,  8.3,  8.4,  8.5,  8.6,  8.7,\n",
       "        8.8,  8.9,  9. ,  9.1,  9.2,  9.3,  9.4,  9.5,  9.6,  9.7,  9.8,\n",
       "        9.9, 10. , 10.1, 10.2, 10.3, 10.4, 10.5, 10.6, 10.7, 10.8, 10.9,\n",
       "       11. , 11.1, 11.2, 11.3, 11.4, 11.5, 11.6, 11.7, 11.8, 11.9, 12. ,\n",
       "       12.1, 12.2, 12.3, 12.4, 12.5, 12.6, 12.7, 12.8, 12.9, 13. , 13.1,\n",
       "       13.2, 13.3, 13.4, 13.5, 13.6, 13.7, 13.8, 13.9, 14. , 14.1, 14.2,\n",
       "       14.3, 14.4, 14.5, 14.6, 14.7, 14.8, 14.9, 15. , 15.1, 15.2, 15.3,\n",
       "       15.4, 15.5, 15.6, 15.7, 15.8, 15.9, 16. , 16.1, 16.2, 16.3, 16.4,\n",
       "       16.5, 16.6, 16.7, 16.8, 16.9, 17. , 17.1, 17.2, 17.3, 17.4, 17.5,\n",
       "       17.6, 17.7, 17.8, 17.9, 18. , 18.1, 18.2, 18.3, 18.4, 18.5, 18.6,\n",
       "       18.7, 18.8, 18.9, 19. , 19.1, 19.2, 19.3, 19.4, 19.5, 19.6, 19.7,\n",
       "       19.8, 19.9, 20. ])"
      ]
     },
     "execution_count": 2,
     "metadata": {},
     "output_type": "execute_result"
    }
   ],
   "source": [
    "# Specifying input parameters\n",
    "\n",
    "OmegaM_in=0.3\n",
    "# h_in=0.7\n",
    "H0_in=1/2997.92458 # hubble constant (t_0) in units of h/Mpc\n",
    "zTableChi_in = np.linspace(0, 20, num=201)\n",
    "zTableChi_in"
   ]
  },
  {
   "cell_type": "markdown",
   "id": "171a948e",
   "metadata": {},
   "source": [
    "### Module background Cosmology\n",
    "\n",
    "Outputs:\n",
    "\n",
    "\n",
    "chiOfzT_backg\n",
    "\n",
    "zOfchiT_backg\n",
    "\n",
    "aOfchiT_backg"
   ]
  },
  {
   "cell_type": "markdown",
   "id": "38c5c82f",
   "metadata": {},
   "source": [
    "**Comoving radial distance chi:  $\\chi(z)$**\n",
    "$$\n",
    "    \\chi(z) = \\int_0^z \\frac{1}{H(z')}dz'. \n",
    "$$\n",
    " \n",
    "\n",
    "**Friedmann equation in terms of z & $\\Omega_A$:**\n",
    "$$\n",
    "    H(z) = H_0 \\sqrt{\\Omega_M (1+z)^3 + (1-\\Omega_M)},\n",
    "$$\n",
    "with  $\\Omega_r+\\Omega_M+\\Omega_k+\\Omega_\\Lambda =1$,  $\\Omega_K=\\Omega_r=0$."
   ]
  },
  {
   "cell_type": "code",
   "execution_count": 3,
   "id": "21ff9a39",
   "metadata": {},
   "outputs": [],
   "source": [
    "OmegaM = OmegaM_in\n",
    "H0=H0_in"
   ]
  },
  {
   "cell_type": "markdown",
   "id": "971bd64a",
   "metadata": {},
   "source": [
    "**Get Table chi(z)T**"
   ]
  },
  {
   "cell_type": "code",
   "execution_count": 4,
   "id": "3fb178c8",
   "metadata": {},
   "outputs": [
    {
     "name": "stdout",
     "output_type": "stream",
     "text": [
      "Time: 0.0013849735260009766 s.\n"
     ]
    }
   ],
   "source": [
    "# THIS CELL IS THE NEW MODIFICATION: INTEGRATION BY TRAPEZE\n",
    "\n",
    "def integrand(z): # i.e., 1/H(z')\n",
    "    return 1/(H0*np.sqrt(OmegaM*(1+z)**3 + (1-OmegaM)))\n",
    "\n",
    "zT = zTableChi_in\n",
    "\n",
    "delta_z = zT[1] - zT[0]\n",
    "Nz = len(zT)\n",
    "\n",
    "start_time = time.time()\n",
    "\n",
    "chiT_x = np.zeros(Nz)\n",
    "chiT_y = np.zeros(Nz)\n",
    "\n",
    "xp = xA = xB = 0.0\n",
    "\n",
    "z = zT[0]\n",
    "xA = integrand(z)\n",
    "chiT_x[0], chiT_y[0] = z, xA*delta_z\n",
    "z_prev = z\n",
    "\n",
    "for i in range(1,Nz):\n",
    "    z = zT[i]\n",
    "    xB = integrand(z)\n",
    "    xp = xp + 0.5*(xA + xB)*delta_z\n",
    "    chiT_x[i], chiT_y[i] = z, xp\n",
    "    xA = xB\n",
    "    z_prev = z\n",
    "\n",
    "end_time = time.time()\n",
    "print('Time:', end_time - start_time, 's.')\n",
    "\n",
    "# so, in direct integration code, chiT_x = zT, chiT_y = chi_y\n",
    "chiT = np.concatenate((chiT_x.reshape(-1,1), chiT_y.reshape(-1,1)), axis = 1)\n",
    "\n",
    "from scipy.interpolate import CubicSpline\n",
    "chi = CubicSpline(chiT_x, chiT_y)\n",
    "chi_inter_new = chi(chiT_x)"
   ]
  },
  {
   "cell_type": "code",
   "execution_count": 5,
   "id": "b1f9bad1",
   "metadata": {},
   "outputs": [],
   "source": [
    "from scipy.integrate import quad\n",
    "from functools import partial\n",
    "\n",
    "def H(OmegaM, z):\n",
    "    return 1/(H0*np.sqrt(OmegaM*(1+z)**3 + (1-OmegaM))) # Friedmann eq. in z, as the expr H\n",
    "\n",
    "def chi_function(z, OmegaM):\n",
    "    result = np.array(list(map(partial(quad, partial(H, OmegaM), 0), z)))[:,0] # integrating H(z) from 0 to z\n",
    "    return result"
   ]
  },
  {
   "cell_type": "code",
   "execution_count": 6,
   "id": "635e5cd8",
   "metadata": {},
   "outputs": [
    {
     "name": "stdout",
     "output_type": "stream",
     "text": [
      "The time used to execute this (in seconds) is showed below: \n",
      "0.02585911750793457\n"
     ]
    }
   ],
   "source": [
    "zT = zTableChi_in\n",
    "zMax = zT[-1]\n",
    "\n",
    "# runtime count (\"parallel\" table)\n",
    "start = time.time()\n",
    "\n",
    "chi_y = chi_function(zT, OmegaM)\n",
    "\n",
    "print(\"The time used to execute this (in seconds) is showed below: \")\n",
    "end = time.time()\n",
    "\n",
    "print(end - start)"
   ]
  },
  {
   "cell_type": "code",
   "execution_count": 7,
   "id": "f7c758f9",
   "metadata": {
    "collapsed": true
   },
   "outputs": [
    {
     "data": {
      "text/plain": [
       "array([[0.00000000e+00, 0.00000000e+00],\n",
       "       [1.00000000e-01, 2.92918141e+02],\n",
       "       [2.00000000e-01, 5.71706267e+02],\n",
       "       [3.00000000e-01, 8.36077809e+02],\n",
       "       [4.00000000e-01, 1.08608234e+03],\n",
       "       [5.00000000e-01, 1.32203778e+03],\n",
       "       [6.00000000e-01, 1.54445940e+03],\n",
       "       [7.00000000e-01, 1.75399471e+03],\n",
       "       [8.00000000e-01, 1.95136896e+03],\n",
       "       [9.00000000e-01, 2.13734262e+03],\n",
       "       [1.00000000e+00, 2.31268016e+03],\n",
       "       [1.10000000e+00, 2.47812830e+03],\n",
       "       [1.20000000e+00, 2.63440195e+03],\n",
       "       [1.30000000e+00, 2.78217580e+03],\n",
       "       [1.40000000e+00, 2.92208005e+03],\n",
       "       [1.50000000e+00, 3.05469904e+03],\n",
       "       [1.60000000e+00, 3.18057170e+03],\n",
       "       [1.70000000e+00, 3.30019333e+03],\n",
       "       [1.80000000e+00, 3.41401798e+03],\n",
       "       [1.90000000e+00, 3.52246130e+03],\n",
       "       [2.00000000e+00, 3.62590345e+03],\n",
       "       [2.10000000e+00, 3.72469208e+03],\n",
       "       [2.20000000e+00, 3.81914510e+03],\n",
       "       [2.30000000e+00, 3.90955344e+03],\n",
       "       [2.40000000e+00, 3.99618345e+03],\n",
       "       [2.50000000e+00, 4.07927927e+03],\n",
       "       [2.60000000e+00, 4.15906485e+03],\n",
       "       [2.70000000e+00, 4.23574589e+03],\n",
       "       [2.80000000e+00, 4.30951156e+03],\n",
       "       [2.90000000e+00, 4.38053601e+03],\n",
       "       [3.00000000e+00, 4.44897981e+03],\n",
       "       [3.10000000e+00, 4.51499118e+03],\n",
       "       [3.20000000e+00, 4.57870712e+03],\n",
       "       [3.30000000e+00, 4.64025445e+03],\n",
       "       [3.40000000e+00, 4.69975069e+03],\n",
       "       [3.50000000e+00, 4.75730487e+03],\n",
       "       [3.60000000e+00, 4.81301834e+03],\n",
       "       [3.70000000e+00, 4.86698534e+03],\n",
       "       [3.80000000e+00, 4.91929369e+03],\n",
       "       [3.90000000e+00, 4.97002526e+03],\n",
       "       [4.00000000e+00, 5.01925649e+03],\n",
       "       [4.10000000e+00, 5.06705885e+03],\n",
       "       [4.20000000e+00, 5.11349920e+03],\n",
       "       [4.30000000e+00, 5.15864019e+03],\n",
       "       [4.40000000e+00, 5.20254057e+03],\n",
       "       [4.50000000e+00, 5.24525550e+03],\n",
       "       [4.60000000e+00, 5.28683679e+03],\n",
       "       [4.70000000e+00, 5.32733322e+03],\n",
       "       [4.80000000e+00, 5.36679068e+03],\n",
       "       [4.90000000e+00, 5.40525246e+03],\n",
       "       [5.00000000e+00, 5.44275935e+03],\n",
       "       [5.10000000e+00, 5.47934990e+03],\n",
       "       [5.20000000e+00, 5.51506052e+03],\n",
       "       [5.30000000e+00, 5.54992567e+03],\n",
       "       [5.40000000e+00, 5.58397793e+03],\n",
       "       [5.50000000e+00, 5.61724821e+03],\n",
       "       [5.60000000e+00, 5.64976577e+03],\n",
       "       [5.70000000e+00, 5.68155840e+03],\n",
       "       [5.80000000e+00, 5.71265248e+03],\n",
       "       [5.90000000e+00, 5.74307308e+03],\n",
       "       [6.00000000e+00, 5.77284402e+03],\n",
       "       [6.10000000e+00, 5.80198798e+03],\n",
       "       [6.20000000e+00, 5.83052656e+03],\n",
       "       [6.30000000e+00, 5.85848032e+03],\n",
       "       [6.40000000e+00, 5.88586887e+03],\n",
       "       [6.50000000e+00, 5.91271093e+03],\n",
       "       [6.60000000e+00, 5.93902435e+03],\n",
       "       [6.70000000e+00, 5.96482618e+03],\n",
       "       [6.80000000e+00, 5.99013273e+03],\n",
       "       [6.90000000e+00, 6.01495957e+03],\n",
       "       [7.00000000e+00, 6.03932163e+03],\n",
       "       [7.10000000e+00, 6.06323316e+03],\n",
       "       [7.20000000e+00, 6.08670785e+03],\n",
       "       [7.30000000e+00, 6.10975878e+03],\n",
       "       [7.40000000e+00, 6.13239852e+03],\n",
       "       [7.50000000e+00, 6.15463911e+03],\n",
       "       [7.60000000e+00, 6.17649211e+03],\n",
       "       [7.70000000e+00, 6.19796860e+03],\n",
       "       [7.80000000e+00, 6.21907926e+03],\n",
       "       [7.90000000e+00, 6.23983432e+03],\n",
       "       [8.00000000e+00, 6.26024363e+03],\n",
       "       [8.10000000e+00, 6.28031666e+03],\n",
       "       [8.20000000e+00, 6.30006252e+03],\n",
       "       [8.30000000e+00, 6.31948998e+03],\n",
       "       [8.40000000e+00, 6.33860750e+03],\n",
       "       [8.50000000e+00, 6.35742319e+03],\n",
       "       [8.60000000e+00, 6.37594492e+03],\n",
       "       [8.70000000e+00, 6.39418023e+03],\n",
       "       [8.80000000e+00, 6.41213643e+03],\n",
       "       [8.90000000e+00, 6.42982053e+03],\n",
       "       [9.00000000e+00, 6.44723935e+03],\n",
       "       [9.10000000e+00, 6.46439942e+03],\n",
       "       [9.20000000e+00, 6.48130708e+03],\n",
       "       [9.30000000e+00, 6.49796845e+03],\n",
       "       [9.40000000e+00, 6.51438944e+03],\n",
       "       [9.50000000e+00, 6.53057576e+03],\n",
       "       [9.60000000e+00, 6.54653295e+03],\n",
       "       [9.70000000e+00, 6.56226635e+03],\n",
       "       [9.80000000e+00, 6.57778114e+03],\n",
       "       [9.90000000e+00, 6.59308232e+03],\n",
       "       [1.00000000e+01, 6.60817474e+03],\n",
       "       [1.01000000e+01, 6.62306310e+03],\n",
       "       [1.02000000e+01, 6.63775196e+03],\n",
       "       [1.03000000e+01, 6.65224572e+03],\n",
       "       [1.04000000e+01, 6.66654866e+03],\n",
       "       [1.05000000e+01, 6.68066492e+03],\n",
       "       [1.06000000e+01, 6.69459853e+03],\n",
       "       [1.07000000e+01, 6.70835338e+03],\n",
       "       [1.08000000e+01, 6.72193327e+03],\n",
       "       [1.09000000e+01, 6.73534185e+03],\n",
       "       [1.10000000e+01, 6.74858272e+03],\n",
       "       [1.11000000e+01, 6.76165931e+03],\n",
       "       [1.12000000e+01, 6.77457501e+03],\n",
       "       [1.13000000e+01, 6.78733308e+03],\n",
       "       [1.14000000e+01, 6.79993670e+03],\n",
       "       [1.15000000e+01, 6.81238896e+03],\n",
       "       [1.16000000e+01, 6.82469285e+03],\n",
       "       [1.17000000e+01, 6.83685131e+03],\n",
       "       [1.18000000e+01, 6.84886716e+03],\n",
       "       [1.19000000e+01, 6.86074318e+03],\n",
       "       [1.20000000e+01, 6.87248205e+03],\n",
       "       [1.21000000e+01, 6.88408639e+03],\n",
       "       [1.22000000e+01, 6.89555874e+03],\n",
       "       [1.23000000e+01, 6.90690160e+03],\n",
       "       [1.24000000e+01, 6.91811737e+03],\n",
       "       [1.25000000e+01, 6.92920841e+03],\n",
       "       [1.26000000e+01, 6.94017701e+03],\n",
       "       [1.27000000e+01, 6.95102541e+03],\n",
       "       [1.28000000e+01, 6.96175578e+03],\n",
       "       [1.29000000e+01, 6.97237025e+03],\n",
       "       [1.30000000e+01, 6.98287089e+03],\n",
       "       [1.31000000e+01, 6.99325971e+03],\n",
       "       [1.32000000e+01, 7.00353869e+03],\n",
       "       [1.33000000e+01, 7.01370975e+03],\n",
       "       [1.34000000e+01, 7.02377476e+03],\n",
       "       [1.35000000e+01, 7.03373555e+03],\n",
       "       [1.36000000e+01, 7.04359390e+03],\n",
       "       [1.37000000e+01, 7.05335156e+03],\n",
       "       [1.38000000e+01, 7.06301023e+03],\n",
       "       [1.39000000e+01, 7.07257157e+03],\n",
       "       [1.40000000e+01, 7.08203720e+03],\n",
       "       [1.41000000e+01, 7.09140872e+03],\n",
       "       [1.42000000e+01, 7.10068766e+03],\n",
       "       [1.43000000e+01, 7.10987554e+03],\n",
       "       [1.44000000e+01, 7.11897384e+03],\n",
       "       [1.45000000e+01, 7.12798401e+03],\n",
       "       [1.46000000e+01, 7.13690746e+03],\n",
       "       [1.47000000e+01, 7.14574556e+03],\n",
       "       [1.48000000e+01, 7.15449968e+03],\n",
       "       [1.49000000e+01, 7.16317113e+03],\n",
       "       [1.50000000e+01, 7.17176120e+03],\n",
       "       [1.51000000e+01, 7.18027116e+03],\n",
       "       [1.52000000e+01, 7.18870225e+03],\n",
       "       [1.53000000e+01, 7.19705567e+03],\n",
       "       [1.54000000e+01, 7.20533262e+03],\n",
       "       [1.55000000e+01, 7.21353425e+03],\n",
       "       [1.56000000e+01, 7.22166169e+03],\n",
       "       [1.57000000e+01, 7.22971605e+03],\n",
       "       [1.58000000e+01, 7.23769843e+03],\n",
       "       [1.59000000e+01, 7.24560990e+03],\n",
       "       [1.60000000e+01, 7.25345148e+03],\n",
       "       [1.61000000e+01, 7.26122421e+03],\n",
       "       [1.62000000e+01, 7.26892909e+03],\n",
       "       [1.63000000e+01, 7.27656710e+03],\n",
       "       [1.64000000e+01, 7.28413919e+03],\n",
       "       [1.65000000e+01, 7.29164632e+03],\n",
       "       [1.66000000e+01, 7.29908940e+03],\n",
       "       [1.67000000e+01, 7.30646935e+03],\n",
       "       [1.68000000e+01, 7.31378704e+03],\n",
       "       [1.69000000e+01, 7.32104335e+03],\n",
       "       [1.70000000e+01, 7.32823913e+03],\n",
       "       [1.71000000e+01, 7.33537522e+03],\n",
       "       [1.72000000e+01, 7.34245243e+03],\n",
       "       [1.73000000e+01, 7.34947158e+03],\n",
       "       [1.74000000e+01, 7.35643345e+03],\n",
       "       [1.75000000e+01, 7.36333882e+03],\n",
       "       [1.76000000e+01, 7.37018845e+03],\n",
       "       [1.77000000e+01, 7.37698308e+03],\n",
       "       [1.78000000e+01, 7.38372344e+03],\n",
       "       [1.79000000e+01, 7.39041025e+03],\n",
       "       [1.80000000e+01, 7.39704423e+03],\n",
       "       [1.81000000e+01, 7.40362605e+03],\n",
       "       [1.82000000e+01, 7.41015640e+03],\n",
       "       [1.83000000e+01, 7.41663595e+03],\n",
       "       [1.84000000e+01, 7.42306535e+03],\n",
       "       [1.85000000e+01, 7.42944525e+03],\n",
       "       [1.86000000e+01, 7.43577627e+03],\n",
       "       [1.87000000e+01, 7.44205904e+03],\n",
       "       [1.88000000e+01, 7.44829417e+03],\n",
       "       [1.89000000e+01, 7.45448226e+03],\n",
       "       [1.90000000e+01, 7.46062389e+03],\n",
       "       [1.91000000e+01, 7.46671964e+03],\n",
       "       [1.92000000e+01, 7.47277008e+03],\n",
       "       [1.93000000e+01, 7.47877578e+03],\n",
       "       [1.94000000e+01, 7.48473727e+03],\n",
       "       [1.95000000e+01, 7.49065510e+03],\n",
       "       [1.96000000e+01, 7.49652980e+03],\n",
       "       [1.97000000e+01, 7.50236188e+03],\n",
       "       [1.98000000e+01, 7.50815187e+03],\n",
       "       [1.99000000e+01, 7.51390027e+03],\n",
       "       [2.00000000e+01, 7.51960757e+03]])"
      ]
     },
     "execution_count": 7,
     "metadata": {},
     "output_type": "execute_result"
    }
   ],
   "source": [
    "# array of lists, with all the i values of zT and the i values of the integrated chi(z) \n",
    "\n",
    "chiOfz_T = np.concatenate((zT.reshape(-1,1),chi_y.reshape(-1,1)), axis = 1)\n",
    "chiOfz_T"
   ]
  },
  {
   "cell_type": "code",
   "execution_count": 8,
   "id": "6786bf1c",
   "metadata": {
    "collapsed": true
   },
   "outputs": [
    {
     "data": {
      "text/plain": [
       "array([[ 0.00000000e+00, -2.99792458e+02],\n",
       "       [ 0.00000000e+00,  5.59693160e-02],\n",
       "       [ 0.00000000e+00,  7.94055028e-02],\n",
       "       [ 0.00000000e+00,  7.46931492e-02],\n",
       "       [ 0.00000000e+00,  4.75966593e-02],\n",
       "       [ 0.00000000e+00,  4.10975084e-03],\n",
       "       [ 0.00000000e+00, -5.03044740e-02],\n",
       "       [ 0.00000000e+00, -1.11095563e-01],\n",
       "       [ 0.00000000e+00, -1.74727225e-01],\n",
       "       [ 0.00000000e+00, -2.38609703e-01],\n",
       "       [ 0.00000000e+00, -3.00952505e-01],\n",
       "       [ 0.00000000e+00, -3.60596078e-01],\n",
       "       [ 0.00000000e+00, -4.16854411e-01],\n",
       "       [ 0.00000000e+00, -4.69382392e-01],\n",
       "       [ 0.00000000e+00, -5.18071022e-01],\n",
       "       [ 0.00000000e+00, -5.62968299e-01],\n",
       "       [ 0.00000000e+00, -6.04221501e-01],\n",
       "       [ 0.00000000e+00, -6.42036258e-01],\n",
       "       [ 0.00000000e+00, -6.76648293e-01],\n",
       "       [ 0.00000000e+00, -7.08304431e-01],\n",
       "       [ 0.00000000e+00, -7.37250244e-01],\n",
       "       [ 0.00000000e+00, -7.63722346e-01],\n",
       "       [ 0.00000000e+00, -7.87943908e-01],\n",
       "       [ 0.00000000e+00, -8.10122323e-01],\n",
       "       [ 0.00000000e+00, -8.30448329e-01],\n",
       "       [ 0.00000000e+00, -8.49096031e-01],\n",
       "       [ 0.00000000e+00, -8.66223511e-01],\n",
       "       [ 0.00000000e+00, -8.81973754e-01],\n",
       "       [ 0.00000000e+00, -8.96475754e-01],\n",
       "       [ 0.00000000e+00, -9.09845681e-01],\n",
       "       [ 0.00000000e+00, -9.22188037e-01],\n",
       "       [ 0.00000000e+00, -9.33596783e-01],\n",
       "       [ 0.00000000e+00, -9.44156389e-01],\n",
       "       [ 0.00000000e+00, -9.53942804e-01],\n",
       "       [ 0.00000000e+00, -9.63024346e-01],\n",
       "       [ 0.00000000e+00, -9.71462509e-01],\n",
       "       [ 0.00000000e+00, -9.79312686e-01],\n",
       "       [ 0.00000000e+00, -9.86624821e-01],\n",
       "       [ 0.00000000e+00, -9.93443989e-01],\n",
       "       [ 0.00000000e+00, -9.99810914e-01],\n",
       "       [ 0.00000000e+00, -1.00576243e+00],\n",
       "       [ 0.00000000e+00, -1.01133190e+00],\n",
       "       [ 0.00000000e+00, -1.01654955e+00],\n",
       "       [ 0.00000000e+00, -1.02144284e+00],\n",
       "       [ 0.00000000e+00, -1.02603672e+00],\n",
       "       [ 0.00000000e+00, -1.03035389e+00],\n",
       "       [ 0.00000000e+00, -1.03441503e+00],\n",
       "       [ 0.00000000e+00, -1.03823901e+00],\n",
       "       [ 0.00000000e+00, -1.04184305e+00],\n",
       "       [ 0.00000000e+00, -1.04524291e+00],\n",
       "       [ 0.00000000e+00, -1.04845301e+00],\n",
       "       [ 0.00000000e+00, -1.05148658e+00],\n",
       "       [ 0.00000000e+00, -1.05435573e+00],\n",
       "       [ 0.00000000e+00, -1.05707160e+00],\n",
       "       [ 0.00000000e+00, -1.05964445e+00],\n",
       "       [ 0.00000000e+00, -1.06208371e+00],\n",
       "       [ 0.00000000e+00, -1.06439807e+00],\n",
       "       [ 0.00000000e+00, -1.06659555e+00],\n",
       "       [ 0.00000000e+00, -1.06868356e+00],\n",
       "       [ 0.00000000e+00, -1.07066894e+00],\n",
       "       [ 0.00000000e+00, -1.07255804e+00],\n",
       "       [ 0.00000000e+00, -1.07435673e+00],\n",
       "       [ 0.00000000e+00, -1.07607045e+00],\n",
       "       [ 0.00000000e+00, -1.07770424e+00],\n",
       "       [ 0.00000000e+00, -1.07926281e+00],\n",
       "       [ 0.00000000e+00, -1.08075052e+00],\n",
       "       [ 0.00000000e+00, -1.08217143e+00],\n",
       "       [ 0.00000000e+00, -1.08352932e+00],\n",
       "       [ 0.00000000e+00, -1.08482772e+00],\n",
       "       [ 0.00000000e+00, -1.08606991e+00],\n",
       "       [ 0.00000000e+00, -1.08725898e+00],\n",
       "       [ 0.00000000e+00, -1.08839778e+00],\n",
       "       [ 0.00000000e+00, -1.08948900e+00],\n",
       "       [ 0.00000000e+00, -1.09053516e+00],\n",
       "       [ 0.00000000e+00, -1.09153860e+00],\n",
       "       [ 0.00000000e+00, -1.09250154e+00],\n",
       "       [ 0.00000000e+00, -1.09342604e+00],\n",
       "       [ 0.00000000e+00, -1.09431404e+00],\n",
       "       [ 0.00000000e+00, -1.09516737e+00],\n",
       "       [ 0.00000000e+00, -1.09598774e+00],\n",
       "       [ 0.00000000e+00, -1.09677677e+00],\n",
       "       [ 0.00000000e+00, -1.09753596e+00],\n",
       "       [ 0.00000000e+00, -1.09826676e+00],\n",
       "       [ 0.00000000e+00, -1.09897050e+00],\n",
       "       [ 0.00000000e+00, -1.09964845e+00],\n",
       "       [ 0.00000000e+00, -1.10030182e+00],\n",
       "       [ 0.00000000e+00, -1.10093173e+00],\n",
       "       [ 0.00000000e+00, -1.10153926e+00],\n",
       "       [ 0.00000000e+00, -1.10212540e+00],\n",
       "       [ 0.00000000e+00, -1.10269113e+00],\n",
       "       [ 0.00000000e+00, -1.10323733e+00],\n",
       "       [ 0.00000000e+00, -1.10376487e+00],\n",
       "       [ 0.00000000e+00, -1.10427455e+00],\n",
       "       [ 0.00000000e+00, -1.10476714e+00],\n",
       "       [ 0.00000000e+00, -1.10524338e+00],\n",
       "       [ 0.00000000e+00, -1.10570394e+00],\n",
       "       [ 0.00000000e+00, -1.10614949e+00],\n",
       "       [ 0.00000000e+00, -1.10658064e+00],\n",
       "       [ 0.00000000e+00, -1.10699800e+00],\n",
       "       [ 0.00000000e+00, -1.10740211e+00],\n",
       "       [ 0.00000000e+00, -1.10779352e+00],\n",
       "       [ 0.00000000e+00, -1.10817273e+00],\n",
       "       [ 0.00000000e+00, -1.10854022e+00],\n",
       "       [ 0.00000000e+00, -1.10889646e+00],\n",
       "       [ 0.00000000e+00, -1.10924189e+00],\n",
       "       [ 0.00000000e+00, -1.10957691e+00],\n",
       "       [ 0.00000000e+00, -1.10990193e+00],\n",
       "       [ 0.00000000e+00, -1.11021734e+00],\n",
       "       [ 0.00000000e+00, -1.11052349e+00],\n",
       "       [ 0.00000000e+00, -1.11082072e+00],\n",
       "       [ 0.00000000e+00, -1.11110937e+00],\n",
       "       [ 0.00000000e+00, -1.11138976e+00],\n",
       "       [ 0.00000000e+00, -1.11166218e+00],\n",
       "       [ 0.00000000e+00, -1.11192692e+00],\n",
       "       [ 0.00000000e+00, -1.11218427e+00],\n",
       "       [ 0.00000000e+00, -1.11243447e+00],\n",
       "       [ 0.00000000e+00, -1.11267779e+00],\n",
       "       [ 0.00000000e+00, -1.11291447e+00],\n",
       "       [ 0.00000000e+00, -1.11314473e+00],\n",
       "       [ 0.00000000e+00, -1.11336880e+00],\n",
       "       [ 0.00000000e+00, -1.11358689e+00],\n",
       "       [ 0.00000000e+00, -1.11379920e+00],\n",
       "       [ 0.00000000e+00, -1.11400594e+00],\n",
       "       [ 0.00000000e+00, -1.11420727e+00],\n",
       "       [ 0.00000000e+00, -1.11440340e+00],\n",
       "       [ 0.00000000e+00, -1.11459448e+00],\n",
       "       [ 0.00000000e+00, -1.11478068e+00],\n",
       "       [ 0.00000000e+00, -1.11496217e+00],\n",
       "       [ 0.00000000e+00, -1.11513909e+00],\n",
       "       [ 0.00000000e+00, -1.11531159e+00],\n",
       "       [ 0.00000000e+00, -1.11547981e+00],\n",
       "       [ 0.00000000e+00, -1.11564388e+00],\n",
       "       [ 0.00000000e+00, -1.11580394e+00],\n",
       "       [ 0.00000000e+00, -1.11596012e+00],\n",
       "       [ 0.00000000e+00, -1.11611253e+00],\n",
       "       [ 0.00000000e+00, -1.11626128e+00],\n",
       "       [ 0.00000000e+00, -1.11640650e+00],\n",
       "       [ 0.00000000e+00, -1.11654828e+00],\n",
       "       [ 0.00000000e+00, -1.11668673e+00],\n",
       "       [ 0.00000000e+00, -1.11682196e+00],\n",
       "       [ 0.00000000e+00, -1.11695405e+00],\n",
       "       [ 0.00000000e+00, -1.11708310e+00],\n",
       "       [ 0.00000000e+00, -1.11720920e+00],\n",
       "       [ 0.00000000e+00, -1.11733243e+00],\n",
       "       [ 0.00000000e+00, -1.11745288e+00],\n",
       "       [ 0.00000000e+00, -1.11757063e+00],\n",
       "       [ 0.00000000e+00, -1.11768576e+00],\n",
       "       [ 0.00000000e+00, -1.11779833e+00],\n",
       "       [ 0.00000000e+00, -1.11790843e+00],\n",
       "       [ 0.00000000e+00, -1.11801612e+00],\n",
       "       [ 0.00000000e+00, -1.11812147e+00],\n",
       "       [ 0.00000000e+00, -1.11822454e+00],\n",
       "       [ 0.00000000e+00, -1.11832540e+00],\n",
       "       [ 0.00000000e+00, -1.11842411e+00],\n",
       "       [ 0.00000000e+00, -1.11852073e+00],\n",
       "       [ 0.00000000e+00, -1.11861530e+00],\n",
       "       [ 0.00000000e+00, -1.11870790e+00],\n",
       "       [ 0.00000000e+00, -1.11879856e+00],\n",
       "       [ 0.00000000e+00, -1.11888735e+00],\n",
       "       [ 0.00000000e+00, -1.11897431e+00],\n",
       "       [ 0.00000000e+00, -1.11905949e+00],\n",
       "       [ 0.00000000e+00, -1.11914294e+00],\n",
       "       [ 0.00000000e+00, -1.11922469e+00],\n",
       "       [ 0.00000000e+00, -1.11930483e+00],\n",
       "       [ 0.00000000e+00, -1.11938332e+00],\n",
       "       [ 0.00000000e+00, -1.11946027e+00],\n",
       "       [ 0.00000000e+00, -1.11953569e+00],\n",
       "       [ 0.00000000e+00, -1.11960964e+00],\n",
       "       [ 0.00000000e+00, -1.11968213e+00],\n",
       "       [ 0.00000000e+00, -1.11975322e+00],\n",
       "       [ 0.00000000e+00, -1.11982293e+00],\n",
       "       [ 0.00000000e+00, -1.11989131e+00],\n",
       "       [ 0.00000000e+00, -1.11995837e+00],\n",
       "       [ 0.00000000e+00, -1.12002416e+00],\n",
       "       [ 0.00000000e+00, -1.12008870e+00],\n",
       "       [ 0.00000000e+00, -1.12015203e+00],\n",
       "       [ 0.00000000e+00, -1.12021417e+00],\n",
       "       [ 0.00000000e+00, -1.12027516e+00],\n",
       "       [ 0.00000000e+00, -1.12033501e+00],\n",
       "       [ 0.00000000e+00, -1.12039376e+00],\n",
       "       [ 0.00000000e+00, -1.12045144e+00],\n",
       "       [ 0.00000000e+00, -1.12050806e+00],\n",
       "       [ 0.00000000e+00, -1.12056366e+00],\n",
       "       [ 0.00000000e+00, -1.12061825e+00],\n",
       "       [ 0.00000000e+00, -1.12067187e+00],\n",
       "       [ 0.00000000e+00, -1.12072452e+00],\n",
       "       [ 0.00000000e+00, -1.12077624e+00],\n",
       "       [ 0.00000000e+00, -1.12082704e+00],\n",
       "       [ 0.00000000e+00, -1.12087696e+00],\n",
       "       [ 0.00000000e+00, -1.12092599e+00],\n",
       "       [ 0.00000000e+00, -1.12097418e+00],\n",
       "       [ 0.00000000e+00, -1.12102152e+00],\n",
       "       [ 0.00000000e+00, -1.12106805e+00],\n",
       "       [ 0.00000000e+00, -1.12111379e+00],\n",
       "       [ 0.00000000e+00, -1.12115874e+00],\n",
       "       [ 0.00000000e+00, -1.12120293e+00],\n",
       "       [ 0.00000000e+00, -1.12124637e+00],\n",
       "       [ 0.00000000e+00, -1.12128907e+00],\n",
       "       [ 0.00000000e+00, -1.12133107e+00],\n",
       "       [ 0.00000000e+00, -1.12137236e+00],\n",
       "       [ 0.00000000e+00, -1.12141297e+00]])"
      ]
     },
     "execution_count": 8,
     "metadata": {},
     "output_type": "execute_result"
    }
   ],
   "source": [
    "chiOfz_T - chiT"
   ]
  },
  {
   "cell_type": "code",
   "execution_count": 9,
   "id": "145e9c08",
   "metadata": {},
   "outputs": [
    {
     "name": "stdout",
     "output_type": "stream",
     "text": [
      "201 chi z values from chi_min=chi(z= 0.0 ) = 0.0  Mpc/h to chi_Max=chi(z= 20.0 ) = 7519.607566466258 Mpc/h\n"
     ]
    }
   ],
   "source": [
    "chi_Max = (chiOfz_T[-1])[1] # gives the i,j element of the array\n",
    "            # (in this case, the element of the last row and last column, which is always the second column in the matrix)\n",
    "chi_min = (chiOfz_T[0])[1]\n",
    "\n",
    "print(len(chiOfz_T), \"chi z values from chi_min=chi(z=\",zT[0], \") =\", chi_min, \" Mpc/h to chi_Max=chi(z=\", zT[-1], \") =\",chi_Max, \"Mpc/h\")"
   ]
  },
  {
   "cell_type": "code",
   "execution_count": 10,
   "id": "26443080",
   "metadata": {},
   "outputs": [],
   "source": [
    "#from scipy.interpolate import interp1d\n",
    "from scipy.interpolate import CubicSpline\n",
    "\n",
    "chiOfz = CubicSpline(zT,chi_y) # interpolation of chiOfz_T \n",
    "#(but instead of using attribute \".interpolate\" on chiOfz_T, each coulmn is used)"
   ]
  },
  {
   "cell_type": "code",
   "execution_count": 11,
   "id": "c79b858c",
   "metadata": {},
   "outputs": [
    {
     "data": {
      "image/png": "[encoded data removed]",
      "text/plain": [
       "<Figure size 432x288 with 1 Axes>"
      ]
     },
     "metadata": {
      "needs_background": "light"
     },
     "output_type": "display_data"
    }
   ],
   "source": [
    "chi_inter = chiOfz(zT) #use interpolated function returned by \"CubicSpline\"\n",
    "\n",
    "plt.plot(zT,chi_inter, \"-\")\n",
    "plt.plot(chiT_x,chi_inter_new, \"-\")\n",
    "plt.title(r'Comoving radial distance $\\chi(z)$ ')\n",
    "plt.xlabel(r\"$z$\")\n",
    "plt.ylabel(r\"$\\chi(z)$ [Mpc/h]\")\n",
    "\n",
    "plt.xlim(0, zMax)\n",
    "\n",
    "plt.show()"
   ]
  },
  {
   "cell_type": "markdown",
   "id": "30b6f0e4",
   "metadata": {},
   "source": [
    "### Compute the inverse   $z(\\chi)$, and the scale factor $a(\\chi)=\\frac{1}{1+z(\\chi)}$"
   ]
  },
  {
   "cell_type": "code",
   "execution_count": 12,
   "id": "a2756c52",
   "metadata": {
    "collapsed": true
   },
   "outputs": [
    {
     "data": {
      "text/plain": [
       "array([[0.00000000e+00, 0.00000000e+00],\n",
       "       [2.92918141e+02, 1.00000000e-01],\n",
       "       [5.71706267e+02, 2.00000000e-01],\n",
       "       [8.36077809e+02, 3.00000000e-01],\n",
       "       [1.08608234e+03, 4.00000000e-01],\n",
       "       [1.32203778e+03, 5.00000000e-01],\n",
       "       [1.54445940e+03, 6.00000000e-01],\n",
       "       [1.75399471e+03, 7.00000000e-01],\n",
       "       [1.95136896e+03, 8.00000000e-01],\n",
       "       [2.13734262e+03, 9.00000000e-01],\n",
       "       [2.31268016e+03, 1.00000000e+00],\n",
       "       [2.47812830e+03, 1.10000000e+00],\n",
       "       [2.63440195e+03, 1.20000000e+00],\n",
       "       [2.78217580e+03, 1.30000000e+00],\n",
       "       [2.92208005e+03, 1.40000000e+00],\n",
       "       [3.05469904e+03, 1.50000000e+00],\n",
       "       [3.18057170e+03, 1.60000000e+00],\n",
       "       [3.30019333e+03, 1.70000000e+00],\n",
       "       [3.41401798e+03, 1.80000000e+00],\n",
       "       [3.52246130e+03, 1.90000000e+00],\n",
       "       [3.62590345e+03, 2.00000000e+00],\n",
       "       [3.72469208e+03, 2.10000000e+00],\n",
       "       [3.81914510e+03, 2.20000000e+00],\n",
       "       [3.90955344e+03, 2.30000000e+00],\n",
       "       [3.99618345e+03, 2.40000000e+00],\n",
       "       [4.07927927e+03, 2.50000000e+00],\n",
       "       [4.15906485e+03, 2.60000000e+00],\n",
       "       [4.23574589e+03, 2.70000000e+00],\n",
       "       [4.30951156e+03, 2.80000000e+00],\n",
       "       [4.38053601e+03, 2.90000000e+00],\n",
       "       [4.44897981e+03, 3.00000000e+00],\n",
       "       [4.51499118e+03, 3.10000000e+00],\n",
       "       [4.57870712e+03, 3.20000000e+00],\n",
       "       [4.64025445e+03, 3.30000000e+00],\n",
       "       [4.69975069e+03, 3.40000000e+00],\n",
       "       [4.75730487e+03, 3.50000000e+00],\n",
       "       [4.81301834e+03, 3.60000000e+00],\n",
       "       [4.86698534e+03, 3.70000000e+00],\n",
       "       [4.91929369e+03, 3.80000000e+00],\n",
       "       [4.97002526e+03, 3.90000000e+00],\n",
       "       [5.01925649e+03, 4.00000000e+00],\n",
       "       [5.06705885e+03, 4.10000000e+00],\n",
       "       [5.11349920e+03, 4.20000000e+00],\n",
       "       [5.15864019e+03, 4.30000000e+00],\n",
       "       [5.20254057e+03, 4.40000000e+00],\n",
       "       [5.24525550e+03, 4.50000000e+00],\n",
       "       [5.28683679e+03, 4.60000000e+00],\n",
       "       [5.32733322e+03, 4.70000000e+00],\n",
       "       [5.36679068e+03, 4.80000000e+00],\n",
       "       [5.40525246e+03, 4.90000000e+00],\n",
       "       [5.44275935e+03, 5.00000000e+00],\n",
       "       [5.47934990e+03, 5.10000000e+00],\n",
       "       [5.51506052e+03, 5.20000000e+00],\n",
       "       [5.54992567e+03, 5.30000000e+00],\n",
       "       [5.58397793e+03, 5.40000000e+00],\n",
       "       [5.61724821e+03, 5.50000000e+00],\n",
       "       [5.64976577e+03, 5.60000000e+00],\n",
       "       [5.68155840e+03, 5.70000000e+00],\n",
       "       [5.71265248e+03, 5.80000000e+00],\n",
       "       [5.74307308e+03, 5.90000000e+00],\n",
       "       [5.77284402e+03, 6.00000000e+00],\n",
       "       [5.80198798e+03, 6.10000000e+00],\n",
       "       [5.83052656e+03, 6.20000000e+00],\n",
       "       [5.85848032e+03, 6.30000000e+00],\n",
       "       [5.88586887e+03, 6.40000000e+00],\n",
       "       [5.91271093e+03, 6.50000000e+00],\n",
       "       [5.93902435e+03, 6.60000000e+00],\n",
       "       [5.96482618e+03, 6.70000000e+00],\n",
       "       [5.99013273e+03, 6.80000000e+00],\n",
       "       [6.01495957e+03, 6.90000000e+00],\n",
       "       [6.03932163e+03, 7.00000000e+00],\n",
       "       [6.06323316e+03, 7.10000000e+00],\n",
       "       [6.08670785e+03, 7.20000000e+00],\n",
       "       [6.10975878e+03, 7.30000000e+00],\n",
       "       [6.13239852e+03, 7.40000000e+00],\n",
       "       [6.15463911e+03, 7.50000000e+00],\n",
       "       [6.17649211e+03, 7.60000000e+00],\n",
       "       [6.19796860e+03, 7.70000000e+00],\n",
       "       [6.21907926e+03, 7.80000000e+00],\n",
       "       [6.23983432e+03, 7.90000000e+00],\n",
       "       [6.26024363e+03, 8.00000000e+00],\n",
       "       [6.28031666e+03, 8.10000000e+00],\n",
       "       [6.30006252e+03, 8.20000000e+00],\n",
       "       [6.31948998e+03, 8.30000000e+00],\n",
       "       [6.33860750e+03, 8.40000000e+00],\n",
       "       [6.35742319e+03, 8.50000000e+00],\n",
       "       [6.37594492e+03, 8.60000000e+00],\n",
       "       [6.39418023e+03, 8.70000000e+00],\n",
       "       [6.41213643e+03, 8.80000000e+00],\n",
       "       [6.42982053e+03, 8.90000000e+00],\n",
       "       [6.44723935e+03, 9.00000000e+00],\n",
       "       [6.46439942e+03, 9.10000000e+00],\n",
       "       [6.48130708e+03, 9.20000000e+00],\n",
       "       [6.49796845e+03, 9.30000000e+00],\n",
       "       [6.51438944e+03, 9.40000000e+00],\n",
       "       [6.53057576e+03, 9.50000000e+00],\n",
       "       [6.54653295e+03, 9.60000000e+00],\n",
       "       [6.56226635e+03, 9.70000000e+00],\n",
       "       [6.57778114e+03, 9.80000000e+00],\n",
       "       [6.59308232e+03, 9.90000000e+00],\n",
       "       [6.60817474e+03, 1.00000000e+01],\n",
       "       [6.62306310e+03, 1.01000000e+01],\n",
       "       [6.63775196e+03, 1.02000000e+01],\n",
       "       [6.65224572e+03, 1.03000000e+01],\n",
       "       [6.66654866e+03, 1.04000000e+01],\n",
       "       [6.68066492e+03, 1.05000000e+01],\n",
       "       [6.69459853e+03, 1.06000000e+01],\n",
       "       [6.70835338e+03, 1.07000000e+01],\n",
       "       [6.72193327e+03, 1.08000000e+01],\n",
       "       [6.73534185e+03, 1.09000000e+01],\n",
       "       [6.74858272e+03, 1.10000000e+01],\n",
       "       [6.76165931e+03, 1.11000000e+01],\n",
       "       [6.77457501e+03, 1.12000000e+01],\n",
       "       [6.78733308e+03, 1.13000000e+01],\n",
       "       [6.79993670e+03, 1.14000000e+01],\n",
       "       [6.81238896e+03, 1.15000000e+01],\n",
       "       [6.82469285e+03, 1.16000000e+01],\n",
       "       [6.83685131e+03, 1.17000000e+01],\n",
       "       [6.84886716e+03, 1.18000000e+01],\n",
       "       [6.86074318e+03, 1.19000000e+01],\n",
       "       [6.87248205e+03, 1.20000000e+01],\n",
       "       [6.88408639e+03, 1.21000000e+01],\n",
       "       [6.89555874e+03, 1.22000000e+01],\n",
       "       [6.90690160e+03, 1.23000000e+01],\n",
       "       [6.91811737e+03, 1.24000000e+01],\n",
       "       [6.92920841e+03, 1.25000000e+01],\n",
       "       [6.94017701e+03, 1.26000000e+01],\n",
       "       [6.95102541e+03, 1.27000000e+01],\n",
       "       [6.96175578e+03, 1.28000000e+01],\n",
       "       [6.97237025e+03, 1.29000000e+01],\n",
       "       [6.98287089e+03, 1.30000000e+01],\n",
       "       [6.99325971e+03, 1.31000000e+01],\n",
       "       [7.00353869e+03, 1.32000000e+01],\n",
       "       [7.01370975e+03, 1.33000000e+01],\n",
       "       [7.02377476e+03, 1.34000000e+01],\n",
       "       [7.03373555e+03, 1.35000000e+01],\n",
       "       [7.04359390e+03, 1.36000000e+01],\n",
       "       [7.05335156e+03, 1.37000000e+01],\n",
       "       [7.06301023e+03, 1.38000000e+01],\n",
       "       [7.07257157e+03, 1.39000000e+01],\n",
       "       [7.08203720e+03, 1.40000000e+01],\n",
       "       [7.09140872e+03, 1.41000000e+01],\n",
       "       [7.10068766e+03, 1.42000000e+01],\n",
       "       [7.10987554e+03, 1.43000000e+01],\n",
       "       [7.11897384e+03, 1.44000000e+01],\n",
       "       [7.12798401e+03, 1.45000000e+01],\n",
       "       [7.13690746e+03, 1.46000000e+01],\n",
       "       [7.14574556e+03, 1.47000000e+01],\n",
       "       [7.15449968e+03, 1.48000000e+01],\n",
       "       [7.16317113e+03, 1.49000000e+01],\n",
       "       [7.17176120e+03, 1.50000000e+01],\n",
       "       [7.18027116e+03, 1.51000000e+01],\n",
       "       [7.18870225e+03, 1.52000000e+01],\n",
       "       [7.19705567e+03, 1.53000000e+01],\n",
       "       [7.20533262e+03, 1.54000000e+01],\n",
       "       [7.21353425e+03, 1.55000000e+01],\n",
       "       [7.22166169e+03, 1.56000000e+01],\n",
       "       [7.22971605e+03, 1.57000000e+01],\n",
       "       [7.23769843e+03, 1.58000000e+01],\n",
       "       [7.24560990e+03, 1.59000000e+01],\n",
       "       [7.25345148e+03, 1.60000000e+01],\n",
       "       [7.26122421e+03, 1.61000000e+01],\n",
       "       [7.26892909e+03, 1.62000000e+01],\n",
       "       [7.27656710e+03, 1.63000000e+01],\n",
       "       [7.28413919e+03, 1.64000000e+01],\n",
       "       [7.29164632e+03, 1.65000000e+01],\n",
       "       [7.29908940e+03, 1.66000000e+01],\n",
       "       [7.30646935e+03, 1.67000000e+01],\n",
       "       [7.31378704e+03, 1.68000000e+01],\n",
       "       [7.32104335e+03, 1.69000000e+01],\n",
       "       [7.32823913e+03, 1.70000000e+01],\n",
       "       [7.33537522e+03, 1.71000000e+01],\n",
       "       [7.34245243e+03, 1.72000000e+01],\n",
       "       [7.34947158e+03, 1.73000000e+01],\n",
       "       [7.35643345e+03, 1.74000000e+01],\n",
       "       [7.36333882e+03, 1.75000000e+01],\n",
       "       [7.37018845e+03, 1.76000000e+01],\n",
       "       [7.37698308e+03, 1.77000000e+01],\n",
       "       [7.38372344e+03, 1.78000000e+01],\n",
       "       [7.39041025e+03, 1.79000000e+01],\n",
       "       [7.39704423e+03, 1.80000000e+01],\n",
       "       [7.40362605e+03, 1.81000000e+01],\n",
       "       [7.41015640e+03, 1.82000000e+01],\n",
       "       [7.41663595e+03, 1.83000000e+01],\n",
       "       [7.42306535e+03, 1.84000000e+01],\n",
       "       [7.42944525e+03, 1.85000000e+01],\n",
       "       [7.43577627e+03, 1.86000000e+01],\n",
       "       [7.44205904e+03, 1.87000000e+01],\n",
       "       [7.44829417e+03, 1.88000000e+01],\n",
       "       [7.45448226e+03, 1.89000000e+01],\n",
       "       [7.46062389e+03, 1.90000000e+01],\n",
       "       [7.46671964e+03, 1.91000000e+01],\n",
       "       [7.47277008e+03, 1.92000000e+01],\n",
       "       [7.47877578e+03, 1.93000000e+01],\n",
       "       [7.48473727e+03, 1.94000000e+01],\n",
       "       [7.49065510e+03, 1.95000000e+01],\n",
       "       [7.49652980e+03, 1.96000000e+01],\n",
       "       [7.50236188e+03, 1.97000000e+01],\n",
       "       [7.50815187e+03, 1.98000000e+01],\n",
       "       [7.51390027e+03, 1.99000000e+01],\n",
       "       [7.51960757e+03, 2.00000000e+01]])"
      ]
     },
     "execution_count": 12,
     "metadata": {},
     "output_type": "execute_result"
    }
   ],
   "source": [
    "# array of lists, with all the i values of y and zT, respectively\n",
    "\n",
    "zOfchi_T = np.concatenate((chi_y.reshape(-1,1),zT.reshape(-1,1)), axis = 1)\n",
    "zOfchi_T # inverse of chi(z)"
   ]
  },
  {
   "cell_type": "code",
   "execution_count": 13,
   "id": "f7813e81",
   "metadata": {},
   "outputs": [],
   "source": [
    "zOfchi = CubicSpline(chi_y,zT)\n",
    "z_interp = zOfchi(chi_y) #use interpolated function returned by \"interp1d\" again"
   ]
  },
  {
   "cell_type": "code",
   "execution_count": 14,
   "id": "2ca7bf89",
   "metadata": {
    "collapsed": true
   },
   "outputs": [
    {
     "data": {
      "text/plain": [
       "array([[0.00000000e+00, 1.00000000e+00],\n",
       "       [2.92918141e+02, 9.09090909e-01],\n",
       "       [5.71706267e+02, 8.33333333e-01],\n",
       "       [8.36077809e+02, 7.69230769e-01],\n",
       "       [1.08608234e+03, 7.14285714e-01],\n",
       "       [1.32203778e+03, 6.66666667e-01],\n",
       "       [1.54445940e+03, 6.25000000e-01],\n",
       "       [1.75399471e+03, 5.88235294e-01],\n",
       "       [1.95136896e+03, 5.55555556e-01],\n",
       "       [2.13734262e+03, 5.26315789e-01],\n",
       "       [2.31268016e+03, 5.00000000e-01],\n",
       "       [2.47812830e+03, 4.76190476e-01],\n",
       "       [2.63440195e+03, 4.54545455e-01],\n",
       "       [2.78217580e+03, 4.34782609e-01],\n",
       "       [2.92208005e+03, 4.16666667e-01],\n",
       "       [3.05469904e+03, 4.00000000e-01],\n",
       "       [3.18057170e+03, 3.84615385e-01],\n",
       "       [3.30019333e+03, 3.70370370e-01],\n",
       "       [3.41401798e+03, 3.57142857e-01],\n",
       "       [3.52246130e+03, 3.44827586e-01],\n",
       "       [3.62590345e+03, 3.33333333e-01],\n",
       "       [3.72469208e+03, 3.22580645e-01],\n",
       "       [3.81914510e+03, 3.12500000e-01],\n",
       "       [3.90955344e+03, 3.03030303e-01],\n",
       "       [3.99618345e+03, 2.94117647e-01],\n",
       "       [4.07927927e+03, 2.85714286e-01],\n",
       "       [4.15906485e+03, 2.77777778e-01],\n",
       "       [4.23574589e+03, 2.70270270e-01],\n",
       "       [4.30951156e+03, 2.63157895e-01],\n",
       "       [4.38053601e+03, 2.56410256e-01],\n",
       "       [4.44897981e+03, 2.50000000e-01],\n",
       "       [4.51499118e+03, 2.43902439e-01],\n",
       "       [4.57870712e+03, 2.38095238e-01],\n",
       "       [4.64025445e+03, 2.32558140e-01],\n",
       "       [4.69975069e+03, 2.27272727e-01],\n",
       "       [4.75730487e+03, 2.22222222e-01],\n",
       "       [4.81301834e+03, 2.17391304e-01],\n",
       "       [4.86698534e+03, 2.12765957e-01],\n",
       "       [4.91929369e+03, 2.08333333e-01],\n",
       "       [4.97002526e+03, 2.04081633e-01],\n",
       "       [5.01925649e+03, 2.00000000e-01],\n",
       "       [5.06705885e+03, 1.96078431e-01],\n",
       "       [5.11349920e+03, 1.92307692e-01],\n",
       "       [5.15864019e+03, 1.88679245e-01],\n",
       "       [5.20254057e+03, 1.85185185e-01],\n",
       "       [5.24525550e+03, 1.81818182e-01],\n",
       "       [5.28683679e+03, 1.78571429e-01],\n",
       "       [5.32733322e+03, 1.75438596e-01],\n",
       "       [5.36679068e+03, 1.72413793e-01],\n",
       "       [5.40525246e+03, 1.69491525e-01],\n",
       "       [5.44275935e+03, 1.66666667e-01],\n",
       "       [5.47934990e+03, 1.63934426e-01],\n",
       "       [5.51506052e+03, 1.61290323e-01],\n",
       "       [5.54992567e+03, 1.58730159e-01],\n",
       "       [5.58397793e+03, 1.56250000e-01],\n",
       "       [5.61724821e+03, 1.53846154e-01],\n",
       "       [5.64976577e+03, 1.51515152e-01],\n",
       "       [5.68155840e+03, 1.49253731e-01],\n",
       "       [5.71265248e+03, 1.47058824e-01],\n",
       "       [5.74307308e+03, 1.44927536e-01],\n",
       "       [5.77284402e+03, 1.42857143e-01],\n",
       "       [5.80198798e+03, 1.40845070e-01],\n",
       "       [5.83052656e+03, 1.38888889e-01],\n",
       "       [5.85848032e+03, 1.36986301e-01],\n",
       "       [5.88586887e+03, 1.35135135e-01],\n",
       "       [5.91271093e+03, 1.33333333e-01],\n",
       "       [5.93902435e+03, 1.31578947e-01],\n",
       "       [5.96482618e+03, 1.29870130e-01],\n",
       "       [5.99013273e+03, 1.28205128e-01],\n",
       "       [6.01495957e+03, 1.26582278e-01],\n",
       "       [6.03932163e+03, 1.25000000e-01],\n",
       "       [6.06323316e+03, 1.23456790e-01],\n",
       "       [6.08670785e+03, 1.21951220e-01],\n",
       "       [6.10975878e+03, 1.20481928e-01],\n",
       "       [6.13239852e+03, 1.19047619e-01],\n",
       "       [6.15463911e+03, 1.17647059e-01],\n",
       "       [6.17649211e+03, 1.16279070e-01],\n",
       "       [6.19796860e+03, 1.14942529e-01],\n",
       "       [6.21907926e+03, 1.13636364e-01],\n",
       "       [6.23983432e+03, 1.12359551e-01],\n",
       "       [6.26024363e+03, 1.11111111e-01],\n",
       "       [6.28031666e+03, 1.09890110e-01],\n",
       "       [6.30006252e+03, 1.08695652e-01],\n",
       "       [6.31948998e+03, 1.07526882e-01],\n",
       "       [6.33860750e+03, 1.06382979e-01],\n",
       "       [6.35742319e+03, 1.05263158e-01],\n",
       "       [6.37594492e+03, 1.04166667e-01],\n",
       "       [6.39418023e+03, 1.03092784e-01],\n",
       "       [6.41213643e+03, 1.02040816e-01],\n",
       "       [6.42982053e+03, 1.01010101e-01],\n",
       "       [6.44723935e+03, 1.00000000e-01],\n",
       "       [6.46439942e+03, 9.90099010e-02],\n",
       "       [6.48130708e+03, 9.80392157e-02],\n",
       "       [6.49796845e+03, 9.70873786e-02],\n",
       "       [6.51438944e+03, 9.61538462e-02],\n",
       "       [6.53057576e+03, 9.52380952e-02],\n",
       "       [6.54653295e+03, 9.43396226e-02],\n",
       "       [6.56226635e+03, 9.34579439e-02],\n",
       "       [6.57778114e+03, 9.25925926e-02],\n",
       "       [6.59308232e+03, 9.17431193e-02],\n",
       "       [6.60817474e+03, 9.09090909e-02],\n",
       "       [6.62306310e+03, 9.00900901e-02],\n",
       "       [6.63775196e+03, 8.92857143e-02],\n",
       "       [6.65224572e+03, 8.84955752e-02],\n",
       "       [6.66654866e+03, 8.77192982e-02],\n",
       "       [6.68066492e+03, 8.69565217e-02],\n",
       "       [6.69459853e+03, 8.62068966e-02],\n",
       "       [6.70835338e+03, 8.54700855e-02],\n",
       "       [6.72193327e+03, 8.47457627e-02],\n",
       "       [6.73534185e+03, 8.40336134e-02],\n",
       "       [6.74858272e+03, 8.33333333e-02],\n",
       "       [6.76165931e+03, 8.26446281e-02],\n",
       "       [6.77457501e+03, 8.19672131e-02],\n",
       "       [6.78733308e+03, 8.13008130e-02],\n",
       "       [6.79993670e+03, 8.06451613e-02],\n",
       "       [6.81238896e+03, 8.00000000e-02],\n",
       "       [6.82469285e+03, 7.93650794e-02],\n",
       "       [6.83685131e+03, 7.87401575e-02],\n",
       "       [6.84886716e+03, 7.81250000e-02],\n",
       "       [6.86074318e+03, 7.75193798e-02],\n",
       "       [6.87248205e+03, 7.69230769e-02],\n",
       "       [6.88408639e+03, 7.63358779e-02],\n",
       "       [6.89555874e+03, 7.57575758e-02],\n",
       "       [6.90690160e+03, 7.51879699e-02],\n",
       "       [6.91811737e+03, 7.46268657e-02],\n",
       "       [6.92920841e+03, 7.40740741e-02],\n",
       "       [6.94017701e+03, 7.35294118e-02],\n",
       "       [6.95102541e+03, 7.29927007e-02],\n",
       "       [6.96175578e+03, 7.24637681e-02],\n",
       "       [6.97237025e+03, 7.19424460e-02],\n",
       "       [6.98287089e+03, 7.14285714e-02],\n",
       "       [6.99325971e+03, 7.09219858e-02],\n",
       "       [7.00353869e+03, 7.04225352e-02],\n",
       "       [7.01370975e+03, 6.99300699e-02],\n",
       "       [7.02377476e+03, 6.94444444e-02],\n",
       "       [7.03373555e+03, 6.89655172e-02],\n",
       "       [7.04359390e+03, 6.84931507e-02],\n",
       "       [7.05335156e+03, 6.80272109e-02],\n",
       "       [7.06301023e+03, 6.75675676e-02],\n",
       "       [7.07257157e+03, 6.71140940e-02],\n",
       "       [7.08203720e+03, 6.66666667e-02],\n",
       "       [7.09140872e+03, 6.62251656e-02],\n",
       "       [7.10068766e+03, 6.57894737e-02],\n",
       "       [7.10987554e+03, 6.53594771e-02],\n",
       "       [7.11897384e+03, 6.49350649e-02],\n",
       "       [7.12798401e+03, 6.45161290e-02],\n",
       "       [7.13690746e+03, 6.41025641e-02],\n",
       "       [7.14574556e+03, 6.36942675e-02],\n",
       "       [7.15449968e+03, 6.32911392e-02],\n",
       "       [7.16317113e+03, 6.28930818e-02],\n",
       "       [7.17176120e+03, 6.25000000e-02],\n",
       "       [7.18027116e+03, 6.21118012e-02],\n",
       "       [7.18870225e+03, 6.17283951e-02],\n",
       "       [7.19705567e+03, 6.13496933e-02],\n",
       "       [7.20533262e+03, 6.09756098e-02],\n",
       "       [7.21353425e+03, 6.06060606e-02],\n",
       "       [7.22166169e+03, 6.02409639e-02],\n",
       "       [7.22971605e+03, 5.98802395e-02],\n",
       "       [7.23769843e+03, 5.95238095e-02],\n",
       "       [7.24560990e+03, 5.91715976e-02],\n",
       "       [7.25345148e+03, 5.88235294e-02],\n",
       "       [7.26122421e+03, 5.84795322e-02],\n",
       "       [7.26892909e+03, 5.81395349e-02],\n",
       "       [7.27656710e+03, 5.78034682e-02],\n",
       "       [7.28413919e+03, 5.74712644e-02],\n",
       "       [7.29164632e+03, 5.71428571e-02],\n",
       "       [7.29908940e+03, 5.68181818e-02],\n",
       "       [7.30646935e+03, 5.64971751e-02],\n",
       "       [7.31378704e+03, 5.61797753e-02],\n",
       "       [7.32104335e+03, 5.58659218e-02],\n",
       "       [7.32823913e+03, 5.55555556e-02],\n",
       "       [7.33537522e+03, 5.52486188e-02],\n",
       "       [7.34245243e+03, 5.49450549e-02],\n",
       "       [7.34947158e+03, 5.46448087e-02],\n",
       "       [7.35643345e+03, 5.43478261e-02],\n",
       "       [7.36333882e+03, 5.40540541e-02],\n",
       "       [7.37018845e+03, 5.37634409e-02],\n",
       "       [7.37698308e+03, 5.34759358e-02],\n",
       "       [7.38372344e+03, 5.31914894e-02],\n",
       "       [7.39041025e+03, 5.29100529e-02],\n",
       "       [7.39704423e+03, 5.26315789e-02],\n",
       "       [7.40362605e+03, 5.23560209e-02],\n",
       "       [7.41015640e+03, 5.20833333e-02],\n",
       "       [7.41663595e+03, 5.18134715e-02],\n",
       "       [7.42306535e+03, 5.15463918e-02],\n",
       "       [7.42944525e+03, 5.12820513e-02],\n",
       "       [7.43577627e+03, 5.10204082e-02],\n",
       "       [7.44205904e+03, 5.07614213e-02],\n",
       "       [7.44829417e+03, 5.05050505e-02],\n",
       "       [7.45448226e+03, 5.02512563e-02],\n",
       "       [7.46062389e+03, 5.00000000e-02],\n",
       "       [7.46671964e+03, 4.97512438e-02],\n",
       "       [7.47277008e+03, 4.95049505e-02],\n",
       "       [7.47877578e+03, 4.92610837e-02],\n",
       "       [7.48473727e+03, 4.90196078e-02],\n",
       "       [7.49065510e+03, 4.87804878e-02],\n",
       "       [7.49652980e+03, 4.85436893e-02],\n",
       "       [7.50236188e+03, 4.83091787e-02],\n",
       "       [7.50815187e+03, 4.80769231e-02],\n",
       "       [7.51390027e+03, 4.78468900e-02],\n",
       "       [7.51960757e+03, 4.76190476e-02]])"
      ]
     },
     "execution_count": 14,
     "metadata": {},
     "output_type": "execute_result"
    }
   ],
   "source": [
    "# table with a column for the x values of zOfchi and another with 1/(1+zT), the new values of \"y\"\n",
    "aOfchi_y = 1/(1+zT)\n",
    "\n",
    "aOfchi_T = np.concatenate((chi_y.reshape(-1,1),aOfchi_y.reshape(-1,1)), axis = 1)\n",
    "aOfchi_T"
   ]
  },
  {
   "cell_type": "code",
   "execution_count": 15,
   "id": "0302f4bf",
   "metadata": {},
   "outputs": [],
   "source": [
    "aOfchi = CubicSpline(chi_y,aOfchi_y) #scale factor function a(chi) given by the interpolation\n",
    "\n",
    "a_chi = aOfchi(chi_y) #use interpolated function returned by \"interp1d\" again"
   ]
  },
  {
   "cell_type": "code",
   "execution_count": 16,
   "id": "07aeec6a",
   "metadata": {},
   "outputs": [],
   "source": [
    "chi_Maxvalue=np.where(chi_y == chi_Max)[0][0]\n",
    "chi_minvalue=np.where(chi_y == chi_min)[0][0]"
   ]
  },
  {
   "cell_type": "code",
   "execution_count": 17,
   "id": "4f43cd62",
   "metadata": {},
   "outputs": [
    {
     "name": "stdout",
     "output_type": "stream",
     "text": [
      "aOfchi: a(chi) function: \n",
      "a_min =  0.047619047619047616  a_Max =  1.0\n"
     ]
    }
   ],
   "source": [
    "a_min = a_chi[chi_Maxvalue] # i.e., the value with chi_Max= 7519.607 corresponds to the position 200\n",
    "a_Max = a_chi[chi_minvalue] # i.e., the value with chi_min= 0 corresponds to the position 0\n",
    "\n",
    "print(\"aOfchi: a(chi) function: \")\n",
    "print(\"a_min = \", a_min, \" a_Max = \", a_Max)"
   ]
  },
  {
   "cell_type": "code",
   "execution_count": 18,
   "id": "5cafba2f",
   "metadata": {},
   "outputs": [
    {
     "data": {
      "image/png": "[encoded data removed]",
      "text/plain": [
       "<Figure size 432x288 with 1 Axes>"
      ]
     },
     "metadata": {
      "needs_background": "light"
     },
     "output_type": "display_data"
    }
   ],
   "source": [
    "plt.plot(chi_y,z_interp, \"-\")\n",
    "plt.title(r'Inverse of radial comovil distance, $z(\\chi)$ ')\n",
    "plt.xlabel(r\"$\\chi$  [Mpc/h]\")\n",
    "plt.ylabel(r\"$z(\\chi)$\")\n",
    "\n",
    "plt.xlim(0, chi_Max)\n",
    "\n",
    "plt.show()"
   ]
  },
  {
   "cell_type": "code",
   "execution_count": 19,
   "id": "91d85d4d",
   "metadata": {},
   "outputs": [
    {
     "data": {
      "image/png": "[encoded data removed]",
      "text/plain": [
       "<Figure size 432x288 with 1 Axes>"
      ]
     },
     "metadata": {
      "needs_background": "light"
     },
     "output_type": "display_data"
    }
   ],
   "source": [
    "plt.plot(chi_y,a_chi, \"-\")\n",
    "plt.title(r'Scale factor function $a(\\chi)$ ')\n",
    "plt.xlabel(r\"$\\chi$  [Mpc/h]\")\n",
    "plt.ylabel(r\"$a(\\chi)$\")\n",
    "\n",
    "plt.xlim(0, chi_Max)\n",
    "\n",
    "plt.show()"
   ]
  },
  {
   "cell_type": "code",
   "execution_count": 20,
   "id": "09734ff7",
   "metadata": {},
   "outputs": [],
   "source": [
    "# OUTPUTS\n",
    "\n",
    "chiOfzT_backg = chiOfz_T\n",
    "zOfchiT_backg = zOfchi_T\n",
    "aOfchiT_backg = aOfchi_T"
   ]
  },
  {
   "cell_type": "markdown",
   "id": "55581cbe",
   "metadata": {},
   "source": [
    "# Module of Linear Growth\n",
    "\n",
    "### Outputs:\n",
    "\n",
    "DplusOfchi_linG\n",
    "\n",
    "DplusOfa_linG\n",
    "\n",
    "#### Obtain the linear growth function $D_+$ as a function of \"$a$\" and \"$\\chi$\"\n",
    "\n",
    "#### $D_+$ is the fastest growing solution to the equation\n",
    "\n",
    "$$\n",
    "    \\frac{d^2D}{dt^2} + 2H \\frac{dD}{dt} - \\frac{3}{2} \\Omega_M(a) H^2 D = 0.\n",
    "$$\n",
    " \n",
    " But we use **eta = ln(a)** instead of cosmic time t, hence we solve the equation\n",
    " \n",
    " $$\n",
    "     D''[\\eta] + \\left( 2 - \\frac{3}{2 (1+\\frac{(1-\\Omega_M)}{\\Omega_M} e^{3\\eta})} \\right)  D'[\\eta] - \\frac{3}{2 (1+\\frac{(1-\\Omega_M)}{\\Omega_M} e^{3\\eta})} D[\\eta]= 0,\n",
    " $$\n",
    " \n",
    " with proper initial conditions, which are $EdS$ at early times $D(a)=a$. Hence $D[\\eta_{ini}] = e^{\\eta_{ini}}$ and $D'[\\eta_{ini}]=e^{\\eta_{ini}}$.\n",
    " \n",
    "In our convention, $D[today] =1$."
   ]
  },
  {
   "cell_type": "code",
   "execution_count": 21,
   "id": "331385a2",
   "metadata": {},
   "outputs": [],
   "source": [
    "eta_ini = -8\n",
    "eta_fin = 0 # notice today a=1, eta=0\n",
    "Dplus_i = math.exp(eta_ini) # initial condition\n",
    "dDplus_i = math.exp(eta_ini) # initial condition\n",
    "\n",
    "Om_M = OmegaM_in # just to simplify writting"
   ]
  },
  {
   "cell_type": "markdown",
   "id": "43684a8c",
   "metadata": {},
   "source": [
    "### Solving differential equation system in Dp(eta)\n",
    "\n",
    "Convertig a **2nd order ODE** into a **pair** of **1st order ODE** with $Dp\"=(Dp')'\\equiv x'$, i.e., $x \\equiv Dp'$, we have now the system\n",
    "\n",
    "$$\n",
    "   Dp' = x,\n",
    "$$\n",
    "\n",
    "$$\n",
    "    x'[\\eta] + f1[\\eta] x[\\eta]-f2[\\eta] Dp[\\eta]=0,\n",
    "$$\n",
    "\n",
    "where, besides,\n",
    "\n",
    "$$\n",
    "    Dp'[\\eta_{ini}] \\equiv \\frac{dDp[\\eta_{ini}]}{d\\eta},\n",
    "$$\n",
    "$$\n",
    "    Dp[\\eta_{ini}] \\equiv Dp_{ini}.\n",
    "$$\n",
    "\n",
    "S is a function of (x,eta) and represents the second order derivative as a function of the first derivative Dp'=x and the original function Dp."
   ]
  },
  {
   "cell_type": "code",
   "execution_count": 22,
   "id": "1ae57059",
   "metadata": {},
   "outputs": [],
   "source": [
    "# defining functions f1 and f2(eta)\n",
    "def f1(eta):\n",
    "    return 2.0-3.0/(2.0*(1.0+((1.0-Om_M)/Om_M)*math.exp(3.0*eta)))\n",
    "\n",
    "def f2 (eta):\n",
    "    return 3.0/(2.0*(1.0+((1.0-Om_M)/Om_M)*math.exp(3.0*eta)))"
   ]
  },
  {
   "cell_type": "markdown",
   "id": "c0267453",
   "metadata": {},
   "source": [
    "$$\n",
    "     D''[\\eta] + \\left( 2 - \\frac{3}{2 (1+\\frac{(1-\\Omega_M)}{\\Omega_M} e^{3\\eta})} \\right)  D'[\\eta] - \\frac{3}{2 (1+\\frac{(1-\\Omega_M)}{\\Omega_M} e^{3\\eta})} D[\\eta]= 0,\n",
    "$$\n",
    "\n",
    "\n",
    "$$\n",
    "    \\Rightarrow D''[\\eta] + f_1 D'[\\eta] - f_2 D[\\eta] = 0.\n",
    "$$\n",
    "\n",
    "\n",
    "$$\n",
    "    \\therefore \\ \\mbox{ (EDO)    } \\ \\boxed{ D''[\\eta] = - f_1 D'[\\eta] + f_2 D[\\eta]}\n",
    "$$"
   ]
  },
  {
   "cell_type": "code",
   "execution_count": 23,
   "id": "2e7785ba",
   "metadata": {},
   "outputs": [],
   "source": [
    "from scipy.integrate import odeint  # ***** Tratar de buscar mejor método de resolución de ED\n",
    "\n",
    "def S(x,eta):\n",
    "    return [x[1],-f1(eta)*x[1]+f2(eta)*x[0]]"
   ]
  },
  {
   "cell_type": "code",
   "execution_count": 24,
   "id": "7e85f058",
   "metadata": {
    "collapsed": true
   },
   "outputs": [
    {
     "data": {
      "text/plain": [
       "array([3.35462628e-04, 3.70754517e-04, 4.09753949e-04, 4.52838435e-04,\n",
       "       5.00467705e-04, 5.53106351e-04, 6.11282077e-04, 6.75574875e-04,\n",
       "       7.46625007e-04, 8.25146890e-04, 9.11927197e-04, 1.00783673e-03,\n",
       "       1.11383461e-03, 1.23097994e-03, 1.36044470e-03, 1.50352806e-03,\n",
       "       1.66165713e-03, 1.83641897e-03, 2.02955736e-03, 2.24300444e-03,\n",
       "       2.47890092e-03, 2.73961059e-03, 3.02774060e-03, 3.34617277e-03,\n",
       "       3.69809700e-03, 4.08703020e-03, 4.51687077e-03, 4.99191550e-03,\n",
       "       5.51692431e-03, 6.09714702e-03, 6.73839371e-03, 7.44708163e-03,\n",
       "       8.23030097e-03, 9.09589663e-03, 1.00525190e-02, 1.11097512e-02,\n",
       "       1.22781741e-02, 1.35694819e-02, 1.49965954e-02, 1.65737967e-02,\n",
       "       1.83168716e-02, 2.02432591e-02, 2.23722420e-02, 2.47251140e-02,\n",
       "       2.73254263e-02, 3.01991759e-02, 3.33751156e-02, 3.68850093e-02,\n",
       "       4.07639393e-02, 4.50506726e-02, 4.97880229e-02, 5.50232705e-02,\n",
       "       6.08086215e-02, 6.72016824e-02, 7.42660032e-02, 8.20716434e-02,\n",
       "       9.06957513e-02, 1.00223214e-01, 1.10747244e-01, 1.22369987e-01,\n",
       "       1.35203029e-01, 1.49367765e-01, 1.64995508e-01, 1.82227164e-01,\n",
       "       2.01212270e-01, 2.22107038e-01, 2.45070934e-01, 2.70261251e-01,\n",
       "       2.97824857e-01, 3.27886359e-01, 3.60531790e-01, 3.95787619e-01,\n",
       "       4.33595436e-01, 4.73784607e-01, 5.16047414e-01, 5.59923671e-01,\n",
       "       6.04803090e-01, 6.49952035e-01, 6.94565612e-01, 7.37837975e-01,\n",
       "       7.79036460e-01])"
      ]
     },
     "execution_count": 24,
     "metadata": {},
     "output_type": "execute_result"
    }
   ],
   "source": [
    "eta_T = np.linspace(-8.0,0,81, endpoint = True)\n",
    "#print(eta_T[-1])\n",
    "Dplus_sol, dDplus_sol = odeint(S, [Dplus_i, dDplus_i], eta_T).T\n",
    "Dplus_sol         # eje x de DplusOfaT Math   # 4ta cifra "
   ]
  },
  {
   "cell_type": "code",
   "execution_count": 25,
   "id": "3fd1bbfd",
   "metadata": {
    "collapsed": true
   },
   "outputs": [
    {
     "data": {
      "text/plain": [
       "array([4.30612231e-04, 4.75914204e-04, 5.25975317e-04, 5.81280156e-04,\n",
       "       6.42418848e-04, 7.09987760e-04, 7.84664273e-04, 8.67192884e-04,\n",
       "       9.58395461e-04, 1.05918905e-03, 1.17058346e-03, 1.29369648e-03,\n",
       "       1.42975929e-03, 1.58013135e-03, 1.74631711e-03, 1.92998421e-03,\n",
       "       2.13296453e-03, 2.35729529e-03, 2.60521486e-03, 2.87920342e-03,\n",
       "       3.18200886e-03, 3.51666543e-03, 3.88651977e-03, 4.29527107e-03,\n",
       "       4.74701403e-03, 5.24626306e-03, 5.79802230e-03, 6.40780728e-03,\n",
       "       7.08172800e-03, 7.82652332e-03, 8.64965128e-03, 9.55934930e-03,\n",
       "       1.05647186e-02, 1.16758292e-02, 1.29037850e-02, 1.42608874e-02,\n",
       "       1.57607182e-02, 1.74182886e-02, 1.92501843e-02, 2.12747382e-02,\n",
       "       2.35122136e-02, 2.59849957e-02, 2.87178370e-02, 3.17380704e-02,\n",
       "       3.50759273e-02, 3.87647786e-02, 4.28415322e-02, 4.73469615e-02,\n",
       "       5.23260995e-02, 5.78287088e-02, 6.39097468e-02, 7.06299042e-02,\n",
       "       7.80561946e-02, 8.62625639e-02, 9.53305872e-02, 1.05350196e-01,\n",
       "       1.16420419e-01, 1.28650222e-01, 1.42159257e-01, 1.57078639e-01,\n",
       "       1.73551606e-01, 1.91733985e-01, 2.11794333e-01, 2.33913524e-01,\n",
       "       2.58283509e-01, 2.85104805e-01, 3.14582111e-01, 3.46917333e-01,\n",
       "       3.82298997e-01, 4.20887052e-01, 4.62791934e-01, 5.08047619e-01,\n",
       "       5.56579131e-01, 6.08167437e-01, 6.62417539e-01, 7.18738723e-01,\n",
       "       7.76347605e-01, 8.34302460e-01, 8.91570097e-01, 9.47116102e-01,\n",
       "       1.00000000e+00])"
      ]
     },
     "execution_count": 25,
     "metadata": {},
     "output_type": "execute_result"
    }
   ],
   "source": [
    "eta_ini_T = eta_ini\n",
    "\n",
    "#array of chi(z) values\n",
    "x_Dplus_a = np.exp(eta_T)\n",
    "y_Dplus_a = Dplus_sol/Dplus_sol[-1]\n",
    "#  corresponds to the entries x & y of the new array DplusOfa_T \n",
    "y_Dplus_a  # eje y de DplusOfaT Math   # 4ta cifra"
   ]
  },
  {
   "cell_type": "code",
   "execution_count": 26,
   "id": "8a8f15fb",
   "metadata": {
    "collapsed": true
   },
   "outputs": [
    {
     "data": {
      "text/plain": [
       "array([0.0064186 , 0.00769719, 0.00897578, 0.01025437, 0.01153296,\n",
       "       0.01281154, 0.01409013, 0.01536871, 0.01664729, 0.01792588,\n",
       "       0.01920446, 0.02048304, 0.02176162, 0.0230402 , 0.02431878,\n",
       "       0.02559735, 0.02687592, 0.02815449, 0.02943306, 0.03071162,\n",
       "       0.03199018, 0.03326874, 0.03454729, 0.03582584, 0.03710438,\n",
       "       0.03838291, 0.03966144, 0.04093996, 0.04221847, 0.04349698,\n",
       "       0.04477548, 0.04605398, 0.04733246, 0.04861094, 0.04988941,\n",
       "       0.05116786, 0.05244631, 0.05372475, 0.05500317, 0.05628158,\n",
       "       0.05755999, 0.05883837, 0.06011675, 0.06139511, 0.06267345,\n",
       "       0.06395178, 0.0652301 , 0.06650839, 0.06778667, 0.06906493,\n",
       "       0.07034317, 0.0716214 , 0.0728996 , 0.07417778, 0.07545594,\n",
       "       0.07673408, 0.0780122 , 0.07929029, 0.08056835, 0.08184639,\n",
       "       0.08312441, 0.0844024 , 0.08568035, 0.08695828, 0.08823618,\n",
       "       0.08951405, 0.09079189, 0.0920697 , 0.09334747, 0.09462521,\n",
       "       0.09590291, 0.09718058, 0.09845821, 0.0997358 , 0.10101335,\n",
       "       0.10229087, 0.10356834, 0.10484577, 0.10612315, 0.10740049,\n",
       "       0.10867779, 0.10995504, 0.11123224, 0.11250939, 0.11378649,\n",
       "       0.11506355, 0.11634055, 0.11761749, 0.11889439, 0.12017123,\n",
       "       0.12144801, 0.12272473, 0.12400139, 0.125278  , 0.12655454,\n",
       "       0.12783102, 0.12910743, 0.13038378, 0.13166007, 0.13293628,\n",
       "       0.13421243, 0.1354885 , 0.13676451, 0.13804044, 0.13931629,\n",
       "       0.14059207, 0.14186777, 0.1431434 , 0.14441894, 0.1456944 ,\n",
       "       0.14696978, 0.14824507, 0.14952028, 0.1507954 , 0.15207043,\n",
       "       0.15334537, 0.15462021, 0.15589497, 0.15716963, 0.15844419,\n",
       "       0.15971865, 0.16099302, 0.16226728, 0.16354144, 0.1648155 ,\n",
       "       0.16608945, 0.16736329, 0.16863702, 0.16991064, 0.17118415,\n",
       "       0.17245754, 0.17373082, 0.17500398, 0.17627702, 0.17754994,\n",
       "       0.17882273, 0.18009541, 0.18136795, 0.18264037, 0.18391265,\n",
       "       0.18518481, 0.18645683, 0.18772871, 0.18900046, 0.19027207,\n",
       "       0.19154353, 0.19281486, 0.19408604, 0.19535707, 0.19662795,\n",
       "       0.19789869, 0.19916927, 0.2004397 , 0.20170997, 0.20298008,\n",
       "       0.20425003, 0.20551982, 0.20678945, 0.20805891, 0.2093282 ,\n",
       "       0.21059732, 0.21186627, 0.21313505, 0.21440365, 0.21567207,\n",
       "       0.21694031, 0.21820837, 0.21947624, 0.22074393, 0.22201142,\n",
       "       0.22327873, 0.22454584, 0.22581276, 0.22707948, 0.228346  ,\n",
       "       0.22961232, 0.23087844, 0.23214435, 0.23341005, 0.23467554,\n",
       "       0.23594082, 0.23720588, 0.23847073, 0.23973536, 0.24099976,\n",
       "       0.24226394, 0.2435279 , 0.24479162, 0.24605512, 0.24731838,\n",
       "       0.24858141, 0.24984419, 0.25110674, 0.25236905, 0.25363111,\n",
       "       0.25489292, 0.25615448, 0.2574158 , 0.25867685, 0.25993765,\n",
       "       0.2611982 , 0.26245848, 0.26371849, 0.26497824, 0.26623772,\n",
       "       0.26749693, 0.26875587, 0.27001452, 0.2712729 , 0.272531  ,\n",
       "       0.27378881, 0.27504634, 0.27630358, 0.27756052, 0.27881718,\n",
       "       0.28007353, 0.28132959, 0.28258534, 0.28384079, 0.28509594,\n",
       "       0.28635077, 0.2876053 , 0.2888595 , 0.2901134 , 0.29136697,\n",
       "       0.29262022, 0.29387314, 0.29512574, 0.296378  , 0.29762993,\n",
       "       0.29888153, 0.30013279, 0.30138371, 0.30263428, 0.30388451,\n",
       "       0.30513438, 0.30638391, 0.30763308, 0.30888189, 0.31013034,\n",
       "       0.31137844, 0.31262616, 0.31387352, 0.3151205 , 0.31636712,\n",
       "       0.31761335, 0.31885921, 0.32010469, 0.32134978, 0.32259448,\n",
       "       0.3238388 , 0.32508272, 0.32632624, 0.32756937, 0.32881209,\n",
       "       0.33005441, 0.33129632, 0.33253782, 0.33377891, 0.33501958,\n",
       "       0.33625983, 0.33749966, 0.33873907, 0.33997805, 0.3412166 ,\n",
       "       0.34245472, 0.3436924 , 0.34492964, 0.34616644, 0.3474028 ,\n",
       "       0.34863871, 0.34987417, 0.35110918, 0.35234373, 0.35357782,\n",
       "       0.35481145, 0.35604461, 0.35727731, 0.35850954, 0.35974129,\n",
       "       0.36097256, 0.36220336, 0.36343367, 0.3646635 , 0.36589284,\n",
       "       0.36712169, 0.36835004, 0.3695779 , 0.37080526, 0.37203211,\n",
       "       0.37325846, 0.37448429, 0.37570962, 0.37693443, 0.37815872,\n",
       "       0.37938249, 0.38060574, 0.38182846, 0.38305065, 0.38427231,\n",
       "       0.38549343, 0.38671402, 0.38793406, 0.38915355, 0.3903725 ,\n",
       "       0.3915909 , 0.39280874, 0.39402603, 0.39524276, 0.39645892,\n",
       "       0.39767452, 0.39888955, 0.40010401, 0.40131789, 0.40253119,\n",
       "       0.40374391, 0.40495605, 0.4061676 , 0.40737857, 0.40858893,\n",
       "       0.40979871, 0.41100788, 0.41221645, 0.41342441, 0.41463177,\n",
       "       0.41583852, 0.41704465, 0.41825016, 0.41945505, 0.42065932,\n",
       "       0.42186297, 0.42306598, 0.42426837, 0.42547011, 0.42667122,\n",
       "       0.42787169, 0.42907151, 0.43027068, 0.43146921, 0.43266708,\n",
       "       0.4338643 , 0.43506085, 0.43625675, 0.43745197, 0.43864653,\n",
       "       0.43984042, 0.44103364, 0.44222617, 0.44341803, 0.4446092 ,\n",
       "       0.44579969, 0.44698949, 0.44817859, 0.449367  , 0.45055472,\n",
       "       0.45174173, 0.45292803, 0.45411363, 0.45529852, 0.4564827 ,\n",
       "       0.45766615, 0.45884889, 0.46003091, 0.46121221, 0.46239277,\n",
       "       0.4635726 , 0.4647517 , 0.46593006, 0.46710769, 0.46828457,\n",
       "       0.4694607 , 0.47063608, 0.47181072, 0.4729846 , 0.47415772,\n",
       "       0.47533008, 0.47650168, 0.47767252, 0.47884259, 0.48001188,\n",
       "       0.4811804 , 0.48234814, 0.48351511, 0.48468129, 0.48584668,\n",
       "       0.48701129, 0.48817511, 0.48933813, 0.49050035, 0.49166178,\n",
       "       0.4928224 , 0.49398221, 0.49514122, 0.49629941, 0.4974568 ,\n",
       "       0.49861336, 0.4997691 , 0.50092403, 0.50207812, 0.50323139,\n",
       "       0.50438382, 0.50553543, 0.50668619, 0.50783611, 0.50898519,\n",
       "       0.51013343, 0.51128082, 0.51242735, 0.51357304, 0.51471787,\n",
       "       0.51586184, 0.51700494, 0.51814719, 0.51928857, 0.52042908,\n",
       "       0.52156871, 0.52270748, 0.52384537, 0.52498237, 0.5261185 ,\n",
       "       0.52725374, 0.5283881 , 0.52952156, 0.53065414, 0.53178582,\n",
       "       0.5329166 , 0.53404648, 0.53517546, 0.53630353, 0.5374307 ,\n",
       "       0.53855696, 0.5396823 , 0.54080673, 0.54193024, 0.54305283,\n",
       "       0.54417449, 0.54529523, 0.54641505, 0.54753393, 0.54865188,\n",
       "       0.54976889, 0.55088496, 0.55200009, 0.55311428, 0.55422752,\n",
       "       0.55533981, 0.55645115, 0.55756154, 0.55867097, 0.55977944,\n",
       "       0.56088695, 0.5619935 , 0.56309908, 0.5642037 , 0.56530734,\n",
       "       0.56641002, 0.56751172, 0.56861244, 0.56971219, 0.57081095,\n",
       "       0.57190874, 0.57300554, 0.57410135, 0.57519617, 0.57629001,\n",
       "       0.57738285, 0.57847469, 0.57956554, 0.58065538, 0.58174423,\n",
       "       0.58283207, 0.58391891, 0.58500473, 0.58608955, 0.58717335,\n",
       "       0.58825614, 0.58933791, 0.59041867, 0.5914984 , 0.59257711,\n",
       "       0.59365479, 0.59473144, 0.59580707, 0.59688166, 0.59795522,\n",
       "       0.59902774, 0.60009923, 0.60116967, 0.60223907, 0.60330742,\n",
       "       0.60437473, 0.60544099, 0.6065062 , 0.60757035, 0.60863345,\n",
       "       0.60969549, 0.61075647, 0.61181639, 0.61287524, 0.61393304,\n",
       "       0.61498976, 0.61604542, 0.61710001, 0.61815353, 0.61920598,\n",
       "       0.62025736, 0.62130766, 0.62235688, 0.62340502, 0.62445209,\n",
       "       0.62549807, 0.62654297, 0.62758678, 0.62862951, 0.62967115,\n",
       "       0.6307117 , 0.63175116, 0.63278953, 0.6338268 , 0.63486298,\n",
       "       0.63589806, 0.63693204, 0.63796492, 0.6389967 , 0.64002737,\n",
       "       0.64105694, 0.6420854 , 0.64311276, 0.644139  , 0.64516413,\n",
       "       0.64618815, 0.64721105, 0.64823284, 0.64925351, 0.65027306,\n",
       "       0.65129149, 0.65230879, 0.65332497, 0.65434003, 0.65535395,\n",
       "       0.65636675, 0.65737842, 0.65838895, 0.65939835, 0.66040662,\n",
       "       0.66141375, 0.66241974, 0.66342459, 0.66442829, 0.66543086,\n",
       "       0.66643228, 0.66743256, 0.6684317 , 0.66942969, 0.67042653,\n",
       "       0.67142222, 0.67241677, 0.67341016, 0.67440241, 0.67539351,\n",
       "       0.67638345, 0.67737224, 0.67835988, 0.67934636, 0.68033168,\n",
       "       0.68131585, 0.68229886, 0.68328072, 0.68426141, 0.68524095,\n",
       "       0.68621932, 0.68719653, 0.68817258, 0.68914746, 0.69012118,\n",
       "       0.69109374, 0.69206512, 0.69303534, 0.69400439, 0.69497228,\n",
       "       0.69593899, 0.69690453, 0.6978689 , 0.69883209, 0.69979412,\n",
       "       0.70075496, 0.70171464, 0.70267313, 0.70363045, 0.70458659,\n",
       "       0.70554155, 0.70649533, 0.70744793, 0.70839935, 0.70934958,\n",
       "       0.71029863, 0.7112465 , 0.71219318, 0.71313867, 0.71408298,\n",
       "       0.7150261 , 0.71596803, 0.71690876, 0.71784831, 0.71878667,\n",
       "       0.71972383, 0.7206598 , 0.72159458, 0.72252816, 0.72346056,\n",
       "       0.72439175, 0.72532176, 0.72625056, 0.72717818, 0.7281046 ,\n",
       "       0.72902982, 0.72995385, 0.73087669, 0.73179833, 0.73271877,\n",
       "       0.73363802, 0.73455608, 0.73547293, 0.7363886 , 0.73730306,\n",
       "       0.73821633, 0.7391284 , 0.74003927, 0.74094895, 0.74185743,\n",
       "       0.74276471, 0.7436708 , 0.74457568, 0.74547937, 0.74638186,\n",
       "       0.74728315, 0.74818325, 0.74908214, 0.74997984, 0.75087633,\n",
       "       0.75177163, 0.75266572, 0.75355862, 0.75445032, 0.75534081,\n",
       "       0.75623011, 0.75711821, 0.7580051 , 0.75889079, 0.75977529,\n",
       "       0.76065858, 0.76154067, 0.76242156, 0.76330124, 0.76417973,\n",
       "       0.76505701, 0.76593309, 0.76680796, 0.76768164, 0.76855411,\n",
       "       0.76942537, 0.77029544, 0.7711643 , 0.77203195, 0.7728984 ,\n",
       "       0.77376365, 0.7746277 , 0.77549053, 0.77635217, 0.7772126 ,\n",
       "       0.77807182, 0.77892984, 0.77978666, 0.78064227, 0.78149669,\n",
       "       0.78234989, 0.7832019 , 0.78405271, 0.78490231, 0.78575072,\n",
       "       0.78659792, 0.78744393, 0.78828874, 0.78913235, 0.78997476,\n",
       "       0.79081597, 0.79165599, 0.7924948 , 0.79333243, 0.79416886,\n",
       "       0.79500409, 0.79583813, 0.79667097, 0.79750262, 0.79833308,\n",
       "       0.79916234, 0.79999042, 0.8008173 , 0.80164298, 0.80246748,\n",
       "       0.80329079, 0.80411291, 0.80493383, 0.80575357, 0.80657212,\n",
       "       0.80738949, 0.80820566, 0.80902065, 0.80983445, 0.81064706,\n",
       "       0.81145849, 0.81226874, 0.81307779, 0.81388567, 0.81469236,\n",
       "       0.81549787, 0.81630219, 0.81710533, 0.81790729, 0.81870807,\n",
       "       0.81950767, 0.82030608, 0.82110332, 0.82189938, 0.82269426,\n",
       "       0.82348796, 0.82428048, 0.82507182, 0.82586198, 0.82665097,\n",
       "       0.82743879, 0.82822542, 0.82901088, 0.82979517, 0.83057828,\n",
       "       0.83136022, 0.83214098, 0.83292058, 0.83369899, 0.83447624,\n",
       "       0.83525232, 0.83602722, 0.83680096, 0.83757352, 0.83834492,\n",
       "       0.83911515, 0.83988422, 0.84065212, 0.84141886, 0.84218443,\n",
       "       0.84294885, 0.8437121 , 0.84447419, 0.84523512, 0.8459949 ,\n",
       "       0.84675352, 0.84751098, 0.84826729, 0.84902244, 0.84977644,\n",
       "       0.85052929, 0.85128098, 0.85203153, 0.85278093, 0.85352918,\n",
       "       0.85427628, 0.85502223, 0.85576704, 0.85651071, 0.85725323,\n",
       "       0.85799461, 0.85873485, 0.85947395, 0.86021191, 0.86094873,\n",
       "       0.86168441, 0.86241896, 0.86315237, 0.86388464, 0.86461578,\n",
       "       0.86534579, 0.86607467, 0.86680242, 0.86752903, 0.86825452,\n",
       "       0.86897888, 0.86970211, 0.87042422, 0.8711452 , 0.87186506,\n",
       "       0.8725838 , 0.87330141, 0.8740179 , 0.87473328, 0.87544753,\n",
       "       0.87616066, 0.87687268, 0.87758358, 0.87829337, 0.87900204,\n",
       "       0.8797096 , 0.88041604, 0.88112138, 0.8818256 , 0.88252872,\n",
       "       0.88323073, 0.88393162, 0.88463142, 0.8853301 , 0.88602769,\n",
       "       0.88672417, 0.88741954, 0.88811382, 0.88880699, 0.88949906,\n",
       "       0.89019004, 0.89087992, 0.8915687 , 0.89225638, 0.89294297,\n",
       "       0.89362847, 0.89431288, 0.89499619, 0.89567842, 0.89635955,\n",
       "       0.89703961, 0.89771857, 0.89839645, 0.89907325, 0.89974897,\n",
       "       0.90042361, 0.90109717, 0.90176965, 0.90244105, 0.90311138,\n",
       "       0.90378064, 0.90444883, 0.90511594, 0.90578198, 0.90644696,\n",
       "       0.90711087, 0.90777371, 0.90843549, 0.90909621, 0.90975587,\n",
       "       0.91041446, 0.911072  , 0.91172848, 0.9123839 , 0.91303826,\n",
       "       0.91369158, 0.91434384, 0.91499505, 0.91564521, 0.91629432,\n",
       "       0.91694238, 0.9175894 , 0.91823538, 0.91888031, 0.91952419,\n",
       "       0.92016704, 0.92080885, 0.92144962, 0.92208936, 0.92272806,\n",
       "       0.92336572, 0.92400235, 0.92463795, 0.92527253, 0.92590607,\n",
       "       0.92653858, 0.92717007, 0.92780054, 0.92842998, 0.92905839,\n",
       "       0.92968579, 0.93031217, 0.93093753, 0.93156187, 0.9321852 ,\n",
       "       0.93280751, 0.93342881, 0.9340491 , 0.93466838, 0.93528665,\n",
       "       0.93590391, 0.93652017, 0.93713542, 0.93774966, 0.93836291,\n",
       "       0.93897515, 0.93958639, 0.94019664, 0.94080589, 0.94141414,\n",
       "       0.9420214 , 0.94262766, 0.94323293, 0.94383721, 0.94444051,\n",
       "       0.94504281, 0.94564413, 0.94624446, 0.94684381, 0.94744218,\n",
       "       0.94803956, 0.94863597, 0.94923139, 0.94982584, 0.95041931,\n",
       "       0.95101181, 0.95160333, 0.95219389, 0.95278347, 0.95337208,\n",
       "       0.95395972, 0.9545464 , 0.95513211, 0.95571686, 0.95630064,\n",
       "       0.95688346, 0.95746532, 0.95804623, 0.95862617, 0.95920516,\n",
       "       0.9597832 , 0.96036028, 0.9609364 , 0.96151158, 0.96208581,\n",
       "       0.96265909, 0.96323142, 0.9638028 , 0.96437324, 0.96494274,\n",
       "       0.9655113 , 0.96607891, 0.96664559, 0.96721133, 0.96777613,\n",
       "       0.96834   , 0.96890293, 0.96946493, 0.970026  , 0.97058613,\n",
       "       0.97114534, 0.97170363, 0.97226098, 0.97281741, 0.97337292,\n",
       "       0.97392751, 0.97448117, 0.97503392, 0.97558575, 0.97613666,\n",
       "       0.97668665, 0.97723573, 0.9777839 , 0.97833115, 0.9788775 ,\n",
       "       0.97942294, 0.97996747, 0.98051109, 0.98105381, 0.98159562,\n",
       "       0.98213653, 0.98267654, 0.98321565, 0.98375387, 0.98429118,\n",
       "       0.9848276 , 0.98536313, 0.98589776, 0.9864315 , 0.98696435,\n",
       "       0.98749631, 0.98802738, 0.98855757, 0.98908687, 0.98961528,\n",
       "       0.99014282, 0.99066947, 0.99119524, 0.99172013, 0.99224415,\n",
       "       0.99276729, 0.99328956, 0.99381095, 0.99433147, 0.99485112,\n",
       "       0.9953699 , 0.99588781, 0.99640485, 0.99692103, 0.99743634,\n",
       "       0.9979508 , 0.99846439, 0.99897712, 0.99948899, 1.        ])"
      ]
     },
     "execution_count": 26,
     "metadata": {},
     "output_type": "execute_result"
    }
   ],
   "source": [
    "# Interpolation of the \"table\" DplusOfa_T (not needed to define)\n",
    "#with columns x and y_Dplus_a\n",
    "\n",
    "DplusOfa = CubicSpline(x_Dplus_a,y_Dplus_a, extrapolate=True)\n",
    "a = np.linspace(0.005,1,1000, endpoint = True)\n",
    "\n",
    "DplusOfa_interp = DplusOfa(a)\n",
    "DplusOfa_interp"
   ]
  },
  {
   "cell_type": "markdown",
   "id": "f837f77e",
   "metadata": {},
   "source": [
    "### Make table for $D_+(\\chi)$ output"
   ]
  },
  {
   "cell_type": "code",
   "execution_count": 27,
   "id": "14ee66dc",
   "metadata": {},
   "outputs": [],
   "source": [
    "# Table D+(chi) = D+(a(chi))\n",
    "chi_T = chi_y # not needed to concatenate bc the desired values are just the columns (not a matrix)"
   ]
  },
  {
   "cell_type": "markdown",
   "id": "3f841d44",
   "metadata": {},
   "source": [
    "### Plots of the growth function $D_+$ as a function of $a$ and a function of $\\chi$"
   ]
  },
  {
   "cell_type": "code",
   "execution_count": 28,
   "id": "e136f63a",
   "metadata": {
    "scrolled": false
   },
   "outputs": [
    {
     "data": {
      "image/png": "[encoded data removed]",
      "text/plain": [
       "<Figure size 432x288 with 1 Axes>"
      ]
     },
     "metadata": {
      "needs_background": "light"
     },
     "output_type": "display_data"
    }
   ],
   "source": [
    "plt.plot(a ,DplusOfa_interp, \"-\")\n",
    "plt.title(r'Growth function $D_+(a)$ ')\n",
    "plt.xlabel(r\"$a$ \")\n",
    "plt.ylabel(r\"$D(a)$\")\n",
    "\n",
    "plt.xlim(0.005, 1)\n",
    "\n",
    "plt.show()"
   ]
  },
  {
   "cell_type": "code",
   "execution_count": 29,
   "id": "a2ac8e67",
   "metadata": {
    "collapsed": true
   },
   "outputs": [
    {
     "data": {
      "text/plain": [
       "array([1.        , 0.94966273, 0.90154335, 0.85599254, 0.81318864,\n",
       "       0.77318116, 0.73592401, 0.70131168, 0.6691991 , 0.63942099,\n",
       "       0.61180574, 0.5861814 , 0.56238352, 0.5402563 , 0.51965546,\n",
       "       0.50044823, 0.48251329, 0.46574063, 0.45003043, 0.43529258,\n",
       "       0.4214457 , 0.40841631, 0.39613813, 0.38455128, 0.37360165,\n",
       "       0.36324028, 0.35342281, 0.34410901, 0.33526235, 0.32684958,\n",
       "       0.31884043, 0.31120728, 0.30392489, 0.29697014, 0.29032187,\n",
       "       0.28396064, 0.27786861, 0.2720293 , 0.26642757, 0.26104942,\n",
       "       0.25588191, 0.25091307, 0.24613179, 0.24152778, 0.23709146,\n",
       "       0.23281394, 0.22868692, 0.22470267, 0.22085397, 0.21713408,\n",
       "       0.21353668, 0.21005588, 0.20668614, 0.20342226, 0.20025936,\n",
       "       0.19719285, 0.19421843, 0.19133203, 0.18852982, 0.18580819,\n",
       "       0.18316373, 0.18059322, 0.17809361, 0.17566203, 0.17329574,\n",
       "       0.17099217, 0.16874886, 0.16656348, 0.16443383, 0.16235782,\n",
       "       0.16033344, 0.1583588 , 0.15643209, 0.1545516 , 0.15271569,\n",
       "       0.15092279, 0.14917142, 0.14746015, 0.14578762, 0.14415254,\n",
       "       0.14255367, 0.14098982, 0.13945985, 0.13796267, 0.13649725,\n",
       "       0.13506259, 0.13365773, 0.13228175, 0.13093378, 0.12961297,\n",
       "       0.1283185 , 0.1270496 , 0.12580553, 0.12458555, 0.12338898,\n",
       "       0.12221515, 0.12106342, 0.11993317, 0.11882381, 0.11773476,\n",
       "       0.11666548, 0.11561542, 0.11458409, 0.11357097, 0.1125756 ,\n",
       "       0.1115975 , 0.11063625, 0.1096914 , 0.10876253, 0.10784926,\n",
       "       0.10695118, 0.10606793, 0.10519913, 0.10434444, 0.10350352,\n",
       "       0.10267604, 0.10186167, 0.10106011, 0.10027106, 0.09949423,\n",
       "       0.09872934, 0.09797611, 0.09723428, 0.09650359, 0.0957838 ,\n",
       "       0.09507466, 0.09437593, 0.0936874 , 0.09300884, 0.09234003,\n",
       "       0.09168076, 0.09103084, 0.09039007, 0.08975825, 0.08913519,\n",
       "       0.08852072, 0.08791467, 0.08731685, 0.0867271 , 0.08614527,\n",
       "       0.08557118, 0.0850047 , 0.08444566, 0.08389392, 0.08334935,\n",
       "       0.0828118 , 0.08228113, 0.08175722, 0.08123994, 0.08072916,\n",
       "       0.08022476, 0.07972662, 0.07923463, 0.07874867, 0.07826863,\n",
       "       0.07779441, 0.0773259 , 0.076863  , 0.0764056 , 0.07595362,\n",
       "       0.07550695, 0.0750655 , 0.07462918, 0.0741979 , 0.07377158,\n",
       "       0.07335013, 0.07293347, 0.07252151, 0.07211418, 0.07171139,\n",
       "       0.07131308, 0.07091917, 0.07052959, 0.07014426, 0.06976312,\n",
       "       0.0693861 , 0.06901313, 0.06864415, 0.06827909, 0.06791789,\n",
       "       0.0675605 , 0.06720684, 0.06685687, 0.06651052, 0.06616774,\n",
       "       0.06582848, 0.06549268, 0.06516028, 0.06483124, 0.06450551,\n",
       "       0.06418304, 0.06386377, 0.06354766, 0.06323466, 0.06292474,\n",
       "       0.06261783, 0.06231391, 0.06201292, 0.06171482, 0.06141957,\n",
       "       0.06112714])"
      ]
     },
     "execution_count": 29,
     "metadata": {},
     "output_type": "execute_result"
    }
   ],
   "source": [
    "DplusOfchi = CubicSpline(chi_y, DplusOfa(a_chi), extrapolate= True)\n",
    "DplusOfchi(chi_y)"
   ]
  },
  {
   "cell_type": "code",
   "execution_count": 30,
   "id": "83c3e3e9",
   "metadata": {
    "scrolled": false
   },
   "outputs": [
    {
     "data": {
      "image/png": "[encoded data removed]",
      "text/plain": [
       "<Figure size 432x288 with 1 Axes>"
      ]
     },
     "metadata": {
      "needs_background": "light"
     },
     "output_type": "display_data"
    }
   ],
   "source": [
    "chi_plot = np.linspace(0, chi_T[-1], 1000, endpoint =True)\n",
    "\n",
    "lin_G = DplusOfchi(chi_plot)\n",
    "\n",
    "plt.plot( chi_plot,lin_G, \"-\")\n",
    "plt.title(r'Growth function $D_+(\\chi)$ ')\n",
    "plt.xlabel(r\"$\\chi$ [Mpc/h]\")\n",
    "plt.ylabel(r\"$D(\\chi)$\")\n",
    "\n",
    "plt.show()"
   ]
  },
  {
   "cell_type": "code",
   "execution_count": 31,
   "id": "fa53882d",
   "metadata": {},
   "outputs": [],
   "source": [
    "# Store variables\n",
    "\n",
    "DplusOfchi_linG = DplusOfchi\n",
    "DplusOfa_linG = DplusOfa"
   ]
  },
  {
   "cell_type": "markdown",
   "id": "4a70b16f",
   "metadata": {},
   "source": [
    "## Module of lens efficiency\n",
    "\n",
    "Inputs:\n",
    "\n",
    "W_input\n",
    "\n",
    "Is the **probability distribution of galaxies** $W(\\chi)$ in some bin (that is, in some photo-z ). It's a function of the comoving distance, that one usually gets from the survey or some analitical fitting; for example, the *golden* is quite used in *LSST*, a Dirac Delta function is widely used when comparing to simulations.\n",
    "\n",
    "Sometimes one have the number density of objects $n(\\chi)$ instead of $W(\\chi)$. In that case, one obtains the latter by  normalizing to unity the former , that is\n",
    "\n",
    "$$\n",
    "    N_A = \\int_0^\\infty n_A(\\chi') d\\chi,\n",
    "$$\n",
    "\n",
    "the total number of galaxies in the photo-z where $n_A(\\chi')$ is the **number density of galaxies** in the photo-z *A* (let's call it *A*), then, the functions $W(\\chi)$ is\n",
    "\n",
    "$$\n",
    "    W_A(\\chi)= \\frac{1}{N_A} n_A(\\chi),\n",
    "$$\n",
    "\n",
    "the probability distribution of galaxies at photo-z A. Obviously, by construction it is normalized to unity\n",
    "\n",
    "$$\n",
    "    \\int_0^\\infty W_A(\\chi') d\\chi' = 1.\n",
    "$$"
   ]
  },
  {
   "cell_type": "markdown",
   "id": "de77659a",
   "metadata": {},
   "source": [
    "### Outputs\n",
    "\n",
    "*qT_LensEff* (function of the comoving distance $\\chi$)\n",
    "\n",
    "*chimax_LensEff* ($\\chi_{max}$ from which one can neglect the lens efficiency, that is $q(\\chi >\\chi_{max}) = 0$)\n",
    "\n",
    "*chiBin_LensEff*\n",
    "\n",
    "The **lens efficiency** is\n",
    "\n",
    "$$\n",
    "    q(\\chi) = \\frac{3H_0^2 \\Omega_m}{2c^2} \\frac{\\chi}{a(\\chi)} g_L(\\chi),\n",
    "$$\n",
    "with $g_L(\\chi) = \\int_0^\\infty \\frac{\\chi'-\\chi}{\\chi'} W(\\chi')d\\chi'$ (sometimes also called *lens efficiency* as $q$).\n",
    "\n",
    "From it, one can compute the **projected convergence** (or mean convergence)\n",
    "\n",
    "$$\n",
    "    \\kappa (\\mathbf{\\theta}) = \\int_0^\\infty d\\chi q(\\chi) \\delta(\\chi \\mathbf{\\theta},\\chi).\n",
    "$$\n",
    "\n",
    "The convergence becomes a linear measure of the total matter density, projected along the lone of sight and weighted by the source galaxy distribution."
   ]
  },
  {
   "cell_type": "markdown",
   "id": "0bd64aae",
   "metadata": {},
   "source": [
    "## $q(\\chi)$ lens efficiency: with $W(\\chi) = \\delta_D (\\chi_S-\\chi)$\n",
    "\n",
    "In some applications one can **approximate** the source galaxy distribution with a Dirac Delta distribution as a function of comoving radial distance $\\chi_S$. \n",
    "\n",
    "In this case, $q(\\chi)$ has an analytical solution:\n",
    "\n",
    "$$\n",
    "   q(\\chi) = \\frac{3H_0^2 \\Omega_m}{2c^2} \\frac{\\chi}{a(\\chi)} \\frac{\\chi_S- \\chi}{\\chi_S} \\Theta[\\chi_S- \\chi],\n",
    "$$\n",
    "\n",
    "for $W(\\chi) = \\delta_D(\\chi_S- \\chi)$, with $\\Theta[\\chi_S- \\chi]$ the Heaviside function.\n",
    "\n",
    "**Example:**"
   ]
  },
  {
   "cell_type": "code",
   "execution_count": 32,
   "id": "b2645f65",
   "metadata": {},
   "outputs": [],
   "source": [
    "# using the interpolated function of the table chiOfz and aOfchi\n",
    "\n",
    "chiOfz = CubicSpline(zT,chi_y) # interp. of chiOfzT_back\n",
    "\n",
    "aOfchi = CubicSpline(chi_y,aOfchi_y)"
   ]
  },
  {
   "cell_type": "code",
   "execution_count": 33,
   "id": "0b2dd697",
   "metadata": {},
   "outputs": [],
   "source": [
    "zBin = 1.0\n",
    "chiBin = chiOfz(zBin)\n",
    "def gLDiracDelta(chi):\n",
    "    return (1-chi/chiBin)*np.heaviside(chiBin-chi,0) # definition of the heaviside step function,\n",
    "                                                     # whichs takes 0 when chiBin - chi <= 0 and 1 in any other case."
   ]
  },
  {
   "cell_type": "code",
   "execution_count": 34,
   "id": "2d11d176",
   "metadata": {},
   "outputs": [],
   "source": [
    "def qDiracDelta(chi):\n",
    "    return 3/2*(H0**2 *Om_M)*(chi/aOfchi(chi))*gLDiracDelta(chi)"
   ]
  },
  {
   "cell_type": "code",
   "execution_count": 35,
   "id": "2c1e5f19",
   "metadata": {},
   "outputs": [],
   "source": [
    "def qDiracDelta_over_chi(chi):\n",
    "    return qDiracDelta(chi)/chi\n",
    "\n",
    "chi_plot2 = np.linspace(0.01, 5000, 50000, endpoint =True)   # table with range from 0.01 to 5000\n",
    "\n",
    "qDD_over_chi = qDiracDelta_over_chi(chi_plot2)"
   ]
  },
  {
   "cell_type": "code",
   "execution_count": 36,
   "id": "ea78eb06",
   "metadata": {},
   "outputs": [
    {
     "data": {
      "image/png": "[encoded data removed]",
      "text/plain": [
       "<Figure size 432x288 with 1 Axes>"
      ]
     },
     "metadata": {
      "needs_background": "light"
     },
     "output_type": "display_data"
    }
   ],
   "source": [
    "plt.plot(chi_plot2, qDD_over_chi)\n",
    "\n",
    "plt.title(r'Lens efficiency wheighted with $\\delta_D(\\chi)$ (over $\\chi$)')\n",
    "plt.ylabel(r\"$q(\\chi)/ \\chi$\")\n",
    "plt.xlabel(r\"$\\chi$ [Mpc/h]\")\n",
    "\n",
    "plt.show()"
   ]
  },
  {
   "cell_type": "code",
   "execution_count": 37,
   "id": "b3d528ba",
   "metadata": {},
   "outputs": [
    {
     "data": {
      "image/png": "[encoded data removed]",
      "text/plain": [
       "<Figure size 432x288 with 1 Axes>"
      ]
     },
     "metadata": {
      "needs_background": "light"
     },
     "output_type": "display_data"
    }
   ],
   "source": [
    "q_ovChi_sqrd = qDD_over_chi*qDD_over_chi\n",
    "\n",
    "plt.plot(chi_plot2, q_ovChi_sqrd)\n",
    "\n",
    "plt.title(r'Lens efficiency over $\\chi$ squared (with $\\delta_D(\\chi)$)')\n",
    "plt.ylabel(r\"$ [\\, q(\\chi)/ \\chi \\ ]^2$\")\n",
    "plt.xlabel(r\"$\\chi$ [Mpc/h]\")\n",
    "\n",
    "plt.show()"
   ]
  },
  {
   "cell_type": "markdown",
   "id": "af22a390",
   "metadata": {},
   "source": [
    "NOTE: Notice the **Lens Efficiency** is 0 (or almost 0 for $\\chi$ much grater than $\\chi_s=\\chi(z_{bin}$)), hence it has no sense to obtain the functions from the previous modules (e.g., DplusOfChi_linG) for $\\chi \\gg \\chi_s$. For example, above we are computing up to $\\chi = 7500$ Mpc/h, which comes from having chosen zTforchi_input up to $z=20$, which is completely unnecessary if $zbin=1$. For this reason, the final code should know first what is the distribution $W$, and from it choose the zTforchi_input table."
   ]
  },
  {
   "cell_type": "code",
   "execution_count": 38,
   "id": "992a2ac2",
   "metadata": {},
   "outputs": [],
   "source": [
    "chimax = 3000"
   ]
  },
  {
   "cell_type": "markdown",
   "id": "2695b52e",
   "metadata": {},
   "source": [
    "## $q(\\chi)$ lens efficiency: with $W(\\chi) = $ (of own choice)\n",
    "\n",
    "\n",
    "(In the final code one has to choose first the distribution $W(\\chi)$ and then compute the lens efficiency)"
   ]
  },
  {
   "cell_type": "code",
   "execution_count": 39,
   "id": "61d4e4dc",
   "metadata": {
    "collapsed": true
   },
   "outputs": [
    {
     "data": {
      "text/plain": [
       "array([   0.        ,   30.3030303 ,   60.60606061,   90.90909091,\n",
       "        121.21212121,  151.51515152,  181.81818182,  212.12121212,\n",
       "        242.42424242,  272.72727273,  303.03030303,  333.33333333,\n",
       "        363.63636364,  393.93939394,  424.24242424,  454.54545455,\n",
       "        484.84848485,  515.15151515,  545.45454545,  575.75757576,\n",
       "        606.06060606,  636.36363636,  666.66666667,  696.96969697,\n",
       "        727.27272727,  757.57575758,  787.87878788,  818.18181818,\n",
       "        848.48484848,  878.78787879,  909.09090909,  939.39393939,\n",
       "        969.6969697 , 1000.        , 1030.3030303 , 1060.60606061,\n",
       "       1090.90909091, 1121.21212121, 1151.51515152, 1181.81818182,\n",
       "       1212.12121212, 1242.42424242, 1272.72727273, 1303.03030303,\n",
       "       1333.33333333, 1363.63636364, 1393.93939394, 1424.24242424,\n",
       "       1454.54545455, 1484.84848485, 1515.15151515, 1545.45454545,\n",
       "       1575.75757576, 1606.06060606, 1636.36363636, 1666.66666667,\n",
       "       1696.96969697, 1727.27272727, 1757.57575758, 1787.87878788,\n",
       "       1818.18181818, 1848.48484848, 1878.78787879, 1909.09090909,\n",
       "       1939.39393939, 1969.6969697 , 2000.        , 2030.3030303 ,\n",
       "       2060.60606061, 2090.90909091, 2121.21212121, 2151.51515152,\n",
       "       2181.81818182, 2212.12121212, 2242.42424242, 2272.72727273,\n",
       "       2303.03030303, 2333.33333333, 2363.63636364, 2393.93939394,\n",
       "       2424.24242424, 2454.54545455, 2484.84848485, 2515.15151515,\n",
       "       2545.45454545, 2575.75757576, 2606.06060606, 2636.36363636,\n",
       "       2666.66666667, 2696.96969697, 2727.27272727, 2757.57575758,\n",
       "       2787.87878788, 2818.18181818, 2848.48484848, 2878.78787879,\n",
       "       2909.09090909, 2939.39393939, 2969.6969697 , 3000.        ])"
      ]
     },
     "execution_count": 39,
     "metadata": {},
     "output_type": "execute_result"
    }
   ],
   "source": [
    "def q(chi): # IN THIS CASE THE SAME DD IS CHOSEN BUT THE PORPOSE IS TO TAKE A DIFFERENT ONE LATER\n",
    "    return qDiracDelta(chi) # here this definition would change for a diff. W\n",
    "\n",
    "chimax_lensEff = chimax\n",
    "chiBin_lensEff = chiBin\n",
    "sizeOfchiT = 100\n",
    "\n",
    "# making table of (i)*chimax/(sizeOfchiT-1) from 1 to the size 100\n",
    "chiT = np.zeros(100) #defining empty table\n",
    "for i in range(sizeOfchiT):\n",
    "    chiT[i] = (i)*chimax/(sizeOfchiT-1) # filling with the values described\n",
    "chiT"
   ]
  },
  {
   "cell_type": "markdown",
   "id": "ad41b34b",
   "metadata": {},
   "source": [
    "(Personal note -professor-: The chiT is for the **output** of this module. Not sure how much points are necessary for having good approximations in the final convergence PS. It's believed much less points suffice. **Check**!!!) ***"
   ]
  },
  {
   "cell_type": "markdown",
   "id": "6405a1f8",
   "metadata": {},
   "source": [
    "### Computing the output of the module *chimaxinqT_lensEff*"
   ]
  },
  {
   "cell_type": "code",
   "execution_count": 40,
   "id": "0d27a13e",
   "metadata": {
    "collapsed": true
   },
   "outputs": [
    {
     "name": "stdout",
     "output_type": "stream",
     "text": [
      "100\n"
     ]
    },
    {
     "data": {
      "text/plain": [
       "array([ 0.00000000e+00,  1.51251957e-06,  3.01492785e-06,  4.50624001e-06,\n",
       "        5.98545900e-06,  7.45157615e-06,  8.90357168e-06,  1.03404153e-05,\n",
       "        1.17610665e-05,  1.31644754e-05,  1.45495830e-05,  1.59153218e-05,\n",
       "        1.72606162e-05,  1.85843829e-05,  1.98855314e-05,  2.11629641e-05,\n",
       "        2.24155772e-05,  2.36422604e-05,  2.48418973e-05,  2.60133659e-05,\n",
       "        2.71555310e-05,  2.82672292e-05,  2.93472827e-05,  3.03945019e-05,\n",
       "        3.14076856e-05,  3.23856207e-05,  3.33270827e-05,  3.42308354e-05,\n",
       "        3.50956303e-05,  3.59201996e-05,  3.67032529e-05,  3.74434847e-05,\n",
       "        3.81395743e-05,  3.87901863e-05,  3.93939695e-05,  3.99495572e-05,\n",
       "        4.04555663e-05,  4.09105920e-05,  4.13131989e-05,  4.16619306e-05,\n",
       "        4.19553111e-05,  4.21918441e-05,  4.23700126e-05,  4.24882784e-05,\n",
       "        4.25450809e-05,  4.25388314e-05,  4.24679090e-05,  4.23306678e-05,\n",
       "        4.21254361e-05,  4.18505165e-05,  4.15041842e-05,  4.10846867e-05,\n",
       "        4.05902404e-05,  4.00190240e-05,  3.93691840e-05,  3.86388349e-05,\n",
       "        3.78260587e-05,  3.69289037e-05,  3.59453830e-05,  3.48734721e-05,\n",
       "        3.37111035e-05,  3.24561714e-05,  3.11065303e-05,  2.96599944e-05,\n",
       "        2.81143360e-05,  2.64672838e-05,  2.47165192e-05,  2.28596757e-05,\n",
       "        2.08943401e-05,  1.88180508e-05,  1.66282960e-05,  1.43225123e-05,\n",
       "        1.18980816e-05,  9.35233042e-06,  6.68252920e-06,  3.88589078e-06,\n",
       "        9.59568254e-07, -0.00000000e+00, -0.00000000e+00, -0.00000000e+00,\n",
       "       -0.00000000e+00, -0.00000000e+00, -0.00000000e+00, -0.00000000e+00,\n",
       "       -0.00000000e+00, -0.00000000e+00, -0.00000000e+00, -0.00000000e+00,\n",
       "       -0.00000000e+00, -0.00000000e+00, -0.00000000e+00, -0.00000000e+00,\n",
       "       -0.00000000e+00, -0.00000000e+00, -0.00000000e+00, -0.00000000e+00,\n",
       "       -0.00000000e+00, -0.00000000e+00, -0.00000000e+00, -0.00000000e+00])"
      ]
     },
     "execution_count": 40,
     "metadata": {},
     "output_type": "execute_result"
    }
   ],
   "source": [
    "print(len(chiT))\n",
    "\n",
    "qT = np.zeros(100)\n",
    "for i in range(len(chiT)):\n",
    "    qT[i]= q(chiT[i])\n",
    "qT"
   ]
  },
  {
   "cell_type": "code",
   "execution_count": 41,
   "id": "24779dbe",
   "metadata": {},
   "outputs": [],
   "source": [
    "# indices_for_nullqT = np.where(qT == 0)   -->  # NOT ALL q GOES EXACTLY TO ZERO BUT THE D.DELTA\n",
    "# indices_for_nullqT # these are the indeces where qT vanishes"
   ]
  },
  {
   "cell_type": "code",
   "execution_count": 42,
   "id": "0df5e8f9",
   "metadata": {},
   "outputs": [
    {
     "data": {
      "text/plain": [
       "(array([ 0, 77, 78, 79, 80, 81, 82, 83, 84, 85, 86, 87, 88, 89, 90, 91, 92,\n",
       "        93, 94, 95, 96, 97, 98, 99]),)"
      ]
     },
     "execution_count": 42,
     "metadata": {},
     "output_type": "execute_result"
    }
   ],
   "source": [
    "indices_for_almost_nullqT = np.where(qT < 1/1000*qT[1])\n",
    "# It tells when qT takes a value one thousand times smaller than the second value(bc the first is 0)\n",
    "\n",
    "\n",
    "indices_for_almost_nullqT # these are the indeces where qT vanishes"
   ]
  },
  {
   "cell_type": "code",
   "execution_count": 43,
   "id": "50915f28",
   "metadata": {},
   "outputs": [
    {
     "data": {
      "text/plain": [
       "76"
      ]
     },
     "execution_count": 43,
     "metadata": {},
     "output_type": "execute_result"
    }
   ],
   "source": [
    "index_for_chimax = indices_for_almost_nullqT[0][1] - 1 # returns just the unique index desired\n",
    "index_for_chimax"
   ]
  },
  {
   "cell_type": "markdown",
   "id": "f471e2cd",
   "metadata": {},
   "source": [
    "#### This means, we've found the indices for the $\\chi$ values to which is maximus, before $qT$ is zero (i.e., $q(\\chi >\\chi_{max})=0$).\n",
    "\n",
    "**Note** that the first index is obviously discarded, because it represents the initial value (0.0).\n",
    "\n",
    "**Note too** that the right $\\chi_{max}$ value is just one position before the i-th $chi$ value, which means, for $q(\\chi[i])=0$, $\\chi_{max} = \\chi[i - 1]$."
   ]
  },
  {
   "cell_type": "code",
   "execution_count": 44,
   "id": "3629c278",
   "metadata": {},
   "outputs": [
    {
     "data": {
      "text/plain": [
       "2303.030303030303"
      ]
     },
     "execution_count": 44,
     "metadata": {},
     "output_type": "execute_result"
    }
   ],
   "source": [
    "# therefore, the max. value of chi before qT -> 0 (until some order, 1/1000*qT[1]) is\n",
    "chimaxinqT_lensEff = chiT[index_for_chimax]\n",
    "chimaxinqT_lensEff"
   ]
  },
  {
   "cell_type": "code",
   "execution_count": 45,
   "id": "3b808d5e",
   "metadata": {
    "collapsed": true
   },
   "outputs": [
    {
     "data": {
      "text/plain": [
       "array([[ 0.00000000e+00,  0.00000000e+00],\n",
       "       [ 3.03030303e+01,  1.51251957e-06],\n",
       "       [ 6.06060606e+01,  3.01492785e-06],\n",
       "       [ 9.09090909e+01,  4.50624001e-06],\n",
       "       [ 1.21212121e+02,  5.98545900e-06],\n",
       "       [ 1.51515152e+02,  7.45157615e-06],\n",
       "       [ 1.81818182e+02,  8.90357168e-06],\n",
       "       [ 2.12121212e+02,  1.03404153e-05],\n",
       "       [ 2.42424242e+02,  1.17610665e-05],\n",
       "       [ 2.72727273e+02,  1.31644754e-05],\n",
       "       [ 3.03030303e+02,  1.45495830e-05],\n",
       "       [ 3.33333333e+02,  1.59153218e-05],\n",
       "       [ 3.63636364e+02,  1.72606162e-05],\n",
       "       [ 3.93939394e+02,  1.85843829e-05],\n",
       "       [ 4.24242424e+02,  1.98855314e-05],\n",
       "       [ 4.54545455e+02,  2.11629641e-05],\n",
       "       [ 4.84848485e+02,  2.24155772e-05],\n",
       "       [ 5.15151515e+02,  2.36422604e-05],\n",
       "       [ 5.45454545e+02,  2.48418973e-05],\n",
       "       [ 5.75757576e+02,  2.60133659e-05],\n",
       "       [ 6.06060606e+02,  2.71555310e-05],\n",
       "       [ 6.36363636e+02,  2.82672292e-05],\n",
       "       [ 6.66666667e+02,  2.93472827e-05],\n",
       "       [ 6.96969697e+02,  3.03945019e-05],\n",
       "       [ 7.27272727e+02,  3.14076856e-05],\n",
       "       [ 7.57575758e+02,  3.23856207e-05],\n",
       "       [ 7.87878788e+02,  3.33270827e-05],\n",
       "       [ 8.18181818e+02,  3.42308354e-05],\n",
       "       [ 8.48484848e+02,  3.50956303e-05],\n",
       "       [ 8.78787879e+02,  3.59201996e-05],\n",
       "       [ 9.09090909e+02,  3.67032529e-05],\n",
       "       [ 9.39393939e+02,  3.74434847e-05],\n",
       "       [ 9.69696970e+02,  3.81395743e-05],\n",
       "       [ 1.00000000e+03,  3.87901863e-05],\n",
       "       [ 1.03030303e+03,  3.93939695e-05],\n",
       "       [ 1.06060606e+03,  3.99495572e-05],\n",
       "       [ 1.09090909e+03,  4.04555663e-05],\n",
       "       [ 1.12121212e+03,  4.09105920e-05],\n",
       "       [ 1.15151515e+03,  4.13131989e-05],\n",
       "       [ 1.18181818e+03,  4.16619306e-05],\n",
       "       [ 1.21212121e+03,  4.19553111e-05],\n",
       "       [ 1.24242424e+03,  4.21918441e-05],\n",
       "       [ 1.27272727e+03,  4.23700126e-05],\n",
       "       [ 1.30303030e+03,  4.24882784e-05],\n",
       "       [ 1.33333333e+03,  4.25450809e-05],\n",
       "       [ 1.36363636e+03,  4.25388314e-05],\n",
       "       [ 1.39393939e+03,  4.24679090e-05],\n",
       "       [ 1.42424242e+03,  4.23306678e-05],\n",
       "       [ 1.45454545e+03,  4.21254361e-05],\n",
       "       [ 1.48484848e+03,  4.18505165e-05],\n",
       "       [ 1.51515152e+03,  4.15041842e-05],\n",
       "       [ 1.54545455e+03,  4.10846867e-05],\n",
       "       [ 1.57575758e+03,  4.05902404e-05],\n",
       "       [ 1.60606061e+03,  4.00190240e-05],\n",
       "       [ 1.63636364e+03,  3.93691840e-05],\n",
       "       [ 1.66666667e+03,  3.86388349e-05],\n",
       "       [ 1.69696970e+03,  3.78260587e-05],\n",
       "       [ 1.72727273e+03,  3.69289037e-05],\n",
       "       [ 1.75757576e+03,  3.59453830e-05],\n",
       "       [ 1.78787879e+03,  3.48734721e-05],\n",
       "       [ 1.81818182e+03,  3.37111035e-05],\n",
       "       [ 1.84848485e+03,  3.24561714e-05],\n",
       "       [ 1.87878788e+03,  3.11065303e-05],\n",
       "       [ 1.90909091e+03,  2.96599944e-05],\n",
       "       [ 1.93939394e+03,  2.81143360e-05],\n",
       "       [ 1.96969697e+03,  2.64672838e-05],\n",
       "       [ 2.00000000e+03,  2.47165192e-05],\n",
       "       [ 2.03030303e+03,  2.28596757e-05],\n",
       "       [ 2.06060606e+03,  2.08943401e-05],\n",
       "       [ 2.09090909e+03,  1.88180508e-05],\n",
       "       [ 2.12121212e+03,  1.66282960e-05],\n",
       "       [ 2.15151515e+03,  1.43225123e-05],\n",
       "       [ 2.18181818e+03,  1.18980816e-05],\n",
       "       [ 2.21212121e+03,  9.35233042e-06],\n",
       "       [ 2.24242424e+03,  6.68252920e-06],\n",
       "       [ 2.27272727e+03,  3.88589078e-06],\n",
       "       [ 2.30303030e+03,  9.59568254e-07],\n",
       "       [ 2.33333333e+03, -0.00000000e+00],\n",
       "       [ 2.36363636e+03, -0.00000000e+00],\n",
       "       [ 2.39393939e+03, -0.00000000e+00],\n",
       "       [ 2.42424242e+03, -0.00000000e+00],\n",
       "       [ 2.45454545e+03, -0.00000000e+00],\n",
       "       [ 2.48484848e+03, -0.00000000e+00],\n",
       "       [ 2.51515152e+03, -0.00000000e+00],\n",
       "       [ 2.54545455e+03, -0.00000000e+00],\n",
       "       [ 2.57575758e+03, -0.00000000e+00],\n",
       "       [ 2.60606061e+03, -0.00000000e+00],\n",
       "       [ 2.63636364e+03, -0.00000000e+00],\n",
       "       [ 2.66666667e+03, -0.00000000e+00],\n",
       "       [ 2.69696970e+03, -0.00000000e+00],\n",
       "       [ 2.72727273e+03, -0.00000000e+00],\n",
       "       [ 2.75757576e+03, -0.00000000e+00],\n",
       "       [ 2.78787879e+03, -0.00000000e+00],\n",
       "       [ 2.81818182e+03, -0.00000000e+00],\n",
       "       [ 2.84848485e+03, -0.00000000e+00],\n",
       "       [ 2.87878788e+03, -0.00000000e+00],\n",
       "       [ 2.90909091e+03, -0.00000000e+00],\n",
       "       [ 2.93939394e+03, -0.00000000e+00],\n",
       "       [ 2.96969697e+03, -0.00000000e+00],\n",
       "       [ 3.00000000e+03, -0.00000000e+00]])"
      ]
     },
     "execution_count": 45,
     "metadata": {},
     "output_type": "execute_result"
    }
   ],
   "source": [
    "qT_lensEff = np.concatenate((chiT.reshape(-1,1),qT.reshape(-1,1)), axis = 1)\n",
    "qT_lensEff # ~ 5ta cifra"
   ]
  },
  {
   "cell_type": "markdown",
   "id": "e475391a",
   "metadata": {},
   "source": [
    "## Module of Convergence Power Spectrum\n",
    "\n",
    "**OUTPUT**\n",
    "\n",
    "*CkappaT_kappaPS*\n",
    "\n",
    "$$\n",
    "    C_\\kappa(l) = \\int_0^\\infty d\\chi \\frac{q(\\chi)q(\\chi)}{\\chi^2} P_{\\delta \\delta} \\left( k= \\frac{1}{\\chi}, \\chi \\right)\n",
    "$$"
   ]
  },
  {
   "cell_type": "code",
   "execution_count": 46,
   "id": "f623b541",
   "metadata": {},
   "outputs": [
    {
     "data": {
      "text/html": [
       "<div>\n",
       "<style scoped>\n",
       "    .dataframe tbody tr th:only-of-type {\n",
       "        vertical-align: middle;\n",
       "    }\n",
       "\n",
       "    .dataframe tbody tr th {\n",
       "        vertical-align: top;\n",
       "    }\n",
       "\n",
       "    .dataframe thead th {\n",
       "        text-align: right;\n",
       "    }\n",
       "</style>\n",
       "<table border=\"1\" class=\"dataframe\">\n",
       "  <thead>\n",
       "    <tr style=\"text-align: right;\">\n",
       "      <th></th>\n",
       "      <th>0</th>\n",
       "      <th>1</th>\n",
       "    </tr>\n",
       "  </thead>\n",
       "  <tbody>\n",
       "    <tr>\n",
       "      <th>0</th>\n",
       "      <td>0.000010</td>\n",
       "      <td>46.913631</td>\n",
       "    </tr>\n",
       "    <tr>\n",
       "      <th>1</th>\n",
       "      <td>0.000010</td>\n",
       "      <td>47.384282</td>\n",
       "    </tr>\n",
       "    <tr>\n",
       "      <th>2</th>\n",
       "      <td>0.000010</td>\n",
       "      <td>48.304745</td>\n",
       "    </tr>\n",
       "    <tr>\n",
       "      <th>3</th>\n",
       "      <td>0.000011</td>\n",
       "      <td>49.242987</td>\n",
       "    </tr>\n",
       "    <tr>\n",
       "      <th>4</th>\n",
       "      <td>0.000011</td>\n",
       "      <td>50.199880</td>\n",
       "    </tr>\n",
       "    <tr>\n",
       "      <th>...</th>\n",
       "      <td>...</td>\n",
       "      <td>...</td>\n",
       "    </tr>\n",
       "    <tr>\n",
       "      <th>885</th>\n",
       "      <td>481.762566</td>\n",
       "      <td>0.000022</td>\n",
       "    </tr>\n",
       "    <tr>\n",
       "      <th>886</th>\n",
       "      <td>491.494940</td>\n",
       "      <td>0.000021</td>\n",
       "    </tr>\n",
       "    <tr>\n",
       "      <th>887</th>\n",
       "      <td>501.423924</td>\n",
       "      <td>0.000020</td>\n",
       "    </tr>\n",
       "    <tr>\n",
       "      <th>888</th>\n",
       "      <td>511.553489</td>\n",
       "      <td>0.000019</td>\n",
       "    </tr>\n",
       "    <tr>\n",
       "      <th>889</th>\n",
       "      <td>521.887688</td>\n",
       "      <td>0.000018</td>\n",
       "    </tr>\n",
       "  </tbody>\n",
       "</table>\n",
       "<p>890 rows × 2 columns</p>\n",
       "</div>"
      ],
      "text/plain": [
       "              0          1\n",
       "0      0.000010  46.913631\n",
       "1      0.000010  47.384282\n",
       "2      0.000010  48.304745\n",
       "3      0.000011  49.242987\n",
       "4      0.000011  50.199880\n",
       "..          ...        ...\n",
       "885  481.762566   0.000022\n",
       "886  491.494940   0.000021\n",
       "887  501.423924   0.000020\n",
       "888  511.553489   0.000019\n",
       "889  521.887688   0.000018\n",
       "\n",
       "[890 rows x 2 columns]"
      ]
     },
     "execution_count": 46,
     "metadata": {},
     "output_type": "execute_result"
    }
   ],
   "source": [
    "# Loading/importing data file (.dat) from a Linnear Power Spectrum (PSL_mass00z0.dat)\n",
    "\n",
    "import pandas as pd\n",
    "\n",
    "pkT = pd.read_table('/home/rafael/Documents/Proyecto_tesis/PSL_mass00z0.dat', header=None)\n",
    "\n",
    "k = pkT.iloc[:,[0]]\n",
    "pk = pkT.iloc[:,[1]]\n",
    "pkT"
   ]
  },
  {
   "cell_type": "code",
   "execution_count": 47,
   "id": "0b212c16",
   "metadata": {},
   "outputs": [
    {
     "data": {
      "text/plain": [
       "(890, 2)"
      ]
     },
     "execution_count": 47,
     "metadata": {},
     "output_type": "execute_result"
    }
   ],
   "source": [
    "pkT.shape # corroborating the dims of the array to see if it loaded the file correctly"
   ]
  },
  {
   "cell_type": "code",
   "execution_count": 48,
   "id": "73e162ef",
   "metadata": {
    "collapsed": true
   },
   "outputs": [
    {
     "name": "stdout",
     "output_type": "stream",
     "text": [
      "              0\n",
      "0      0.000010\n",
      "1      0.000010\n",
      "2      0.000010\n",
      "3      0.000011\n",
      "4      0.000011\n",
      "..          ...\n",
      "885  481.762566\n",
      "886  491.494940\n",
      "887  501.423924\n",
      "888  511.553489\n",
      "889  521.887688\n",
      "\n",
      "[890 rows x 1 columns]\n",
      "             1\n",
      "0    46.913631\n",
      "1    47.384282\n",
      "2    48.304745\n",
      "3    49.242987\n",
      "4    50.199880\n",
      "..         ...\n",
      "885   0.000022\n",
      "886   0.000021\n",
      "887   0.000020\n",
      "888   0.000019\n",
      "889   0.000018\n",
      "\n",
      "[890 rows x 1 columns]\n"
     ]
    }
   ],
   "source": [
    "print(k)\n",
    "print(pk)"
   ]
  },
  {
   "cell_type": "code",
   "execution_count": 49,
   "id": "ca366696",
   "metadata": {},
   "outputs": [
    {
     "name": "stdout",
     "output_type": "stream",
     "text": [
      "The min. and max. values of k are, respect., kmin = 1e-05 and kMax = 521.8876878735451 .\n"
     ]
    }
   ],
   "source": [
    "pkl = CubicSpline(pkT[0],pkT[1]) # getting the lineal PS\n",
    "\n",
    "#defining the kmin & kMax values as the first & last elements in the array, respect.\n",
    "kmin = pkT.loc[0].at[0]            # pkT[0][0]\n",
    "kMax = pkT.loc[889].at[0]            # pkT[-1][0]\n",
    "\n",
    "print('The min. and max. values of k are, respect., kmin =', kmin, 'and kMax =', kMax,'.')"
   ]
  },
  {
   "cell_type": "code",
   "execution_count": 50,
   "id": "69677b3e",
   "metadata": {},
   "outputs": [],
   "source": [
    "# defining the values of chi when it's maximum and minimum\n",
    "# in function of the variable l (multipolar momentum 'ell')\n",
    "\n",
    "def chimin_func(ell):\n",
    "    return ell/kMax\n",
    "\n",
    "def chiMax_func(ell):\n",
    "    return ell/kmin\n",
    "\n",
    "Nell = 120 # number of ell values\n",
    "ellmin = 1\n",
    "ellMax = 100000\n",
    "\n",
    "delta = math.log10(ellMax/ellmin)/(Nell-1)"
   ]
  },
  {
   "cell_type": "code",
   "execution_count": 51,
   "id": "f0e8b65c",
   "metadata": {
    "collapsed": true
   },
   "outputs": [
    {
     "data": {
      "text/plain": [
       "array([1.00000000e+00, 1.10158194e+00, 1.21348277e+00, 1.33675070e+00,\n",
       "       1.47254043e+00, 1.62212394e+00, 1.78690243e+00, 1.96841945e+00,\n",
       "       2.16837531e+00, 2.38864308e+00, 2.63128607e+00, 2.89857721e+00,\n",
       "       3.19302031e+00, 3.51737350e+00, 3.87467512e+00, 4.26827213e+00,\n",
       "       4.70185149e+00, 5.17947468e+00, 5.70561576e+00, 6.28520327e+00,\n",
       "       6.92366640e+00, 7.62698586e+00, 8.40174987e+00, 9.25521591e+00,\n",
       "       1.01953787e+01, 1.12310450e+01, 1.23719163e+01, 1.36286796e+01,\n",
       "       1.50131073e+01, 1.65381678e+01, 1.82181470e+01, 2.00687817e+01,\n",
       "       2.21074074e+01, 2.43531207e+01, 2.68269580e+01, 2.95520924e+01,\n",
       "       3.25540512e+01, 3.58609548e+01, 3.95037801e+01, 4.35166507e+01,\n",
       "       4.79371565e+01, 5.28067057e+01, 5.81709133e+01, 6.40800274e+01,\n",
       "       7.05894009e+01, 7.77600091e+01, 8.56590215e+01, 9.43604310e+01,\n",
       "       1.03945747e+02, 1.14504757e+02, 1.26136372e+02, 1.38949549e+02,\n",
       "       1.53064314e+02, 1.68612884e+02, 1.85740907e+02, 2.04608829e+02,\n",
       "       2.25393390e+02, 2.48289288e+02, 2.73510995e+02, 3.01294772e+02,\n",
       "       3.31900880e+02, 3.65616014e+02, 4.02755998e+02, 4.43668733e+02,\n",
       "       4.88737463e+02, 5.38384362e+02, 5.93074490e+02, 6.53320146e+02,\n",
       "       7.19685673e+02, 7.92792739e+02, 8.73326162e+02, 9.62040327e+02,\n",
       "       1.05976625e+03, 1.16741936e+03, 1.28600808e+03, 1.41664327e+03,\n",
       "       1.56054865e+03, 1.71907220e+03, 1.89369889e+03, 2.08606449e+03,\n",
       "       2.29797097e+03, 2.53140332e+03, 2.78854817e+03, 3.07181430e+03,\n",
       "       3.38385515e+03, 3.72759372e+03, 4.10624992e+03, 4.52337074e+03,\n",
       "       4.98286351e+03, 5.48903245e+03, 6.04661901e+03, 6.66084629e+03,\n",
       "       7.33746797e+03, 8.08282219e+03, 8.90389094e+03, 9.80836545e+03,\n",
       "       1.08047182e+04, 1.19022824e+04, 1.31113394e+04, 1.44432146e+04,\n",
       "       1.59103844e+04, 1.75265921e+04, 1.93069773e+04, 2.12682175e+04,\n",
       "       2.34286842e+04, 2.58086154e+04, 2.84303046e+04, 3.13183101e+04,\n",
       "       3.44996847e+04, 3.80042296e+04, 4.18647729e+04, 4.61174777e+04,\n",
       "       5.08021805e+04, 5.59627645e+04, 6.16475706e+04, 6.79098503e+04,\n",
       "       7.48082646e+04, 8.24074331e+04, 9.07785399e+04, 1.00000000e+05])"
      ]
     },
     "execution_count": 51,
     "metadata": {},
     "output_type": "execute_result"
    }
   ],
   "source": [
    "ell_T = np.zeros(120)\n",
    "\n",
    "for i in range(Nell):\n",
    "    ell_T[i] = 10**(math.log10(ellmin) + delta*(i))\n",
    "ell_T   # same as Math"
   ]
  },
  {
   "cell_type": "code",
   "execution_count": 52,
   "id": "8ae91d8d",
   "metadata": {},
   "outputs": [
    {
     "name": "stdout",
     "output_type": "stream",
     "text": [
      "There are 120 log-spaced ell points, between ell_min= 1.0 and ell_Max= 100000.0 .\n"
     ]
    }
   ],
   "source": [
    "print('There are', len(ell_T), 'log-spaced ell points, between ell_min=', min(ell_T), 'and ell_Max=', max(ell_T), '.')"
   ]
  },
  {
   "cell_type": "code",
   "execution_count": 53,
   "id": "729e25bd",
   "metadata": {},
   "outputs": [
    {
     "name": "stdout",
     "output_type": "stream",
     "text": [
      "2312.680164121228\n"
     ]
    }
   ],
   "source": [
    "chiBin = chiBin_lensEff # returning value\n",
    "print(chiBin)\n",
    "\n",
    "ell_values = np.linspace(1,10000,100000, endpoint=True)\n",
    "\n",
    "chiMax_values = chiMax_func(ell_values)\n",
    "chimin_values = chimin_func(ell_values)\n",
    "\n",
    "chiBin_value = np.full((100000),chiBin)"
   ]
  },
  {
   "cell_type": "code",
   "execution_count": 54,
   "id": "572d4856",
   "metadata": {},
   "outputs": [
    {
     "data": {
      "image/png": "[encoded data removed]",
      "text/plain": [
       "<Figure size 432x288 with 1 Axes>"
      ]
     },
     "metadata": {
      "needs_background": "light"
     },
     "output_type": "display_data"
    }
   ],
   "source": [
    "plt.loglog(ell_values,chiMax_values, label=r'$\\chi_{Max}(\\ell)$')\n",
    "plt.loglog(ell_values,chimin_values, label=r'$\\chi_{min}(\\ell)$')\n",
    "plt.loglog(ell_values,chiBin_value, label=r'$\\chi_{Bin}$')\n",
    "\n",
    "plt.legend(loc='right',bbox_to_anchor=(1.3, 0.5))\n",
    "\n",
    "\n",
    "plt.title('Chi as function of $\\ell$ ')\n",
    "plt.xlabel(r\"$\\ell$\")\n",
    "plt.ylabel(r\"$\\chi$\")\n",
    "\n",
    "plt.show()\n",
    "\n",
    "#ell has been defined as the variable of the functions chiMax_func(ell) and chimin_func(ell)"
   ]
  },
  {
   "cell_type": "code",
   "execution_count": 55,
   "id": "b20025af",
   "metadata": {},
   "outputs": [],
   "source": [
    "DplusOfchi = CubicSpline(chi_y , DplusOfa(a_chi), extrapolate= True)\n",
    "# now considering that the data from D+(chi) is actually stored in DplusOfchi_linG"
   ]
  },
  {
   "cell_type": "code",
   "execution_count": 56,
   "id": "6d34319f",
   "metadata": {},
   "outputs": [],
   "source": [
    "def PddLinear(ell,chi):\n",
    "    return DplusOfchi(chi)**2*pkl(ell/chi)\n",
    "\n",
    "def power(ell,chi):\n",
    "    return PddLinear(ell,chi)\n",
    "\n",
    "# Defining (by hand 3000) the max value of chi, do not confuse this new variable with the one in background module\n",
    "chiMax = chimax_lensEff # Note this is different from chi_Max\n",
    "                        # where chi_Max is chi(z=20)=7519.607\n",
    "\n",
    "q = CubicSpline(chiT, qT) # remeber this is equivalente to some kinda qT_lensEff.interpolate in Mathe"
   ]
  },
  {
   "cell_type": "code",
   "execution_count": 57,
   "id": "1ee3b4b6",
   "metadata": {},
   "outputs": [
    {
     "data": {
      "text/plain": [
       "(120, 2)"
      ]
     },
     "execution_count": 57,
     "metadata": {},
     "output_type": "execute_result"
    }
   ],
   "source": [
    "Nchi = 100\n",
    "\n",
    "Ckappa_T = np.zeros((len(ell_T),2))\n",
    "Ckappa_T.shape"
   ]
  },
  {
   "cell_type": "code",
   "execution_count": 58,
   "id": "5fd23796",
   "metadata": {
    "collapsed": true
   },
   "outputs": [
    {
     "name": "stdout",
     "output_type": "stream",
     "text": [
      "The time used to compute this was  0.3731832504272461 s\n"
     ]
    },
    {
     "data": {
      "text/plain": [
       "array([[1.00000000e+00, 2.02109380e-08],\n",
       "       [1.10158194e+00, 2.13287022e-08],\n",
       "       [1.21348277e+00, 2.24789445e-08],\n",
       "       [1.33675070e+00, 2.36630856e-08],\n",
       "       [1.47254043e+00, 2.48800228e-08],\n",
       "       [1.62212394e+00, 2.61226267e-08],\n",
       "       [1.78690243e+00, 2.73797602e-08],\n",
       "       [1.96841945e+00, 2.86386159e-08],\n",
       "       [2.16837531e+00, 2.98787585e-08],\n",
       "       [2.38864308e+00, 3.10861752e-08],\n",
       "       [2.63128607e+00, 3.22603377e-08],\n",
       "       [2.89857721e+00, 3.34120709e-08],\n",
       "       [3.19302031e+00, 3.45503424e-08],\n",
       "       [3.51737350e+00, 3.56677669e-08],\n",
       "       [3.87467512e+00, 3.67348988e-08],\n",
       "       [4.26827213e+00, 3.77064809e-08],\n",
       "       [4.70185149e+00, 3.85634452e-08],\n",
       "       [5.17947468e+00, 3.93176870e-08],\n",
       "       [5.70561576e+00, 3.99788222e-08],\n",
       "       [6.28520327e+00, 4.05190349e-08],\n",
       "       [6.92366640e+00, 4.09275640e-08],\n",
       "       [7.62698586e+00, 4.11958978e-08],\n",
       "       [8.40174987e+00, 4.12811244e-08],\n",
       "       [9.25521591e+00, 4.11804861e-08],\n",
       "       [1.01953787e+01, 4.09172217e-08],\n",
       "       [1.12310450e+01, 4.04907871e-08],\n",
       "       [1.23719163e+01, 3.98640942e-08],\n",
       "       [1.36286796e+01, 3.90299746e-08],\n",
       "       [1.50131073e+01, 3.80260618e-08],\n",
       "       [1.65381678e+01, 3.68568037e-08],\n",
       "       [1.82181470e+01, 3.55091718e-08],\n",
       "       [2.00687817e+01, 3.40052700e-08],\n",
       "       [2.21074074e+01, 3.23787679e-08],\n",
       "       [2.43531207e+01, 3.06425055e-08],\n",
       "       [2.68269580e+01, 2.88101156e-08],\n",
       "       [2.95520924e+01, 2.69314933e-08],\n",
       "       [3.25540512e+01, 2.50193687e-08],\n",
       "       [3.58609548e+01, 2.31060443e-08],\n",
       "       [3.95037801e+01, 2.12254665e-08],\n",
       "       [4.35166507e+01, 1.93934145e-08],\n",
       "       [4.79371565e+01, 1.76396780e-08],\n",
       "       [5.28067057e+01, 1.59733511e-08],\n",
       "       [5.81709133e+01, 1.44098219e-08],\n",
       "       [6.40800274e+01, 1.29496765e-08],\n",
       "       [7.05894009e+01, 1.15947650e-08],\n",
       "       [7.77600091e+01, 1.03381481e-08],\n",
       "       [8.56590215e+01, 9.17447302e-09],\n",
       "       [9.43604310e+01, 8.09644271e-09],\n",
       "       [1.03945747e+02, 7.09950170e-09],\n",
       "       [1.14504757e+02, 6.18272226e-09],\n",
       "       [1.26136372e+02, 5.34784925e-09],\n",
       "       [1.38949549e+02, 4.59808694e-09],\n",
       "       [1.53064314e+02, 3.93561139e-09],\n",
       "       [1.68612884e+02, 3.35843567e-09],\n",
       "       [1.85740907e+02, 2.85931913e-09],\n",
       "       [2.04608829e+02, 2.42732511e-09],\n",
       "       [2.25393390e+02, 2.05144840e-09],\n",
       "       [2.48289288e+02, 1.72401367e-09],\n",
       "       [2.73510995e+02, 1.44133157e-09],\n",
       "       [3.01294772e+02, 1.20097613e-09],\n",
       "       [3.31900880e+02, 9.98518764e-10],\n",
       "       [3.65616014e+02, 8.27592264e-10],\n",
       "       [4.02755998e+02, 6.82974693e-10],\n",
       "       [4.43668733e+02, 5.61668772e-10],\n",
       "       [4.88737463e+02, 4.60804555e-10],\n",
       "       [5.38384362e+02, 3.76902927e-10],\n",
       "       [5.93074490e+02, 3.07315566e-10],\n",
       "       [6.53320146e+02, 2.49963014e-10],\n",
       "       [7.19685673e+02, 2.02763817e-10],\n",
       "       [7.92792739e+02, 1.64073974e-10],\n",
       "       [8.73326162e+02, 1.32451349e-10],\n",
       "       [9.62040327e+02, 1.06681958e-10],\n",
       "       [1.05976625e+03, 8.57402144e-11],\n",
       "       [1.16741936e+03, 6.87680247e-11],\n",
       "       [1.28600808e+03, 5.50478555e-11],\n",
       "       [1.41664327e+03, 4.39839340e-11],\n",
       "       [1.56054865e+03, 3.50830822e-11],\n",
       "       [1.71907220e+03, 2.79386818e-11],\n",
       "       [1.89369889e+03, 2.22163346e-11],\n",
       "       [2.08606449e+03, 1.76422329e-11],\n",
       "       [2.29797097e+03, 1.39930950e-11],\n",
       "       [2.53140332e+03, 1.10872656e-11],\n",
       "       [2.78854817e+03, 8.77734306e-12],\n",
       "       [3.07181430e+03, 6.94404580e-12],\n",
       "       [3.38385515e+03, 5.49106503e-12],\n",
       "       [3.72759372e+03, 4.34084154e-12],\n",
       "       [4.10624992e+03, 3.43108432e-12],\n",
       "       [4.52337074e+03, 2.71189190e-12],\n",
       "       [4.98286351e+03, 2.14344463e-12],\n",
       "       [5.48903245e+03, 1.69415115e-12],\n",
       "       [6.04661901e+03, 1.33903534e-12],\n",
       "       [6.66084629e+03, 1.05835633e-12],\n",
       "       [7.33746797e+03, 8.36511218e-13],\n",
       "       [8.08282219e+03, 6.61167661e-13],\n",
       "       [8.90389094e+03, 5.22578352e-13],\n",
       "       [9.80836545e+03, 4.13039135e-13],\n",
       "       [1.08047182e+04, 3.26460733e-13],\n",
       "       [1.19022824e+04, 2.58030263e-13],\n",
       "       [1.31113394e+04, 2.03943686e-13],\n",
       "       [1.44432146e+04, 1.61194341e-13],\n",
       "       [1.59103844e+04, 1.27405800e-13],\n",
       "       [1.75265921e+04, 1.00699760e-13],\n",
       "       [1.93069773e+04, 7.95916368e-14],\n",
       "       [2.12682175e+04, 6.29080351e-14],\n",
       "       [2.34286842e+04, 4.97215172e-14],\n",
       "       [2.58086154e+04, 3.92990488e-14],\n",
       "       [2.84303046e+04, 3.10612469e-14],\n",
       "       [3.13183101e+04, 2.45501756e-14],\n",
       "       [3.44996847e+04, 1.94038887e-14],\n",
       "       [3.80042296e+04, 1.53363075e-14],\n",
       "       [4.18647729e+04, 1.21213187e-14],\n",
       "       [4.61174777e+04, 9.58020557e-15],\n",
       "       [5.08021805e+04, 7.57171252e-15],\n",
       "       [5.59627645e+04, 5.98419239e-15],\n",
       "       [6.16475706e+04, 4.72940061e-15],\n",
       "       [6.79098503e+04, 3.73758991e-15],\n",
       "       [7.48082646e+04, 2.95363283e-15],\n",
       "       [8.24074331e+04, 2.33395745e-15],\n",
       "       [9.07785399e+04, 1.84412467e-15],\n",
       "       [1.00000000e+05, 1.45691400e-15]])"
      ]
     },
     "execution_count": 58,
     "metadata": {},
     "output_type": "execute_result"
    }
   ],
   "source": [
    "# runtime count\n",
    "start_ck = time.time()\n",
    "Ckappa_T = np.zeros((len(ell_T),2))\n",
    "\n",
    "ones_vect = np.ones(Nchi) # this is a vector of dimension Nchi full of ones\n",
    "m_Nchis = np.arange(Nchi)\n",
    "\n",
    "\n",
    "for l in range(len(ell_T)):\n",
    "    ell = ell_T[l] #choosing every particular value of ell\n",
    "    chimin_ell = chimin_func(ell) #functions, not val.\n",
    "    chiMax_eval = chiMax_func(ell)\n",
    "    chiMax_ell = min(chiMax,chiMax_eval)\n",
    "    #defining the max value as the min. between chi_Max (value) and chimax(ell) (evaluated function)\n",
    "   \n",
    "    \n",
    "    delta_chi = (chiMax_ell - chimin_ell)/(Nchi-1)\n",
    "    \n",
    "    chi_Table = chimin_ell*ones_vect + delta_chi*m_Nchis\n",
    "    \n",
    "    #for m in range(Nchi):\n",
    "    #    chi_Table[m] = chimin_ell + delta_chi*(m)\n",
    "\n",
    "    \n",
    "    pkappa, pkappa_B = 0, 0\n",
    "    chi_A = chi_Table[0]\n",
    "    pkappa_A = (q(chi_A)*q(chi_A)*power(ell,chi_A))/(chi_A**2)\n",
    "    \n",
    "    for n in range(1,len(chi_Table)):\n",
    "        \n",
    "        chi_B = chi_Table[n]\n",
    "        pkappa_B = (q(chi_B)*q(chi_B)*power(ell,chi_B))/(chi_B**2)\n",
    "        delta_chi = chi_B - chi_A\n",
    "        \n",
    "        pkappa = pkappa + (pkappa_A + pkappa_B)/2*delta_chi\n",
    "        chi_A = chi_B\n",
    "        pkappa_A = pkappa_B\n",
    "    \n",
    "    Ckappa_T[l] = [ell,pkappa]\n",
    "        \n",
    "\n",
    "# showing the time used to compute this calculation\n",
    "\n",
    "end_ck = time.time()\n",
    "print('The time used to compute this was ',end_ck - start_ck, 's')\n",
    "\n",
    "Ckappa_T # showing array to make sure it is the same as in Mathematica"
   ]
  },
  {
   "cell_type": "code",
   "execution_count": 59,
   "id": "33284c09",
   "metadata": {
    "collapsed": true
   },
   "outputs": [
    {
     "name": "stdout",
     "output_type": "stream",
     "text": [
      "[1.00000000e+00 1.10158194e+00 1.21348277e+00 1.33675070e+00\n",
      " 1.47254043e+00 1.62212394e+00 1.78690243e+00 1.96841945e+00\n",
      " 2.16837531e+00 2.38864308e+00 2.63128607e+00 2.89857721e+00\n",
      " 3.19302031e+00 3.51737350e+00 3.87467512e+00 4.26827213e+00\n",
      " 4.70185149e+00 5.17947468e+00 5.70561576e+00 6.28520327e+00\n",
      " 6.92366640e+00 7.62698586e+00 8.40174987e+00 9.25521591e+00\n",
      " 1.01953787e+01 1.12310450e+01 1.23719163e+01 1.36286796e+01\n",
      " 1.50131073e+01 1.65381678e+01 1.82181470e+01 2.00687817e+01\n",
      " 2.21074074e+01 2.43531207e+01 2.68269580e+01 2.95520924e+01\n",
      " 3.25540512e+01 3.58609548e+01 3.95037801e+01 4.35166507e+01\n",
      " 4.79371565e+01 5.28067057e+01 5.81709133e+01 6.40800274e+01\n",
      " 7.05894009e+01 7.77600091e+01 8.56590215e+01 9.43604310e+01\n",
      " 1.03945747e+02 1.14504757e+02 1.26136372e+02 1.38949549e+02\n",
      " 1.53064314e+02 1.68612884e+02 1.85740907e+02 2.04608829e+02\n",
      " 2.25393390e+02 2.48289288e+02 2.73510995e+02 3.01294772e+02\n",
      " 3.31900880e+02 3.65616014e+02 4.02755998e+02 4.43668733e+02\n",
      " 4.88737463e+02 5.38384362e+02 5.93074490e+02 6.53320146e+02\n",
      " 7.19685673e+02 7.92792739e+02 8.73326162e+02 9.62040327e+02\n",
      " 1.05976625e+03 1.16741936e+03 1.28600808e+03 1.41664327e+03\n",
      " 1.56054865e+03 1.71907220e+03 1.89369889e+03 2.08606449e+03\n",
      " 2.29797097e+03 2.53140332e+03 2.78854817e+03 3.07181430e+03\n",
      " 3.38385515e+03 3.72759372e+03 4.10624992e+03 4.52337074e+03\n",
      " 4.98286351e+03 5.48903245e+03 6.04661901e+03 6.66084629e+03\n",
      " 7.33746797e+03 8.08282219e+03 8.90389094e+03 9.80836545e+03\n",
      " 1.08047182e+04 1.19022824e+04 1.31113394e+04 1.44432146e+04\n",
      " 1.59103844e+04 1.75265921e+04 1.93069773e+04 2.12682175e+04\n",
      " 2.34286842e+04 2.58086154e+04 2.84303046e+04 3.13183101e+04\n",
      " 3.44996847e+04 3.80042296e+04 4.18647729e+04 4.61174777e+04\n",
      " 5.08021805e+04 5.59627645e+04 6.16475706e+04 6.79098503e+04\n",
      " 7.48082646e+04 8.24074331e+04 9.07785399e+04 1.00000000e+05]\n",
      "[2.02109380e-08 2.13287022e-08 2.24789445e-08 2.36630856e-08\n",
      " 2.48800228e-08 2.61226267e-08 2.73797602e-08 2.86386159e-08\n",
      " 2.98787585e-08 3.10861752e-08 3.22603377e-08 3.34120709e-08\n",
      " 3.45503424e-08 3.56677669e-08 3.67348988e-08 3.77064809e-08\n",
      " 3.85634452e-08 3.93176870e-08 3.99788222e-08 4.05190349e-08\n",
      " 4.09275640e-08 4.11958978e-08 4.12811244e-08 4.11804861e-08\n",
      " 4.09172217e-08 4.04907871e-08 3.98640942e-08 3.90299746e-08\n",
      " 3.80260618e-08 3.68568037e-08 3.55091718e-08 3.40052700e-08\n",
      " 3.23787679e-08 3.06425055e-08 2.88101156e-08 2.69314933e-08\n",
      " 2.50193687e-08 2.31060443e-08 2.12254665e-08 1.93934145e-08\n",
      " 1.76396780e-08 1.59733511e-08 1.44098219e-08 1.29496765e-08\n",
      " 1.15947650e-08 1.03381481e-08 9.17447302e-09 8.09644271e-09\n",
      " 7.09950170e-09 6.18272226e-09 5.34784925e-09 4.59808694e-09\n",
      " 3.93561139e-09 3.35843567e-09 2.85931913e-09 2.42732511e-09\n",
      " 2.05144840e-09 1.72401367e-09 1.44133157e-09 1.20097613e-09\n",
      " 9.98518764e-10 8.27592264e-10 6.82974693e-10 5.61668772e-10\n",
      " 4.60804555e-10 3.76902927e-10 3.07315566e-10 2.49963014e-10\n",
      " 2.02763817e-10 1.64073974e-10 1.32451349e-10 1.06681958e-10\n",
      " 8.57402144e-11 6.87680247e-11 5.50478555e-11 4.39839340e-11\n",
      " 3.50830822e-11 2.79386818e-11 2.22163346e-11 1.76422329e-11\n",
      " 1.39930950e-11 1.10872656e-11 8.77734306e-12 6.94404580e-12\n",
      " 5.49106503e-12 4.34084154e-12 3.43108432e-12 2.71189190e-12\n",
      " 2.14344463e-12 1.69415115e-12 1.33903534e-12 1.05835633e-12\n",
      " 8.36511218e-13 6.61167661e-13 5.22578352e-13 4.13039135e-13\n",
      " 3.26460733e-13 2.58030263e-13 2.03943686e-13 1.61194341e-13\n",
      " 1.27405800e-13 1.00699760e-13 7.95916368e-14 6.29080351e-14\n",
      " 4.97215172e-14 3.92990488e-14 3.10612469e-14 2.45501756e-14\n",
      " 1.94038887e-14 1.53363075e-14 1.21213187e-14 9.58020557e-15\n",
      " 7.57171252e-15 5.98419239e-15 4.72940061e-15 3.73758991e-15\n",
      " 2.95363283e-15 2.33395745e-15 1.84412467e-15 1.45691400e-15]\n"
     ]
    }
   ],
   "source": [
    "Ck_ell = np.zeros(len(Ckappa_T))\n",
    "Ck_pkappa = np.zeros(len(Ckappa_T))\n",
    "\n",
    "for i in range(len(Ckappa_T)):\n",
    "    Ck_ell[i] = Ckappa_T[i][0]\n",
    "    Ck_pkappa[i] = Ckappa_T[i][1]\n",
    "\n",
    "print(Ck_ell)\n",
    "print(Ck_pkappa)"
   ]
  },
  {
   "cell_type": "code",
   "execution_count": 60,
   "id": "5399aa56",
   "metadata": {},
   "outputs": [],
   "source": [
    "Ckappa_linear = CubicSpline(Ck_ell, Ck_pkappa)\n",
    "\n",
    "def Ckappa_PS(l):\n",
    "    return l*(l+1)/(2*math.pi)*Ckappa_linear(l)\n",
    "\n",
    "Ckappa_PS_T = Ckappa_PS(ell_T) # Just to be able to plot it"
   ]
  },
  {
   "cell_type": "markdown",
   "id": "7f81e774",
   "metadata": {},
   "source": [
    "## Plot of Convergence PS"
   ]
  },
  {
   "cell_type": "code",
   "execution_count": 61,
   "id": "c35c4dd3",
   "metadata": {},
   "outputs": [
    {
     "data": {
      "image/png": "[encoded data removed]",
      "text/plain": [
       "<Figure size 432x288 with 1 Axes>"
      ]
     },
     "metadata": {
      "needs_background": "light"
     },
     "output_type": "display_data"
    }
   ],
   "source": [
    "plt.loglog(ell_T, Ckappa_PS_T, 'r-', label=r' $P^{3D}_\\delta = P_{linear}(k=\\frac{\\ell}{\\chi})$')\n",
    "\n",
    "font1 = {'family':'serif','color':'darkred','size':20}\n",
    "font2 = {'family':'serif','color':'black','size':22}\n",
    "\n",
    "plt.title(r'Galaxy convergence power spectrum', fontdict = font1)\n",
    "plt.xlabel(r\"$ \\ell$\", fontdict = font2)\n",
    "plt.ylabel(r\"$\\ell (\\ell +1)/2\\pi \\ C_\\kappa (\\ell)$ \", fontdict = font2)\n",
    "plt.grid()\n",
    "\n",
    "plt.legend(loc='right',bbox_to_anchor=(1.5, 0.5),fontsize = 'xx-large')\n",
    "plt.rcParams[\"figure.figsize\"] = (10,6.8)\n",
    "\n",
    "plt.show()"
   ]
  },
  {
   "cell_type": "code",
   "execution_count": 62,
   "id": "ce6263f4",
   "metadata": {},
   "outputs": [],
   "source": [
    "### OUTPUT ###\n",
    "\n",
    "CkappaT_kappaPS = Ckappa_T"
   ]
  },
  {
   "cell_type": "markdown",
   "id": "6f96c823",
   "metadata": {},
   "source": [
    "# Module **Correlation functions** $\\normalsize{\\xi_+}$ and $\\normalsize{\\xi_-}$ Using Method *FFTLog*\n",
    "\n",
    "We need the next OUTPUTS:\n",
    "\n",
    "xiPlusT_FFT_output\n",
    "\n",
    "xiMinusT_FFT_output\n",
    "\n",
    "\n",
    "The correlation functions are\n",
    "\n",
    "$$\n",
    "    \\xi_+ (\\theta) = \\int_0^\\infty \\frac{\\ell d\\ell}{2\\pi} J_0 (\\ell \\theta) C_\\kappa (\\ell),\n",
    "$$\n",
    "\n",
    "$$\n",
    "    \\xi_- (\\theta) = \\int_0^\\infty \\frac{\\ell d\\ell}{2\\pi} J_4 (\\ell \\theta) C_\\kappa (\\ell).\n",
    "$$\n",
    "\n",
    "\n",
    "### Arcmin to radian relations"
   ]
  },
  {
   "cell_type": "code",
   "execution_count": 63,
   "id": "218e8e29",
   "metadata": {
    "collapsed": true
   },
   "outputs": [
    {
     "data": {
      "text/plain": [
       "array([0.00087266, 0.00093705, 0.00100618, 0.00108041, 0.00116012,\n",
       "       0.00124571, 0.00133761, 0.00143629, 0.00154226, 0.00165604,\n",
       "       0.00177822, 0.00190941, 0.00205027, 0.00220153, 0.00236396,\n",
       "       0.00253836, 0.00272563, 0.00292671, 0.00314264, 0.00337449,\n",
       "       0.00362344, 0.00389077, 0.00417781, 0.00448603, 0.004817  ,\n",
       "       0.00517238, 0.00555397, 0.00596372, 0.0064037 , 0.00687614,\n",
       "       0.00738344, 0.00792816, 0.00851307, 0.00914113, 0.00981552,\n",
       "       0.01053967, 0.01131725, 0.01215219, 0.01304873, 0.01401141,\n",
       "       0.01504512, 0.01615509, 0.01734695, 0.01862674, 0.02000094,\n",
       "       0.02147653, 0.02306099, 0.02476234, 0.0265892 , 0.02855085,\n",
       "       0.03065722, 0.03291899, 0.03534762, 0.03795543, 0.04075563,\n",
       "       0.04376242, 0.04699103, 0.05045784, 0.05418042, 0.05817764])"
      ]
     },
     "execution_count": 63,
     "metadata": {},
     "output_type": "execute_result"
    }
   ],
   "source": [
    "# defining conversion from rad to arcmin,\n",
    "# where an arcmin is 1/60° and pi rad = 180°\n",
    "\n",
    "def arcmin_to_rad(thethaArcMin):\n",
    "    return thethaArcMin*math.pi/(180*60)\n",
    "\n",
    "Nd = 60\n",
    "\n",
    "# Using the values 3 arcmin and 200 arcmin as limits, then\n",
    "\n",
    "interval = math.log10(arcmin_to_rad(200)/arcmin_to_rad(3))/(Nd-1)\n",
    "\n",
    "tangle_T = np.zeros(Nd)\n",
    "for i in range(Nd):\n",
    "    tangle_T[i] = 10**(math.log10(arcmin_to_rad(3))+i*interval)\n",
    "\n",
    "tangle_T"
   ]
  },
  {
   "cell_type": "markdown",
   "id": "879f8be1",
   "metadata": {},
   "source": [
    "## FFTLog rutine"
   ]
  },
  {
   "cell_type": "code",
   "execution_count": 64,
   "id": "ab4c095d",
   "metadata": {
    "collapsed": true
   },
   "outputs": [
    {
     "name": "stdout",
     "output_type": "stream",
     "text": [
      "              0          1\n",
      "0      0.000010  46.913631\n",
      "1      0.000010  47.384282\n",
      "2      0.000010  48.304745\n",
      "3      0.000011  49.242987\n",
      "4      0.000011  50.199880\n",
      "..          ...        ...\n",
      "885  481.762566   0.000022\n",
      "886  491.494940   0.000021\n",
      "887  501.423924   0.000020\n",
      "888  511.553489   0.000019\n",
      "889  521.887688   0.000018\n",
      "\n",
      "[890 rows x 2 columns]\n",
      "k_min= 0.0001 , k_Max= 10\n"
     ]
    }
   ],
   "source": [
    "# Using the same PSL_.dat imported before but now proposing new min. and max. values of k\n",
    "\n",
    "print(pkT)\n",
    "\n",
    "N_fftlog =128 # even number chosen, usually takes one of the form 2^n \n",
    "kmin_fft = 1e-4\n",
    "kMax_fft = 10\n",
    "nu_bias = -1.3\n",
    "\n",
    "print('k_min=', kmin_fft, ', k_Max=', kMax_fft)"
   ]
  },
  {
   "cell_type": "code",
   "execution_count": 65,
   "id": "e5d98cd8",
   "metadata": {},
   "outputs": [],
   "source": [
    "# This is a Module in Mathematica\n",
    "\n",
    "int_fft = math.log(kMax_fft/kmin_fft)/(N_fftlog-1)\n",
    "\n",
    "kT_fft = np.zeros(N_fftlog)\n",
    "for i in range(N_fftlog):\n",
    "    kT_fft[i] = kmin_fft*math.exp(i*int_fft)"
   ]
  },
  {
   "cell_type": "markdown",
   "id": "f1e2e8f8",
   "metadata": {},
   "source": [
    "Now defining an array to implement the **FFTlog method**, set as the indexed values $Pk_L(k_i)\\left(\\frac{k_i}{k_{min}}\\right)^{-\\nu_{bias}}$,"
   ]
  },
  {
   "cell_type": "code",
   "execution_count": 66,
   "id": "e20c7116",
   "metadata": {},
   "outputs": [],
   "source": [
    "toFFT_T = np.zeros(N_fftlog)\n",
    "for i in range(N_fftlog):\n",
    "    toFFT_T[i] = pkl(kT_fft[i])*(kT_fft[i]/kmin_fft)**(-nu_bias)\n",
    "\n",
    "# defining an array for values of eta as an complex number\n",
    "\n",
    "etam_fft_T = np.zeros(N_fftlog+1, dtype=np.complex_) # require to specify that this array is for complex variables\n",
    "for i in range(N_fftlog+1): # + 1 ???\n",
    "    etam_fft_T[i] = nu_bias + 2*math.pi*1j*(i - N_fftlog/2)*(N_fftlog-1)/(math.log(kMax_fft/kmin_fft)*(N_fftlog))\n",
    "\n",
    "# Using the Discrete Fourier Transform from numpy\n",
    "\n",
    "pre_cm_T = np.fft.fft(toFFT_T, norm = \"forward\")    # parameters a=0, b=-1 are already in the definition\n",
    "\n",
    "# for a=-1, i.e., 1/n we make: norm = \"forward\""
   ]
  },
  {
   "cell_type": "code",
   "execution_count": 67,
   "id": "42d74de1",
   "metadata": {
    "collapsed": true
   },
   "outputs": [
    {
     "data": {
      "text/plain": [
       "array([-1.73324412e-02-5.33437688e-02j, -7.70001769e-03-3.15361266e-02j,\n",
       "        2.11278215e-02+3.34859525e-03j,  4.61887454e-02+1.16506397e-02j,\n",
       "        4.08817745e-02+1.49323368e-03j,  6.79777518e-03+8.70300446e-03j,\n",
       "       -2.54514075e-02+3.62161426e-02j, -3.10161930e-02+4.56453570e-02j,\n",
       "       -1.95617704e-02+1.28106510e-02j, -1.72078499e-02-3.62452435e-02j,\n",
       "       -2.28593815e-02-5.71792820e-02j, -6.81525788e-03-3.80471102e-02j,\n",
       "        3.91511785e-02-4.76395081e-03j,  7.39398797e-02+1.81439547e-02j,\n",
       "        5.06748903e-02+3.19838961e-02j, -1.91269200e-02+4.59021978e-02j,\n",
       "       -7.36901053e-02+5.02533298e-02j, -7.36234606e-02+2.12288421e-02j,\n",
       "       -3.75794049e-02-4.43834500e-02j,  1.93138555e-03-1.04695286e-01j,\n",
       "        4.18028211e-02-9.89904796e-02j,  8.46624438e-02-1.34445439e-02j,\n",
       "        1.00150306e-01+9.05328899e-02j,  4.68575765e-02+1.33080541e-01j,\n",
       "       -6.72707865e-02+9.20405015e-02j, -1.64500485e-01+2.77099723e-03j,\n",
       "       -1.50161064e-01-9.23596632e-02j, -3.70396633e-03-1.53696937e-01j,\n",
       "        1.73063224e-01-1.26769293e-01j,  2.23191996e-01+1.33182204e-02j,\n",
       "        8.47849995e-02+1.85620280e-01j, -1.33930765e-01+2.32794339e-01j,\n",
       "       -2.50266256e-01+7.11907923e-02j, -1.65698684e-01-1.92501249e-01j,\n",
       "        6.35298467e-02-3.17815765e-01j,  2.64347644e-01-1.45486716e-01j,\n",
       "        2.53433579e-01+2.06722824e-01j, -7.80145944e-03+3.93813451e-01j,\n",
       "       -3.11241354e-01+1.76787832e-01j, -3.31689709e-01-2.68610550e-01j,\n",
       "        2.70503093e-02-4.59736611e-01j,  4.20135286e-01-1.22848275e-01j,\n",
       "        3.54067084e-01+4.10013135e-01j, -1.86616193e-01+4.80672963e-01j,\n",
       "       -5.56832986e-01-8.49101823e-02j, -1.93544023e-01-6.00235758e-01j,\n",
       "        4.99190377e-01-3.02671316e-01j,  5.12488062e-01+4.88917354e-01j,\n",
       "       -2.82731357e-01+5.95502140e-01j, -6.86072201e-01-2.74440231e-01j,\n",
       "        5.45971960e-02-7.68150814e-01j,  7.41678965e-01+8.00234456e-02j,\n",
       "        5.94208281e-02+8.68640369e-01j, -7.64786007e-01+4.66569683e-03j,\n",
       "        1.17218451e-02-9.32409340e-01j,  7.62253245e-01+1.02591902e-01j,\n",
       "       -3.22258177e-01+8.89081884e-01j, -5.60860052e-01-3.71865356e-01j,\n",
       "        6.21344498e-01-4.76634575e-01j,  2.04849386e-01-1.35425184e-01j,\n",
       "        1.82107892e+00+1.09891485e+00j, -5.60424779e+00+8.60515539e+00j,\n",
       "       -2.59526181e+01-1.60243977e+01j,  2.21226075e+01-6.18284822e+01j,\n",
       "        8.60823031e+01+0.00000000e+00j,  2.21226075e+01+6.18284822e+01j,\n",
       "       -2.59526181e+01+1.60243977e+01j, -5.60424779e+00-8.60515539e+00j,\n",
       "        1.82107892e+00-1.09891485e+00j,  2.04849386e-01+1.35425184e-01j,\n",
       "        6.21344498e-01+4.76634575e-01j, -5.60860052e-01+3.71865356e-01j,\n",
       "       -3.22258177e-01-8.89081884e-01j,  7.62253245e-01-1.02591902e-01j,\n",
       "        1.17218451e-02+9.32409340e-01j, -7.64786007e-01-4.66569683e-03j,\n",
       "        5.94208281e-02-8.68640369e-01j,  7.41678965e-01-8.00234456e-02j,\n",
       "        5.45971960e-02+7.68150814e-01j, -6.86072201e-01+2.74440231e-01j,\n",
       "       -2.82731357e-01-5.95502140e-01j,  5.12488062e-01-4.88917354e-01j,\n",
       "        4.99190377e-01+3.02671316e-01j, -1.93544023e-01+6.00235758e-01j,\n",
       "       -5.56832986e-01+8.49101823e-02j, -1.86616193e-01-4.80672963e-01j,\n",
       "        3.54067084e-01-4.10013135e-01j,  4.20135286e-01+1.22848275e-01j,\n",
       "        2.70503093e-02+4.59736611e-01j, -3.31689709e-01+2.68610550e-01j,\n",
       "       -3.11241354e-01-1.76787832e-01j, -7.80145944e-03-3.93813451e-01j,\n",
       "        2.53433579e-01-2.06722824e-01j,  2.64347644e-01+1.45486716e-01j,\n",
       "        6.35298467e-02+3.17815765e-01j, -1.65698684e-01+1.92501249e-01j,\n",
       "       -2.50266256e-01-7.11907923e-02j, -1.33930765e-01-2.32794339e-01j,\n",
       "        8.47849995e-02-1.85620280e-01j,  2.23191996e-01-1.33182204e-02j,\n",
       "        1.73063224e-01+1.26769293e-01j, -3.70396633e-03+1.53696937e-01j,\n",
       "       -1.50161064e-01+9.23596632e-02j, -1.64500485e-01-2.77099723e-03j,\n",
       "       -6.72707865e-02-9.20405015e-02j,  4.68575765e-02-1.33080541e-01j,\n",
       "        1.00150306e-01-9.05328899e-02j,  8.46624438e-02+1.34445439e-02j,\n",
       "        4.18028211e-02+9.89904796e-02j,  1.93138555e-03+1.04695286e-01j,\n",
       "       -3.75794049e-02+4.43834500e-02j, -7.36234606e-02-2.12288421e-02j,\n",
       "       -7.36901053e-02-5.02533298e-02j, -1.91269200e-02-4.59021978e-02j,\n",
       "        5.06748903e-02-3.19838961e-02j,  7.39398797e-02-1.81439547e-02j,\n",
       "        3.91511785e-02+4.76395081e-03j, -6.81525788e-03+3.80471102e-02j,\n",
       "       -2.28593815e-02+5.71792820e-02j, -1.72078499e-02+3.62452435e-02j,\n",
       "       -1.95617704e-02-1.28106510e-02j, -3.10161930e-02-4.56453570e-02j,\n",
       "       -2.54514075e-02-3.62161426e-02j,  6.79777518e-03-8.70300446e-03j,\n",
       "        4.08817745e-02-1.49323368e-03j,  4.61887454e-02-1.16506397e-02j,\n",
       "        2.11278215e-02-3.34859525e-03j, -7.70001769e-03+3.15361266e-02j,\n",
       "       -1.73324412e-02+5.33437688e-02j])"
      ]
     },
     "execution_count": 67,
     "metadata": {},
     "output_type": "execute_result"
    }
   ],
   "source": [
    "cm_T = np.zeros(N_fftlog+1, dtype=np.complex_)\n",
    "\n",
    "for i in range(N_fftlog+1):\n",
    "    if i-N_fftlog/2 < 0: # from i=0 to 63    ---> give the 'pre_cm' from 64 to 1\n",
    "        cm_T[i] = kmin_fft**(-etam_fft_T[i])*np.conj(pre_cm_T[-i + N_fftlog//2])\n",
    "    else:   # from i=64 to 128 (129 is no longer considered) ---> give the 'pre_cm' from 0 to 64\n",
    "        cm_T[i] = kmin_fft**(-etam_fft_T[i])*pre_cm_T[i - N_fftlog//2]\n",
    "\n",
    "cm_T"
   ]
  },
  {
   "cell_type": "code",
   "execution_count": 68,
   "id": "9891d7d7",
   "metadata": {
    "collapsed": true
   },
   "outputs": [
    {
     "data": {
      "text/plain": [
       "array([[-8.66622058e-03-2.66718844e-02j, -1.30000000e+00-3.46551594e+01j],\n",
       "       [-7.70001769e-03-3.15361266e-02j, -1.30000000e+00-3.41136725e+01j],\n",
       "       [ 2.11278215e-02+3.34859525e-03j, -1.30000000e+00-3.35721857e+01j],\n",
       "       [ 4.61887454e-02+1.16506397e-02j, -1.30000000e+00-3.30306988e+01j],\n",
       "       [ 4.08817745e-02+1.49323368e-03j, -1.30000000e+00-3.24892119e+01j],\n",
       "       [ 6.79777518e-03+8.70300446e-03j, -1.30000000e+00-3.19477251e+01j],\n",
       "       [-2.54514075e-02+3.62161426e-02j, -1.30000000e+00-3.14062382e+01j],\n",
       "       [-3.10161930e-02+4.56453570e-02j, -1.30000000e+00-3.08647513e+01j],\n",
       "       [-1.95617704e-02+1.28106510e-02j, -1.30000000e+00-3.03232645e+01j],\n",
       "       [-1.72078499e-02-3.62452435e-02j, -1.30000000e+00-2.97817776e+01j],\n",
       "       [-2.28593815e-02-5.71792820e-02j, -1.30000000e+00-2.92402907e+01j],\n",
       "       [-6.81525788e-03-3.80471102e-02j, -1.30000000e+00-2.86988039e+01j],\n",
       "       [ 3.91511785e-02-4.76395081e-03j, -1.30000000e+00-2.81573170e+01j],\n",
       "       [ 7.39398797e-02+1.81439547e-02j, -1.30000000e+00-2.76158301e+01j],\n",
       "       [ 5.06748903e-02+3.19838961e-02j, -1.30000000e+00-2.70743433e+01j],\n",
       "       [-1.91269200e-02+4.59021978e-02j, -1.30000000e+00-2.65328564e+01j],\n",
       "       [-7.36901053e-02+5.02533298e-02j, -1.30000000e+00-2.59913695e+01j],\n",
       "       [-7.36234606e-02+2.12288421e-02j, -1.30000000e+00-2.54498827e+01j],\n",
       "       [-3.75794049e-02-4.43834500e-02j, -1.30000000e+00-2.49083958e+01j],\n",
       "       [ 1.93138555e-03-1.04695286e-01j, -1.30000000e+00-2.43669089e+01j],\n",
       "       [ 4.18028211e-02-9.89904796e-02j, -1.30000000e+00-2.38254221e+01j],\n",
       "       [ 8.46624438e-02-1.34445439e-02j, -1.30000000e+00-2.32839352e+01j],\n",
       "       [ 1.00150306e-01+9.05328899e-02j, -1.30000000e+00-2.27424483e+01j],\n",
       "       [ 4.68575765e-02+1.33080541e-01j, -1.30000000e+00-2.22009615e+01j],\n",
       "       [-6.72707865e-02+9.20405015e-02j, -1.30000000e+00-2.16594746e+01j],\n",
       "       [-1.64500485e-01+2.77099723e-03j, -1.30000000e+00-2.11179878e+01j],\n",
       "       [-1.50161064e-01-9.23596632e-02j, -1.30000000e+00-2.05765009e+01j],\n",
       "       [-3.70396633e-03-1.53696937e-01j, -1.30000000e+00-2.00350140e+01j],\n",
       "       [ 1.73063224e-01-1.26769293e-01j, -1.30000000e+00-1.94935272e+01j],\n",
       "       [ 2.23191996e-01+1.33182204e-02j, -1.30000000e+00-1.89520403e+01j],\n",
       "       [ 8.47849995e-02+1.85620280e-01j, -1.30000000e+00-1.84105534e+01j],\n",
       "       [-1.33930765e-01+2.32794339e-01j, -1.30000000e+00-1.78690666e+01j],\n",
       "       [-2.50266256e-01+7.11907923e-02j, -1.30000000e+00-1.73275797e+01j],\n",
       "       [-1.65698684e-01-1.92501249e-01j, -1.30000000e+00-1.67860928e+01j],\n",
       "       [ 6.35298467e-02-3.17815765e-01j, -1.30000000e+00-1.62446060e+01j],\n",
       "       [ 2.64347644e-01-1.45486716e-01j, -1.30000000e+00-1.57031191e+01j],\n",
       "       [ 2.53433579e-01+2.06722824e-01j, -1.30000000e+00-1.51616322e+01j],\n",
       "       [-7.80145944e-03+3.93813451e-01j, -1.30000000e+00-1.46201454e+01j],\n",
       "       [-3.11241354e-01+1.76787832e-01j, -1.30000000e+00-1.40786585e+01j],\n",
       "       [-3.31689709e-01-2.68610550e-01j, -1.30000000e+00-1.35371716e+01j],\n",
       "       [ 2.70503093e-02-4.59736611e-01j, -1.30000000e+00-1.29956848e+01j],\n",
       "       [ 4.20135286e-01-1.22848275e-01j, -1.30000000e+00-1.24541979e+01j],\n",
       "       [ 3.54067084e-01+4.10013135e-01j, -1.30000000e+00-1.19127110e+01j],\n",
       "       [-1.86616193e-01+4.80672963e-01j, -1.30000000e+00-1.13712242e+01j],\n",
       "       [-5.56832986e-01-8.49101823e-02j, -1.30000000e+00-1.08297373e+01j],\n",
       "       [-1.93544023e-01-6.00235758e-01j, -1.30000000e+00-1.02882504e+01j],\n",
       "       [ 4.99190377e-01-3.02671316e-01j, -1.30000000e+00-9.74676358e+00j],\n",
       "       [ 5.12488062e-01+4.88917354e-01j, -1.30000000e+00-9.20527671e+00j],\n",
       "       [-2.82731357e-01+5.95502140e-01j, -1.30000000e+00-8.66378985e+00j],\n",
       "       [-6.86072201e-01-2.74440231e-01j, -1.30000000e+00-8.12230298e+00j],\n",
       "       [ 5.45971960e-02-7.68150814e-01j, -1.30000000e+00-7.58081612e+00j],\n",
       "       [ 7.41678965e-01+8.00234456e-02j, -1.30000000e+00-7.03932925e+00j],\n",
       "       [ 5.94208281e-02+8.68640369e-01j, -1.30000000e+00-6.49784239e+00j],\n",
       "       [-7.64786007e-01+4.66569683e-03j, -1.30000000e+00-5.95635552e+00j],\n",
       "       [ 1.17218451e-02-9.32409340e-01j, -1.30000000e+00-5.41486865e+00j],\n",
       "       [ 7.62253245e-01+1.02591902e-01j, -1.30000000e+00-4.87338179e+00j],\n",
       "       [-3.22258177e-01+8.89081884e-01j, -1.30000000e+00-4.33189492e+00j],\n",
       "       [-5.60860052e-01-3.71865356e-01j, -1.30000000e+00-3.79040806e+00j],\n",
       "       [ 6.21344498e-01-4.76634575e-01j, -1.30000000e+00-3.24892119e+00j],\n",
       "       [ 2.04849386e-01-1.35425184e-01j, -1.30000000e+00-2.70743433e+00j],\n",
       "       [ 1.82107892e+00+1.09891485e+00j, -1.30000000e+00-2.16594746e+00j],\n",
       "       [-5.60424779e+00+8.60515539e+00j, -1.30000000e+00-1.62446060e+00j],\n",
       "       [-2.59526181e+01-1.60243977e+01j, -1.30000000e+00-1.08297373e+00j],\n",
       "       [ 2.21226075e+01-6.18284822e+01j, -1.30000000e+00-5.41486865e-01j],\n",
       "       [ 8.60823031e+01+0.00000000e+00j, -1.30000000e+00+0.00000000e+00j],\n",
       "       [ 2.21226075e+01+6.18284822e+01j, -1.30000000e+00+5.41486865e-01j],\n",
       "       [-2.59526181e+01+1.60243977e+01j, -1.30000000e+00+1.08297373e+00j],\n",
       "       [-5.60424779e+00-8.60515539e+00j, -1.30000000e+00+1.62446060e+00j],\n",
       "       [ 1.82107892e+00-1.09891485e+00j, -1.30000000e+00+2.16594746e+00j],\n",
       "       [ 2.04849386e-01+1.35425184e-01j, -1.30000000e+00+2.70743433e+00j],\n",
       "       [ 6.21344498e-01+4.76634575e-01j, -1.30000000e+00+3.24892119e+00j],\n",
       "       [-5.60860052e-01+3.71865356e-01j, -1.30000000e+00+3.79040806e+00j],\n",
       "       [-3.22258177e-01-8.89081884e-01j, -1.30000000e+00+4.33189492e+00j],\n",
       "       [ 7.62253245e-01-1.02591902e-01j, -1.30000000e+00+4.87338179e+00j],\n",
       "       [ 1.17218451e-02+9.32409340e-01j, -1.30000000e+00+5.41486865e+00j],\n",
       "       [-7.64786007e-01-4.66569683e-03j, -1.30000000e+00+5.95635552e+00j],\n",
       "       [ 5.94208281e-02-8.68640369e-01j, -1.30000000e+00+6.49784239e+00j],\n",
       "       [ 7.41678965e-01-8.00234456e-02j, -1.30000000e+00+7.03932925e+00j],\n",
       "       [ 5.45971960e-02+7.68150814e-01j, -1.30000000e+00+7.58081612e+00j],\n",
       "       [-6.86072201e-01+2.74440231e-01j, -1.30000000e+00+8.12230298e+00j],\n",
       "       [-2.82731357e-01-5.95502140e-01j, -1.30000000e+00+8.66378985e+00j],\n",
       "       [ 5.12488062e-01-4.88917354e-01j, -1.30000000e+00+9.20527671e+00j],\n",
       "       [ 4.99190377e-01+3.02671316e-01j, -1.30000000e+00+9.74676358e+00j],\n",
       "       [-1.93544023e-01+6.00235758e-01j, -1.30000000e+00+1.02882504e+01j],\n",
       "       [-5.56832986e-01+8.49101823e-02j, -1.30000000e+00+1.08297373e+01j],\n",
       "       [-1.86616193e-01-4.80672963e-01j, -1.30000000e+00+1.13712242e+01j],\n",
       "       [ 3.54067084e-01-4.10013135e-01j, -1.30000000e+00+1.19127110e+01j],\n",
       "       [ 4.20135286e-01+1.22848275e-01j, -1.30000000e+00+1.24541979e+01j],\n",
       "       [ 2.70503093e-02+4.59736611e-01j, -1.30000000e+00+1.29956848e+01j],\n",
       "       [-3.31689709e-01+2.68610550e-01j, -1.30000000e+00+1.35371716e+01j],\n",
       "       [-3.11241354e-01-1.76787832e-01j, -1.30000000e+00+1.40786585e+01j],\n",
       "       [-7.80145944e-03-3.93813451e-01j, -1.30000000e+00+1.46201454e+01j],\n",
       "       [ 2.53433579e-01-2.06722824e-01j, -1.30000000e+00+1.51616322e+01j],\n",
       "       [ 2.64347644e-01+1.45486716e-01j, -1.30000000e+00+1.57031191e+01j],\n",
       "       [ 6.35298467e-02+3.17815765e-01j, -1.30000000e+00+1.62446060e+01j],\n",
       "       [-1.65698684e-01+1.92501249e-01j, -1.30000000e+00+1.67860928e+01j],\n",
       "       [-2.50266256e-01-7.11907923e-02j, -1.30000000e+00+1.73275797e+01j],\n",
       "       [-1.33930765e-01-2.32794339e-01j, -1.30000000e+00+1.78690666e+01j],\n",
       "       [ 8.47849995e-02-1.85620280e-01j, -1.30000000e+00+1.84105534e+01j],\n",
       "       [ 2.23191996e-01-1.33182204e-02j, -1.30000000e+00+1.89520403e+01j],\n",
       "       [ 1.73063224e-01+1.26769293e-01j, -1.30000000e+00+1.94935272e+01j],\n",
       "       [-3.70396633e-03+1.53696937e-01j, -1.30000000e+00+2.00350140e+01j],\n",
       "       [-1.50161064e-01+9.23596632e-02j, -1.30000000e+00+2.05765009e+01j],\n",
       "       [-1.64500485e-01-2.77099723e-03j, -1.30000000e+00+2.11179878e+01j],\n",
       "       [-6.72707865e-02-9.20405015e-02j, -1.30000000e+00+2.16594746e+01j],\n",
       "       [ 4.68575765e-02-1.33080541e-01j, -1.30000000e+00+2.22009615e+01j],\n",
       "       [ 1.00150306e-01-9.05328899e-02j, -1.30000000e+00+2.27424483e+01j],\n",
       "       [ 8.46624438e-02+1.34445439e-02j, -1.30000000e+00+2.32839352e+01j],\n",
       "       [ 4.18028211e-02+9.89904796e-02j, -1.30000000e+00+2.38254221e+01j],\n",
       "       [ 1.93138555e-03+1.04695286e-01j, -1.30000000e+00+2.43669089e+01j],\n",
       "       [-3.75794049e-02+4.43834500e-02j, -1.30000000e+00+2.49083958e+01j],\n",
       "       [-7.36234606e-02-2.12288421e-02j, -1.30000000e+00+2.54498827e+01j],\n",
       "       [-7.36901053e-02-5.02533298e-02j, -1.30000000e+00+2.59913695e+01j],\n",
       "       [-1.91269200e-02-4.59021978e-02j, -1.30000000e+00+2.65328564e+01j],\n",
       "       [ 5.06748903e-02-3.19838961e-02j, -1.30000000e+00+2.70743433e+01j],\n",
       "       [ 7.39398797e-02-1.81439547e-02j, -1.30000000e+00+2.76158301e+01j],\n",
       "       [ 3.91511785e-02+4.76395081e-03j, -1.30000000e+00+2.81573170e+01j],\n",
       "       [-6.81525788e-03+3.80471102e-02j, -1.30000000e+00+2.86988039e+01j],\n",
       "       [-2.28593815e-02+5.71792820e-02j, -1.30000000e+00+2.92402907e+01j],\n",
       "       [-1.72078499e-02+3.62452435e-02j, -1.30000000e+00+2.97817776e+01j],\n",
       "       [-1.95617704e-02-1.28106510e-02j, -1.30000000e+00+3.03232645e+01j],\n",
       "       [-3.10161930e-02-4.56453570e-02j, -1.30000000e+00+3.08647513e+01j],\n",
       "       [-2.54514075e-02-3.62161426e-02j, -1.30000000e+00+3.14062382e+01j],\n",
       "       [ 6.79777518e-03-8.70300446e-03j, -1.30000000e+00+3.19477251e+01j],\n",
       "       [ 4.08817745e-02-1.49323368e-03j, -1.30000000e+00+3.24892119e+01j],\n",
       "       [ 4.61887454e-02-1.16506397e-02j, -1.30000000e+00+3.30306988e+01j],\n",
       "       [ 2.11278215e-02-3.34859525e-03j, -1.30000000e+00+3.35721857e+01j],\n",
       "       [-7.70001769e-03+3.15361266e-02j, -1.30000000e+00+3.41136725e+01j],\n",
       "       [-8.66622058e-03+2.66718844e-02j, -1.30000000e+00+3.46551594e+01j]])"
      ]
     },
     "execution_count": 68,
     "metadata": {},
     "output_type": "execute_result"
    }
   ],
   "source": [
    "# Handly giving the first and last terms the right values (half)\n",
    "\n",
    "cm_T[0] = cm_T[0]/2\n",
    "cm_T[-1] = cm_T[-1]/2\n",
    "\n",
    "result = np.concatenate((cm_T.reshape(-1,1),etam_fft_T.reshape(-1,1)), axis = 1)\n",
    "result   #3era cifr"
   ]
  },
  {
   "cell_type": "markdown",
   "id": "35f47697",
   "metadata": {},
   "source": [
    "#### We define cmT_etamT which is the array returned by introduce the variables k, nu and N given\n",
    "\n",
    "(this is not necessary here bc in mathematica is defined through a module)\n",
    "\n",
    "All we need is the variable outputted as 'result' and we already have it as cm"
   ]
  },
  {
   "cell_type": "code",
   "execution_count": 69,
   "id": "7bbf2b40",
   "metadata": {},
   "outputs": [],
   "source": [
    "# Recalling the fisrt min. & max. value of chi in this code\n",
    "\n",
    "chiMax_backg = chiOfzT_backg[-1][1] # same chi_Max (7519.61)\n",
    "chimin_backg = chiOfzT_backg[0][1]  # same chi_min (0.0)\n",
    "\n",
    "Nchi_fft = 150\n",
    "chimin_fft = max(0.0001, chimin_backg)\n",
    "chiMax_fft = min(chimax_lensEff, chiMax_backg)\n",
    "deltachi_fft = math.log10(chiMax_fft/chimin_fft)/(Nchi_fft-1)"
   ]
  },
  {
   "cell_type": "code",
   "execution_count": 70,
   "id": "13efa794",
   "metadata": {
    "collapsed": true
   },
   "outputs": [
    {
     "name": "stdout",
     "output_type": "stream",
     "text": [
      "chiT_fft:  150 log-spaced chi values over the interval [ 0.0001 , 3000 ] Mpc/h.\n"
     ]
    },
    {
     "data": {
      "text/plain": [
       "array([1.00000000e-04, 1.12248881e-04, 1.25998114e-04, 1.41431473e-04,\n",
       "       1.58755247e-04, 1.78200989e-04, 2.00028616e-04, 2.24529884e-04,\n",
       "       2.52032284e-04, 2.82903419e-04, 3.17555924e-04, 3.56452972e-04,\n",
       "       4.00114474e-04, 4.49124021e-04, 5.04136690e-04, 5.65887796e-04,\n",
       "       6.35202721e-04, 7.13007949e-04, 8.00343447e-04, 8.98376566e-04,\n",
       "       1.00841765e-03, 1.13193753e-03, 1.27058721e-03, 1.42621993e-03,\n",
       "       1.60091592e-03, 1.79701022e-03, 2.01712387e-03, 2.26419898e-03,\n",
       "       2.54153802e-03, 2.85284800e-03, 3.20228997e-03, 3.59453467e-03,\n",
       "       4.03482496e-03, 4.52904589e-03, 5.08380335e-03, 5.70651239e-03,\n",
       "       6.40549633e-03, 7.19009797e-03, 8.07080455e-03, 9.05938783e-03,\n",
       "       1.01690615e-02, 1.14146578e-02, 1.28128257e-02, 1.43822535e-02,\n",
       "       1.61439187e-02, 1.81213681e-02, 2.03410330e-02, 2.28325820e-02,\n",
       "       2.56293179e-02, 2.87686227e-02, 3.22924572e-02, 3.62479219e-02,\n",
       "       4.06878869e-02, 4.56716979e-02, 5.12659701e-02, 5.75454779e-02,\n",
       "       6.45941553e-02, 7.25062168e-02, 8.13874173e-02, 9.13564655e-02,\n",
       "       1.02546611e-01, 1.15107423e-01, 1.29206795e-01, 1.45033182e-01,\n",
       "       1.62798125e-01, 1.82739074e-01, 2.05122566e-01, 2.30247786e-01,\n",
       "       2.58450565e-01, 2.90107868e-01, 3.25642837e-01, 3.65530441e-01,\n",
       "       4.10303832e-01, 4.60561461e-01, 5.16975089e-01, 5.80298754e-01,\n",
       "       6.51378861e-01, 7.31165485e-01, 8.20725078e-01, 9.21254719e-01,\n",
       "       1.03409812e+00, 1.16076357e+00, 1.30294412e+00, 1.46254020e+00,\n",
       "       1.64168502e+00, 1.84277307e+00, 2.06849216e+00, 2.32185931e+00,\n",
       "       2.60626110e+00, 2.92549893e+00, 3.28383983e+00, 3.68607347e+00,\n",
       "       4.13757624e+00, 4.64438305e+00, 5.21326802e+00, 5.85183504e+00,\n",
       "       6.56861938e+00, 7.37320177e+00, 8.27633651e+00, 9.29009516e+00,\n",
       "       1.04280279e+01, 1.17053447e+01, 1.31391185e+01, 1.47485135e+01,\n",
       "       1.65550414e+01, 1.85828488e+01, 2.08590399e+01, 2.34140390e+01,\n",
       "       2.62819969e+01, 2.95012475e+01, 3.31148203e+01, 3.71710154e+01,\n",
       "       4.17240490e+01, 4.68347783e+01, 5.25715147e+01, 5.90109372e+01,\n",
       "       6.62391169e+01, 7.43526678e+01, 8.34600379e+01, 9.36829590e+01,\n",
       "       1.05158074e+02, 1.18038761e+02, 1.32497189e+02, 1.48726613e+02,\n",
       "       1.66943959e+02, 1.87392727e+02, 2.10346240e+02, 2.36111301e+02,\n",
       "       2.65032294e+02, 2.97495786e+02, 3.33935692e+02, 3.74839078e+02,\n",
       "       4.20752673e+02, 4.72290169e+02, 5.30140431e+02, 5.95076704e+02,\n",
       "       6.67966944e+02, 7.49785423e+02, 8.41625750e+02, 9.44715490e+02,\n",
       "       1.06043257e+03, 1.19032370e+03, 1.33612504e+03, 1.49978541e+03,\n",
       "       1.68349234e+03, 1.88970132e+03, 2.12116860e+03, 2.38098802e+03,\n",
       "       2.67263242e+03, 3.00000000e+03])"
      ]
     },
     "execution_count": 70,
     "metadata": {},
     "output_type": "execute_result"
    }
   ],
   "source": [
    "chiT_fft = np.zeros(Nchi_fft)\n",
    "for i in range(Nchi_fft):\n",
    "    chiT_fft[i] = 10**(math.log10(chimin_fft) + deltachi_fft*i)\n",
    "\n",
    "print('chiT_fft: ', Nchi_fft, 'log-spaced chi values over the interval [', chimin_fft,',', chiMax_fft,'] Mpc/h.')\n",
    "\n",
    "chiT_fft"
   ]
  },
  {
   "cell_type": "code",
   "execution_count": 71,
   "id": "5d38dc79",
   "metadata": {
    "collapsed": true
   },
   "outputs": [
    {
     "name": "stdout",
     "output_type": "stream",
     "text": [
      "The time used to execute this is 0.7349197864532471 s.\n"
     ]
    },
    {
     "data": {
      "text/plain": [
       "array([-2.14386642e-11-3.92559402e-11j,  4.06820075e-11+2.37224839e-12j,\n",
       "       -2.15809717e-11+3.02510461e-11j, -1.27592896e-11-3.14240612e-11j,\n",
       "        3.04598368e-11+5.68747436e-12j, -1.95432352e-11+2.05334224e-11j,\n",
       "       -5.85025045e-12-2.53130694e-11j,  2.23116967e-11+8.49660932e-12j,\n",
       "       -1.80940666e-11+1.25602269e-11j,  7.12882917e-14-2.04371904e-11j,\n",
       "        1.55085903e-11+1.11778742e-11j, -1.71921264e-11+5.59479444e-12j,\n",
       "        5.56175026e-12-1.64257594e-11j,  9.50098845e-12+1.40003705e-11j,\n",
       "       -1.67988177e-11-9.28081172e-13j,  1.10635987e-11-1.29841158e-11j,\n",
       "        3.83686157e-12+1.71924369e-11j, -1.68921618e-11-7.49842454e-12j,\n",
       "        1.69876556e-11-9.85720352e-12j, -1.90865422e-12+2.09888459e-11j,\n",
       "       -1.74689063e-11-1.46123483e-11j,  2.37815575e-11-6.78857207e-12j,\n",
       "       -8.20491736e-12+2.56668058e-11j, -1.85363003e-11-2.28541437e-11j,\n",
       "        3.19980161e-11-3.46691140e-12j, -1.56531613e-11+3.15772861e-11j,\n",
       "       -2.00907948e-11-3.29949768e-11j,  4.23756324e-11+5.50795882e-13j,\n",
       "       -2.51072167e-11+3.91790292e-11j, -2.20821724e-11-4.61327816e-11j,\n",
       "        5.59612182e-11+5.95874086e-12j, -3.78739500e-11+4.90933934e-11j,\n",
       "       -2.43428184e-11-6.39395138e-11j,  7.43234339e-11+1.39414027e-11j,\n",
       "       -5.61080064e-11+6.21651846e-11j, -2.63814695e-11-8.91111225e-11j,\n",
       "        9.98766296e-11+2.66912994e-11j, -8.35649044e-11+7.94494979e-11j,\n",
       "       -2.68658384e-11-1.26145797e-10j,  1.36358783e-10+4.84804299e-11j,\n",
       "       -1.27080052e-10+1.01995203e-10j, -2.23547001e-11-1.82801306e-10j,\n",
       "        1.89517840e-10+8.80895236e-11j, -1.99732082e-10+1.29820452e-10j,\n",
       "       -3.82043927e-12-2.72801932e-10j,  2.67462064e-10+1.64674880e-10j,\n",
       "       -3.27592530e-10+1.57805615e-10j,  5.31790807e-11-4.20147878e-10j,\n",
       "        3.77673340e-10+3.22220467e-10j, -5.63624957e-10+1.60523302e-10j,\n",
       "        2.17434405e-10-6.62189709e-10j,  5.05455163e-10+6.65287734e-10j,\n",
       "       -1.00941342e-09+3.54971310e-11j,  6.87493665e-10-1.02201902e-09j,\n",
       "        4.99958246e-10+1.43079266e-09j, -1.78355003e-09-5.99846301e-10j,\n",
       "        1.99129705e-09-1.25961268e-09j, -4.27964972e-10+2.94148635e-09j,\n",
       "       -2.38876421e-09-2.91606773e-09j,  4.76655177e-09+4.37369049e-10j,\n",
       "       -4.78761363e-09+3.68932471e-09j,  1.62247119e-09-7.32694819e-09j,\n",
       "        3.69490231e-09+8.21034900e-09j, -8.65261341e-09-5.40065361e-09j,\n",
       "        1.06678223e-08+0.00000000e+00j, -8.65261341e-09+5.40065361e-09j,\n",
       "        3.69490231e-09-8.21034900e-09j,  1.62247119e-09+7.32694819e-09j,\n",
       "       -4.78761363e-09-3.68932471e-09j,  4.76655177e-09-4.37369049e-10j,\n",
       "       -2.38876421e-09+2.91606773e-09j, -4.27964972e-10-2.94148635e-09j,\n",
       "        1.99129705e-09+1.25961268e-09j, -1.78355003e-09+5.99846301e-10j,\n",
       "        4.99958246e-10-1.43079266e-09j,  6.87493665e-10+1.02201902e-09j,\n",
       "       -1.00941342e-09-3.54971310e-11j,  5.05455163e-10-6.65287734e-10j,\n",
       "        2.17434405e-10+6.62189709e-10j, -5.63624957e-10-1.60523302e-10j,\n",
       "        3.77673340e-10-3.22220467e-10j,  5.31790807e-11+4.20147878e-10j,\n",
       "       -3.27592530e-10-1.57805615e-10j,  2.67462064e-10-1.64674880e-10j,\n",
       "       -3.82043927e-12+2.72801932e-10j, -1.99732082e-10-1.29820452e-10j,\n",
       "        1.89517840e-10-8.80895236e-11j, -2.23547001e-11+1.82801306e-10j,\n",
       "       -1.27080052e-10-1.01995203e-10j,  1.36358783e-10-4.84804299e-11j,\n",
       "       -2.68658384e-11+1.26145797e-10j, -8.35649044e-11-7.94494979e-11j,\n",
       "        9.98766296e-11-2.66912994e-11j, -2.63814695e-11+8.91111225e-11j,\n",
       "       -5.61080064e-11-6.21651846e-11j,  7.43234339e-11-1.39414027e-11j,\n",
       "       -2.43428184e-11+6.39395138e-11j, -3.78739500e-11-4.90933934e-11j,\n",
       "        5.59612182e-11-5.95874086e-12j, -2.20821724e-11+4.61327816e-11j,\n",
       "       -2.51072167e-11-3.91790292e-11j,  4.23756324e-11-5.50795882e-13j,\n",
       "       -2.00907948e-11+3.29949768e-11j, -1.56531613e-11-3.15772861e-11j,\n",
       "        3.19980161e-11+3.46691140e-12j, -1.85363003e-11+2.28541437e-11j,\n",
       "       -8.20491736e-12-2.56668058e-11j,  2.37815575e-11+6.78857207e-12j,\n",
       "       -1.74689063e-11+1.46123483e-11j, -1.90865422e-12-2.09888459e-11j,\n",
       "        1.69876556e-11+9.85720352e-12j, -1.68921618e-11+7.49842454e-12j,\n",
       "        3.83686157e-12-1.71924369e-11j,  1.10635987e-11+1.29841158e-11j,\n",
       "       -1.67988177e-11+9.28081172e-13j,  9.50098845e-12-1.40003705e-11j,\n",
       "        5.56175026e-12+1.64257594e-11j, -1.71921264e-11-5.59479444e-12j,\n",
       "        1.55085903e-11-1.11778742e-11j,  7.12882917e-14+2.04371904e-11j,\n",
       "       -1.80940666e-11-1.25602269e-11j,  2.23116967e-11-8.49660932e-12j,\n",
       "       -5.85025045e-12+2.53130694e-11j, -1.95432352e-11-2.05334224e-11j,\n",
       "        3.04598368e-11-5.68747436e-12j, -1.27592896e-11+3.14240612e-11j,\n",
       "       -2.15809717e-11-3.02510461e-11j,  4.06820075e-11-2.37224839e-12j,\n",
       "       -2.14386642e-11+3.92559402e-11j])"
      ]
     },
     "execution_count": 71,
     "metadata": {},
     "output_type": "execute_result"
    }
   ],
   "source": [
    "Am_T = np.zeros(len(etam_fft_T),dtype=np.complex_)\n",
    "\n",
    "start_am = time.time()\n",
    "\n",
    "for j in range(len(etam_fft_T)):\n",
    "    etam = etam_fft_T[j]\n",
    "    am = 1 + etam\n",
    "    \n",
    "    Am = 0\n",
    "    Am_B = 0\n",
    "    chifft_A = chiT_fft[0]\n",
    "    Am_A = q(chifft_A)*q(chifft_A)*DplusOfchi(chifft_A)*DplusOfchi(chifft_A)*chifft_A**(-am-1)\n",
    "    \n",
    "    for k in range(len(chiT_fft)):\n",
    "        chifft_B = chiT_fft[k]\n",
    "        Am_B = q(chifft_B)*q(chifft_B)*DplusOfchi(chifft_B)*DplusOfchi(chifft_B)*chifft_B**(-am-1)\n",
    "        deltachi_am = chifft_B - chifft_A\n",
    "        Am = Am + (Am_A + Am_B)/2*deltachi_am\n",
    "        chifft_A = chifft_B\n",
    "        Am_A = Am_B\n",
    "        \n",
    "    Am_T[j] = Am\n",
    "\n",
    "end_am = time.time()\n",
    "print(\"The time used to execute this is\",end_am - start_am, 's.')\n",
    "\n",
    "Am_T         # 4ta cifr. (3era imag)"
   ]
  },
  {
   "cell_type": "code",
   "execution_count": 72,
   "id": "450b86c5",
   "metadata": {
    "collapsed": true
   },
   "outputs": [
    {
     "data": {
      "text/plain": [
       "array([-0.3-34.65515939j, -0.3-34.11367252j, -0.3-33.57218566j,\n",
       "       -0.3-33.03069879j, -0.3-32.48921193j, -0.3-31.94772506j,\n",
       "       -0.3-31.40623819j, -0.3-30.86475133j, -0.3-30.32326446j,\n",
       "       -0.3-29.7817776j , -0.3-29.24029073j, -0.3-28.69880387j,\n",
       "       -0.3-28.157317j  , -0.3-27.61583014j, -0.3-27.07434327j,\n",
       "       -0.3-26.53285641j, -0.3-25.99136954j, -0.3-25.44988268j,\n",
       "       -0.3-24.90839581j, -0.3-24.36690894j, -0.3-23.82542208j,\n",
       "       -0.3-23.28393521j, -0.3-22.74244835j, -0.3-22.20096148j,\n",
       "       -0.3-21.65947462j, -0.3-21.11798775j, -0.3-20.57650089j,\n",
       "       -0.3-20.03501402j, -0.3-19.49352716j, -0.3-18.95204029j,\n",
       "       -0.3-18.41055342j, -0.3-17.86906656j, -0.3-17.32757969j,\n",
       "       -0.3-16.78609283j, -0.3-16.24460596j, -0.3-15.7031191j ,\n",
       "       -0.3-15.16163223j, -0.3-14.62014537j, -0.3-14.0786585j ,\n",
       "       -0.3-13.53717164j, -0.3-12.99568477j, -0.3-12.4541979j ,\n",
       "       -0.3-11.91271104j, -0.3-11.37122417j, -0.3-10.82973731j,\n",
       "       -0.3-10.28825044j, -0.3 -9.74676358j, -0.3 -9.20527671j,\n",
       "       -0.3 -8.66378985j, -0.3 -8.12230298j, -0.3 -7.58081612j,\n",
       "       -0.3 -7.03932925j, -0.3 -6.49784239j, -0.3 -5.95635552j,\n",
       "       -0.3 -5.41486865j, -0.3 -4.87338179j, -0.3 -4.33189492j,\n",
       "       -0.3 -3.79040806j, -0.3 -3.24892119j, -0.3 -2.70743433j,\n",
       "       -0.3 -2.16594746j, -0.3 -1.6244606j , -0.3 -1.08297373j,\n",
       "       -0.3 -0.54148687j, -0.3 +0.j        , -0.3 +0.54148687j,\n",
       "       -0.3 +1.08297373j, -0.3 +1.6244606j , -0.3 +2.16594746j,\n",
       "       -0.3 +2.70743433j, -0.3 +3.24892119j, -0.3 +3.79040806j,\n",
       "       -0.3 +4.33189492j, -0.3 +4.87338179j, -0.3 +5.41486865j,\n",
       "       -0.3 +5.95635552j, -0.3 +6.49784239j, -0.3 +7.03932925j,\n",
       "       -0.3 +7.58081612j, -0.3 +8.12230298j, -0.3 +8.66378985j,\n",
       "       -0.3 +9.20527671j, -0.3 +9.74676358j, -0.3+10.28825044j,\n",
       "       -0.3+10.82973731j, -0.3+11.37122417j, -0.3+11.91271104j,\n",
       "       -0.3+12.4541979j , -0.3+12.99568477j, -0.3+13.53717164j,\n",
       "       -0.3+14.0786585j , -0.3+14.62014537j, -0.3+15.16163223j,\n",
       "       -0.3+15.7031191j , -0.3+16.24460596j, -0.3+16.78609283j,\n",
       "       -0.3+17.32757969j, -0.3+17.86906656j, -0.3+18.41055342j,\n",
       "       -0.3+18.95204029j, -0.3+19.49352716j, -0.3+20.03501402j,\n",
       "       -0.3+20.57650089j, -0.3+21.11798775j, -0.3+21.65947462j,\n",
       "       -0.3+22.20096148j, -0.3+22.74244835j, -0.3+23.28393521j,\n",
       "       -0.3+23.82542208j, -0.3+24.36690894j, -0.3+24.90839581j,\n",
       "       -0.3+25.44988268j, -0.3+25.99136954j, -0.3+26.53285641j,\n",
       "       -0.3+27.07434327j, -0.3+27.61583014j, -0.3+28.157317j  ,\n",
       "       -0.3+28.69880387j, -0.3+29.24029073j, -0.3+29.7817776j ,\n",
       "       -0.3+30.32326446j, -0.3+30.86475133j, -0.3+31.40623819j,\n",
       "       -0.3+31.94772506j, -0.3+32.48921193j, -0.3+33.03069879j,\n",
       "       -0.3+33.57218566j, -0.3+34.11367252j, -0.3+34.65515939j])"
      ]
     },
     "execution_count": 72,
     "metadata": {},
     "output_type": "execute_result"
    }
   ],
   "source": [
    "am_T = 1 + etam_fft_T\n",
    "am_T"
   ]
  },
  {
   "cell_type": "code",
   "execution_count": 73,
   "id": "2aa88719",
   "metadata": {
    "collapsed": true
   },
   "outputs": [
    {
     "data": {
      "text/plain": [
       "array([ 0.05320999-0.0136874j , -0.00512275+0.05496427j,\n",
       "       -0.05044075-0.02307484j,  0.03825519-0.04053924j,\n",
       "        0.02665313+0.04926942j, -0.05532451+0.01043436j,\n",
       "        0.0064302 -0.05622293j,  0.05228759+0.02240479j,\n",
       "       -0.03623789+0.04424186j, -0.03306861-0.04703781j,\n",
       "        0.05429448-0.01986983j,  0.00574258+0.05785705j,\n",
       "       -0.05787994-0.00831858j,  0.02148817-0.05475062j,\n",
       "        0.04901112+0.03314585j, -0.04288563+0.04128281j,\n",
       "       -0.03220145-0.05050391j,  0.0559729 -0.02236604j,\n",
       "        0.01230311+0.05940578j, -0.06101896+0.00244563j,\n",
       "        0.00687518-0.06109565j,  0.05995378+0.01542791j,\n",
       "       -0.02307157+0.05791979j, -0.05530897-0.02974156j,\n",
       "        0.03543313-0.05241217j,  0.04948809+0.04018429j,\n",
       "       -0.04405921+0.04676015j, -0.04441664-0.04713296j,\n",
       "        0.04947799-0.04261291j,  0.04147444+0.05115219j,\n",
       "       -0.05218866+0.04109954j, -0.04156061-0.05258681j,\n",
       "        0.05230484-0.04290293j,  0.04513991+0.05125381j,\n",
       "       -0.04929384+0.04824381j, -0.05213112-0.04623388j,\n",
       "        0.04183696-0.05664219j,  0.06151517+0.03583428j,\n",
       "       -0.02795224+0.06635611j, -0.07060906-0.01795748j,\n",
       "        0.00572544-0.07353353j,  0.07420155-0.00866383j,\n",
       "        0.02480274+0.07153268j, -0.06439094+0.0418154j ,\n",
       "       -0.05822352-0.05177159j,  0.03310155-0.07186667j,\n",
       "        0.0799539 +0.00865861j,  0.01992926+0.07935279j,\n",
       "       -0.0672325 +0.04922181j, -0.07377424-0.04213923j,\n",
       "        0.00544685-0.08657561j,  0.08055205-0.03715594j,\n",
       "        0.07491899+0.05144126j, -0.0018031 +0.09328527j,\n",
       "       -0.07856765+0.05522731j, -0.09552934-0.02658049j,\n",
       "       -0.04712466-0.09134126j,  0.02938202-0.10295973j,\n",
       "        0.09154117-0.06502667j,  0.11880227-0.0042381j ,\n",
       "        0.11594139+0.05353436j,  0.10253906+0.09628786j,\n",
       "        0.10491365+0.1239518j ,  0.15976435+0.12333608j,\n",
       "        0.237689  +0.j        ,  0.15976435-0.12333608j,\n",
       "        0.10491365-0.1239518j ,  0.10253906-0.09628786j,\n",
       "        0.11594139-0.05353436j,  0.11880227+0.0042381j ,\n",
       "        0.09154117+0.06502667j,  0.02938202+0.10295973j,\n",
       "       -0.04712466+0.09134126j, -0.09552934+0.02658049j,\n",
       "       -0.07856765-0.05522731j, -0.0018031 -0.09328527j,\n",
       "        0.07491899-0.05144126j,  0.08055205+0.03715594j,\n",
       "        0.00544685+0.08657561j, -0.07377424+0.04213923j,\n",
       "       -0.0672325 -0.04922181j,  0.01992926-0.07935279j,\n",
       "        0.0799539 -0.00865861j,  0.03310155+0.07186667j,\n",
       "       -0.05822352+0.05177159j, -0.06439094-0.0418154j ,\n",
       "        0.02480274-0.07153268j,  0.07420155+0.00866383j,\n",
       "        0.00572544+0.07353353j, -0.07060906+0.01795748j,\n",
       "       -0.02795224-0.06635611j,  0.06151517-0.03583428j,\n",
       "        0.04183696+0.05664219j, -0.05213112+0.04623388j,\n",
       "       -0.04929384-0.04824381j,  0.04513991-0.05125381j,\n",
       "        0.05230484+0.04290293j, -0.04156061+0.05258681j,\n",
       "       -0.05218866-0.04109954j,  0.04147444-0.05115219j,\n",
       "        0.04947799+0.04261291j, -0.04441664+0.04713296j,\n",
       "       -0.04405921-0.04676015j,  0.04948809-0.04018429j,\n",
       "        0.03543313+0.05241217j, -0.05530897+0.02974156j,\n",
       "       -0.02307157-0.05791979j,  0.05995378-0.01542791j,\n",
       "        0.00687518+0.06109565j, -0.06101896-0.00244563j,\n",
       "        0.01230311-0.05940578j,  0.0559729 +0.02236604j,\n",
       "       -0.03220145+0.05050391j, -0.04288563-0.04128281j,\n",
       "        0.04901112-0.03314585j,  0.02148817+0.05475062j,\n",
       "       -0.05787994+0.00831858j,  0.00574258-0.05785705j,\n",
       "        0.05429448+0.01986983j, -0.03306861+0.04703781j,\n",
       "       -0.03623789-0.04424186j,  0.05228759-0.02240479j,\n",
       "        0.0064302 +0.05622293j, -0.05532451-0.01043436j,\n",
       "        0.02665313-0.04926942j,  0.03825519+0.04053924j,\n",
       "       -0.05044075+0.02307484j, -0.00512275-0.05496427j,\n",
       "        0.05320999+0.0136874j ])"
      ]
     },
     "execution_count": 73,
     "metadata": {},
     "output_type": "execute_result"
    }
   ],
   "source": [
    "from scipy.special import gamma\n",
    "\n",
    "Im0_T = np.zeros(len(etam_fft_T), dtype=np.complex_)\n",
    "for i in range(len(etam_fft_T)):\n",
    "    Im0_T[i] = (2**(-1 + am_T[i])*gamma(1/2*(1+am_T[i])))/(math.pi*gamma(1/2*(1-am_T[i])))\n",
    "    \n",
    "Im0_T  # this coincide with mathem.nb"
   ]
  },
  {
   "cell_type": "code",
   "execution_count": 74,
   "id": "bdc41723",
   "metadata": {
    "collapsed": true
   },
   "outputs": [
    {
     "data": {
      "text/plain": [
       "array([ 0.05482063-0.00117296j, -0.01769267+0.05217102j,\n",
       "       -0.04349411-0.03423429j,  0.04674305-0.0301401j ,\n",
       "        0.01383876+0.0541499j , -0.0560557 -0.00355896j,\n",
       "        0.02030783-0.05267372j,  0.04470962+0.03494099j,\n",
       "       -0.0463779 +0.0332072j , -0.01938614-0.05396817j,\n",
       "        0.05748006-0.0044926j , -0.01032263+0.05704719j,\n",
       "       -0.05308903-0.02409116j,  0.03607753-0.04621988j,\n",
       "        0.0371588 +0.04579661j, -0.05300384+0.02664961j,\n",
       "       -0.01539673-0.05766611j,  0.0599209 -0.0040191j ,\n",
       "       -0.00697778+0.06003064j, -0.05833785-0.01721377j,\n",
       "        0.02643304-0.05522501j,  0.05108158+0.03449346j,\n",
       "       -0.0413499 +0.04627916j, -0.04115481-0.04703447j,\n",
       "        0.05163596-0.03600176j,  0.03106616+0.0552803j ,\n",
       "       -0.05811299+0.0265487j , -0.02260944-0.06028404j,\n",
       "        0.06193548-0.01937463j,  0.01694428+0.06319098j,\n",
       "       -0.06414737+0.01539959j, -0.01480909-0.06486719j,\n",
       "        0.06537192-0.01523285j,  0.01672391+0.06563531j,\n",
       "       -0.06557682+0.01932579j, -0.0230654 -0.06505528j,\n",
       "        0.06386374-0.02793987j,  0.03389663+0.06172707j,\n",
       "       -0.05830534+0.04080566j, -0.04842428-0.05320686j,\n",
       "        0.04601649-0.05635607j,  0.06400854+0.03634582j,\n",
       "       -0.02391213+0.07055843j, -0.07493931-0.00865092j,\n",
       "       -0.00913811-0.07587337j,  0.0719755 -0.02862321j,\n",
       "        0.04828046+0.06196105j, -0.04498145+0.06579711j,\n",
       "       -0.07812494-0.02108745j, -0.00823245-0.08179528j,\n",
       "        0.07360606-0.03957598j,  0.06746185+0.05173095j,\n",
       "       -0.0171418 +0.08482338j, -0.08451673+0.02504386j,\n",
       "       -0.06503873-0.06198583j,  0.01865933-0.08970378j,\n",
       "        0.08656046-0.03527519j,  0.08102963+0.05029491j,\n",
       "        0.01058467+0.09670347j, -0.06844757+0.07173609j,\n",
       "       -0.10086482-0.00290756j, -0.06863354-0.07605841j,\n",
       "        0.00508568-0.10353779j,  0.07597751-0.07166767j,\n",
       "        0.10471613+0.j        ,  0.07597751+0.07166767j,\n",
       "        0.00508568+0.10353779j, -0.06863354+0.07605841j,\n",
       "       -0.10086482+0.00290756j, -0.06844757-0.07173609j,\n",
       "        0.01058467-0.09670347j,  0.08102963-0.05029491j,\n",
       "        0.08656046+0.03527519j,  0.01865933+0.08970378j,\n",
       "       -0.06503873+0.06198583j, -0.08451673-0.02504386j,\n",
       "       -0.0171418 -0.08482338j,  0.06746185-0.05173095j,\n",
       "        0.07360606+0.03957598j, -0.00823245+0.08179528j,\n",
       "       -0.07812494+0.02108745j, -0.04498145-0.06579711j,\n",
       "        0.04828046-0.06196105j,  0.0719755 +0.02862321j,\n",
       "       -0.00913811+0.07587337j, -0.07493931+0.00865092j,\n",
       "       -0.02391213-0.07055843j,  0.06400854-0.03634582j,\n",
       "        0.04601649+0.05635607j, -0.04842428+0.05320686j,\n",
       "       -0.05830534-0.04080566j,  0.03389663-0.06172707j,\n",
       "        0.06386374+0.02793987j, -0.0230654 +0.06505528j,\n",
       "       -0.06557682-0.01932579j,  0.01672391-0.06563531j,\n",
       "        0.06537192+0.01523285j, -0.01480909+0.06486719j,\n",
       "       -0.06414737-0.01539959j,  0.01694428-0.06319098j,\n",
       "        0.06193548+0.01937463j, -0.02260944+0.06028404j,\n",
       "       -0.05811299-0.0265487j ,  0.03106616-0.0552803j ,\n",
       "        0.05163596+0.03600176j, -0.04115481+0.04703447j,\n",
       "       -0.0413499 -0.04627916j,  0.05108158-0.03449346j,\n",
       "        0.02643304+0.05522501j, -0.05833785+0.01721377j,\n",
       "       -0.00697778-0.06003064j,  0.0599209 +0.0040191j ,\n",
       "       -0.01539673+0.05766611j, -0.05300384-0.02664961j,\n",
       "        0.0371588 -0.04579661j,  0.03607753+0.04621988j,\n",
       "       -0.05308903+0.02409116j, -0.01032263-0.05704719j,\n",
       "        0.05748006+0.0044926j , -0.01938614+0.05396817j,\n",
       "       -0.0463779 -0.0332072j ,  0.04470962-0.03494099j,\n",
       "        0.02030783+0.05267372j, -0.0560557 +0.00355896j,\n",
       "        0.01383876-0.0541499j ,  0.04674305+0.0301401j ,\n",
       "       -0.04349411+0.03423429j, -0.01769267-0.05217102j,\n",
       "        0.05482063+0.00117296j])"
      ]
     },
     "execution_count": 74,
     "metadata": {},
     "output_type": "execute_result"
    }
   ],
   "source": [
    "Im4_T = np.zeros(len(etam_fft_T),dtype=np.complex_)\n",
    "for i in range(len(etam_fft_T)):\n",
    "    Im4_T[i] = (2**(-1 + am_T[i])*gamma(1/2*(5+am_T[i])))/(math.pi*gamma(1/2*(5-am_T[i])))\n",
    "    \n",
    "Im4_T # This is correct too "
   ]
  },
  {
   "cell_type": "code",
   "execution_count": 75,
   "id": "c28f7dc8",
   "metadata": {},
   "outputs": [],
   "source": [
    "xiPlus_product = np.zeros(len(cm_T), dtype=np.complex_)\n",
    "\n",
    "def xiPlusf_T(theta):           # 'f' stands for 'function'\n",
    "    for i in range(len(cm_T)):\n",
    "        xiPlus_product[i] = cm_T[i]*Am_T[i]*Im0_T[i]*theta**(-am_T[i]-1)\n",
    "        \n",
    "    return np.sum(xiPlus_product)"
   ]
  },
  {
   "cell_type": "code",
   "execution_count": 76,
   "id": "f65d0ab8",
   "metadata": {
    "collapsed": true
   },
   "outputs": [
    {
     "data": {
      "text/plain": [
       "array([[8.72664626e-04, 5.27330234e-05],\n",
       "       [9.37046363e-04, 5.17121368e-05],\n",
       "       [1.00617793e-03, 5.06698313e-05],\n",
       "       [1.08040975e-03, 4.96065226e-05],\n",
       "       [1.16011810e-03, 4.85221310e-05],\n",
       "       [1.24570701e-03, 4.74177260e-05],\n",
       "       [1.33761034e-03, 4.62947427e-05],\n",
       "       [1.43629393e-03, 4.51534257e-05],\n",
       "       [1.54225800e-03, 4.39950991e-05],\n",
       "       [1.65603968e-03, 4.28212992e-05],\n",
       "       [1.77821573e-03, 4.16328850e-05],\n",
       "       [1.90940543e-03, 4.04315283e-05],\n",
       "       [2.05027380e-03, 3.92187290e-05],\n",
       "       [2.20153487e-03, 3.79958894e-05],\n",
       "       [2.36395539e-03, 3.67648591e-05],\n",
       "       [2.53835865e-03, 3.55272573e-05],\n",
       "       [2.72562869e-03, 3.42849180e-05],\n",
       "       [2.92671477e-03, 3.30397979e-05],\n",
       "       [3.14263618e-03, 3.17937902e-05],\n",
       "       [3.37448742e-03, 3.05490005e-05],\n",
       "       [3.62344373e-03, 2.93074989e-05],\n",
       "       [3.89076705e-03, 2.80714201e-05],\n",
       "       [4.17781242e-03, 2.68429693e-05],\n",
       "       [4.48603486e-03, 2.56243212e-05],\n",
       "       [4.81699673e-03, 2.44177157e-05],\n",
       "       [5.17237565e-03, 2.32253622e-05],\n",
       "       [5.55397303e-03, 2.20494648e-05],\n",
       "       [5.96372314e-03, 2.08922085e-05],\n",
       "       [6.40370300e-03, 1.97557268e-05],\n",
       "       [6.87614282e-03, 1.86421168e-05],\n",
       "       [7.38343738e-03, 1.75533911e-05],\n",
       "       [7.92815813e-03, 1.64914964e-05],\n",
       "       [8.51306621e-03, 1.54582664e-05],\n",
       "       [9.14112649e-03, 1.44554255e-05],\n",
       "       [9.81552257e-03, 1.34845735e-05],\n",
       "       [1.05396729e-02, 1.25471469e-05],\n",
       "       [1.13172482e-02, 1.16444577e-05],\n",
       "       [1.21521899e-02, 1.07776293e-05],\n",
       "       [1.30487303e-02, 9.94762542e-06],\n",
       "       [1.40114139e-02, 9.15523686e-06],\n",
       "       [1.50451205e-02, 8.40103552e-06],\n",
       "       [1.61550899e-02, 7.68543853e-06],\n",
       "       [1.73469484e-02, 7.00863593e-06],\n",
       "       [1.86267375e-02, 6.37063786e-06],\n",
       "       [2.00009443e-02, 5.77128713e-06],\n",
       "       [2.14765347e-02, 5.21019348e-06],\n",
       "       [2.30609883e-02, 4.68683459e-06],\n",
       "       [2.47623366e-02, 4.20048977e-06],\n",
       "       [2.65892037e-02, 3.75028109e-06],\n",
       "       [2.85508497e-02, 3.33522313e-06],\n",
       "       [3.06572182e-02, 2.95413286e-06],\n",
       "       [3.29189863e-02, 2.60578519e-06],\n",
       "       [3.53476186e-02, 2.28887732e-06],\n",
       "       [3.79554258e-02, 2.00213603e-06],\n",
       "       [4.07556267e-02, 1.74461802e-06],\n",
       "       [4.37624153e-02, 1.51532287e-06],\n",
       "       [4.69910328e-02, 1.31250930e-06],\n",
       "       [5.04578450e-02, 1.13314322e-06],\n",
       "       [5.41804248e-02, 9.73335575e-07],\n",
       "       [5.81776417e-02, 8.29924593e-07]])"
      ]
     },
     "execution_count": 76,
     "metadata": {},
     "output_type": "execute_result"
    }
   ],
   "source": [
    "# creating array (x,y) where x= t. angle, y=xi_+(t.ang)\n",
    "\n",
    "# first the y column\n",
    "\n",
    "real_xiP_oftangle = np.zeros(len(tangle_T))\n",
    "\n",
    "for i in range(len(tangle_T)):\n",
    "    real_xiP_oftangle[i] = np.real(xiPlusf_T(tangle_T[i]))\n",
    "\n",
    "# now putting them togheter (x is already known)\n",
    "xiPlus_T = np.concatenate((tangle_T.reshape(-1,1),real_xiP_oftangle.reshape(-1,1)), axis = 1)\n",
    "xiPlus_T      # x and y are correct now (CORRECTION 26/sept)"
   ]
  },
  {
   "cell_type": "code",
   "execution_count": 77,
   "id": "92f63433",
   "metadata": {},
   "outputs": [
    {
     "data": {
      "text/plain": [
       "(2.0025556484211097e-08-1.6543612251060553e-24j)"
      ]
     },
     "execution_count": 77,
     "metadata": {},
     "output_type": "execute_result"
    }
   ],
   "source": [
    "xiPlusf_T(1) # no está dando igual a mathe\n",
    "\n",
    "# PARTE IMAGINARIA de xiPlusf_T (func(θ)) DIFIERE\n",
    "# sin embargo, parte imaginaria es 16 órdenes menor que real."
   ]
  },
  {
   "cell_type": "code",
   "execution_count": 78,
   "id": "503312d3",
   "metadata": {},
   "outputs": [],
   "source": [
    "# interpolating\n",
    "xiPlus = CubicSpline(tangle_T,real_xiP_oftangle, extrapolate = True)"
   ]
  },
  {
   "cell_type": "code",
   "execution_count": 79,
   "id": "12507d61",
   "metadata": {
    "collapsed": true
   },
   "outputs": [
    {
     "name": "stdout",
     "output_type": "stream",
     "text": [
      "[[8.72664626e-04 2.18107170e-06]\n",
      " [9.37046363e-04 2.25894709e-06]\n",
      " [1.00617793e-03 2.33734167e-06]\n",
      " [1.08040975e-03 2.41626370e-06]\n",
      " [1.16011810e-03 2.49530330e-06]\n",
      " [1.24570701e-03 2.57512334e-06]\n",
      " [1.33761034e-03 2.65616527e-06]\n",
      " [1.43629393e-03 2.73766245e-06]\n",
      " [1.54225800e-03 2.81994572e-06]\n",
      " [1.65603968e-03 2.90310949e-06]\n",
      " [1.77821573e-03 2.98655619e-06]\n",
      " [1.90940543e-03 3.07040937e-06]\n",
      " [2.05027380e-03 3.15436276e-06]\n",
      " [2.20153487e-03 3.23801554e-06]\n",
      " [2.36395539e-03 3.32126720e-06]\n",
      " [2.53835865e-03 3.40367321e-06]\n",
      " [2.72562869e-03 3.48496706e-06]\n",
      " [2.92671477e-03 3.56486892e-06]\n",
      " [3.14263618e-03 3.64298172e-06]\n",
      " [3.37448742e-03 3.71904355e-06]\n",
      " [3.62344373e-03 3.79267386e-06]\n",
      " [3.89076705e-03 3.86352338e-06]\n",
      " [4.17781242e-03 3.93125346e-06]\n",
      " [4.48603486e-03 3.99547182e-06]\n",
      " [4.81699673e-03 4.05583509e-06]\n",
      " [5.17237565e-03 4.11196156e-06]\n",
      " [5.55397303e-03 4.16348534e-06]\n",
      " [5.96372314e-03 4.21004650e-06]\n",
      " [6.40370300e-03 4.25128433e-06]\n",
      " [6.87614282e-03 4.28686310e-06]\n",
      " [7.38343738e-03 4.31644395e-06]\n",
      " [7.92815813e-03 4.33972139e-06]\n",
      " [8.51306621e-03 4.35639165e-06]\n",
      " [9.14112649e-03 4.36618170e-06]\n",
      " [9.81552257e-03 4.36884425e-06]\n",
      " [1.05396729e-02 4.36414662e-06]\n",
      " [1.13172482e-02 4.35191912e-06]\n",
      " [1.21521899e-02 4.33200385e-06]\n",
      " [1.30487303e-02 4.30430397e-06]\n",
      " [1.40114139e-02 4.26876748e-06]\n",
      " [1.50451205e-02 4.22536492e-06]\n",
      " [1.61550899e-02 4.17415363e-06]\n",
      " [1.73469484e-02 4.11520678e-06]\n",
      " [1.86267375e-02 4.04867442e-06]\n",
      " [2.00009443e-02 3.97477288e-06]\n",
      " [2.14765347e-02 3.89373129e-06]\n",
      " [2.30609883e-02 3.80588184e-06]\n",
      " [2.47623366e-02 3.71157280e-06]\n",
      " [2.65892037e-02 3.61121547e-06]\n",
      " [2.85508497e-02 3.50529343e-06]\n",
      " [3.06572182e-02 3.39427272e-06]\n",
      " [3.29189863e-02 3.27873552e-06]\n",
      " [3.53476186e-02 3.15928823e-06]\n",
      " [3.79554258e-02 3.03664260e-06]\n",
      " [4.07556267e-02 2.91176271e-06]\n",
      " [4.37624153e-02 2.78539090e-06]\n",
      " [4.69910328e-02 2.65759559e-06]\n",
      " [5.04578450e-02 2.52768894e-06]\n",
      " [5.41804248e-02 2.39505128e-06]\n",
      " [5.81776417e-02 2.26041788e-06]]\n"
     ]
    }
   ],
   "source": [
    "# Now doing the same for the minus component (with Im4T)\n",
    "xiMinus_product = np.zeros(len(cm_T), dtype=np.complex_)\n",
    "\n",
    "def xiMinusf_T(theta):\n",
    "    for i in range(len(cm_T)):\n",
    "        xiMinus_product[i] = cm_T[i]*Am_T[i]*Im4_T[i]*theta**(-am_T[i] - 1)\n",
    "    return np.sum(xiMinus_product)\n",
    "\n",
    "\n",
    "real_xiM_oftangle = np.zeros(len(tangle_T))\n",
    "\n",
    "for i in range(len(tangle_T)):\n",
    "    real_xiM_oftangle[i] = np.real(xiMinusf_T(tangle_T[i]))\n",
    "\n",
    "xiMinus_T = np.concatenate((tangle_T.reshape(-1,1),real_xiM_oftangle.reshape(-1,1)), axis = 1)\n",
    "print(xiMinus_T)\n",
    "\n",
    "# interpolating\n",
    "xiMinus = CubicSpline(tangle_T,real_xiM_oftangle, extrapolate = True)"
   ]
  },
  {
   "cell_type": "code",
   "execution_count": 80,
   "id": "30aeca6e",
   "metadata": {},
   "outputs": [
    {
     "data": {
      "text/plain": [
       "array(7.36820945e-05)"
      ]
     },
     "execution_count": 80,
     "metadata": {},
     "output_type": "execute_result"
    }
   ],
   "source": [
    "xiPlus(0)"
   ]
  },
  {
   "cell_type": "code",
   "execution_count": 81,
   "id": "a3b2128e",
   "metadata": {},
   "outputs": [],
   "source": [
    "def xiP_plot(t):\n",
    "    return (10**4)*t*xiPlus(t*math.pi/(180*60))\n",
    "\n",
    "def xiM_plot(t):\n",
    "    return (10**4)*t*xiMinus(t*math.pi/(180*60))\n",
    "\n",
    "t_xiplot = np.linspace(3,200, num=1000, endpoint=True)\n",
    "\n",
    "xi_P = xiP_plot(t_xiplot)\n",
    "xi_M = xiM_plot(t_xiplot)"
   ]
  },
  {
   "cell_type": "code",
   "execution_count": 82,
   "id": "37065ad6",
   "metadata": {},
   "outputs": [
    {
     "data": {
      "image/png": "[encoded data removed]",
      "text/plain": [
       "<Figure size 720x489.6 with 1 Axes>"
      ]
     },
     "metadata": {
      "needs_background": "light"
     },
     "output_type": "display_data"
    }
   ],
   "source": [
    "plt.plot(t_xiplot,xi_P, \"-\", label=r'$\\xi_+$')\n",
    "plt.plot(t_xiplot,xi_M, \"-\", label=r'$\\xi_-$')\n",
    "\n",
    "font1 = {'family':'serif','color':'darkred','size':16}\n",
    "font2 = {'family':'serif','color':'black','size':16}\n",
    "\n",
    "plt.legend(loc='right',bbox_to_anchor=(1.2, 0.5),fontsize = 'xx-large')\n",
    "\n",
    "plt.title(r'Correlation functions', fontdict = font1)\n",
    "plt.xlabel(r\"$\\theta$ [arcmin]\",fontdict = font2)\n",
    "plt.ylabel(r\"$\\theta \\xi_{+,-}(\\theta)$\",fontdict = font2)\n",
    "\n",
    "plt.ylim(0,5)\n",
    "plt.xscale('log')\n",
    "\n",
    "plt.show()         # A PESAR DE QUE SE PARECEN NO TIENE LOS MISMOS VALORES EN LA PTE. IMAG."
   ]
  },
  {
   "cell_type": "code",
   "execution_count": 83,
   "id": "ff53fc78",
   "metadata": {},
   "outputs": [],
   "source": [
    "# Save output variables\n",
    "\n",
    "xiPlus_FFT_output = xiPlus_T\n",
    "xiMinus_FFT_output = xiMinus_T"
   ]
  },
  {
   "cell_type": "markdown",
   "id": "95d829c9",
   "metadata": {},
   "source": [
    "## Module Correlation functions $\\xi_+$ and $\\xi_-$ Using Direct integration of Ckappa\n",
    "\n",
    "Recalling the same **PSL data 'pkT'** with its own **kmin=0.00001** and **kMax=521.8876**, and the outputted **Ckappa** (*Ckappa_linear* is the interpolated function), we proceed straightforward.\n",
    "\n",
    "(Recall max. and min. values of ell in Ckappa are **ellmin = 1, ellMax = 100 000** and we are using a log10 interval of Nd=60 steps)."
   ]
  },
  {
   "cell_type": "code",
   "execution_count": 84,
   "id": "df289e03",
   "metadata": {},
   "outputs": [],
   "source": [
    "# Defining from Bessel Functions\n",
    "import scipy \n",
    "def intPlus(theta, ell1):\n",
    "    return 1/(2*math.pi)*ell1*scipy.special.jv(0,ell1*theta)*Ckappa_linear(ell1)\n",
    "\n",
    "def intMinus(theta, ell1):\n",
    "    return 1/(2*math.pi)*ell1*scipy.special.jv(4,ell1*theta)*Ckappa_linear(ell1)"
   ]
  },
  {
   "cell_type": "code",
   "execution_count": 85,
   "id": "d2ba204c",
   "metadata": {
    "collapsed": true
   },
   "outputs": [
    {
     "name": "stderr",
     "output_type": "stream",
     "text": [
      "<ipython-input-85-52073a5fe02c>:9: IntegrationWarning: The integral is probably divergent, or slowly convergent.\n",
      "  xiPlus_y_direct[i] = quad(lambda ell: intPlus(tangle_T[i],ell), ellmin, ellMax)[0]\n",
      "<ipython-input-85-52073a5fe02c>:9: IntegrationWarning: The maximum number of subdivisions (50) has been achieved.\n",
      "  If increasing the limit yields no improvement it is advised to analyze \n",
      "  the integrand in order to determine the difficulties.  If the position of a \n",
      "  local difficulty can be determined (singularity, discontinuity) one will \n",
      "  probably gain from splitting up the interval and calling the integrator \n",
      "  on the subranges.  Perhaps a special-purpose integrator should be used.\n",
      "  xiPlus_y_direct[i] = quad(lambda ell: intPlus(tangle_T[i],ell), ellmin, ellMax)[0]\n"
     ]
    },
    {
     "data": {
      "text/plain": [
       "array([5.25513551e-05, 5.15351297e-05, 5.04975567e-05, 4.94397461e-05,\n",
       "       4.83599518e-05, 4.72570949e-05, 4.61399848e-05, 4.50004574e-05,\n",
       "       4.38476101e-05, 4.26778883e-05, 4.14932003e-05, 4.02956856e-05,\n",
       "       3.90859459e-05, 3.78667107e-05, 3.66397795e-05, 3.54064395e-05,\n",
       "       3.41678629e-05, 3.29267352e-05, 3.16836496e-05, 3.04426526e-05,\n",
       "       2.92049254e-05, 2.79725803e-05, 2.67483014e-05, 2.55328563e-05,\n",
       "       2.43295188e-05, 2.31407935e-05, 2.19682573e-05, 2.08140298e-05,\n",
       "       1.96807975e-05, 1.85710915e-05, 1.74899744e-05, 1.64264116e-05,\n",
       "       1.53960711e-05, 1.43807479e-05, 1.34114377e-05, 1.24731536e-05,\n",
       "       1.15703037e-05, 1.07237541e-05, 9.21454607e-06, 8.03997885e-06,\n",
       "       8.36022604e-06, 7.64201714e-06, 6.96481908e-06, 6.33145703e-06,\n",
       "       5.76111538e-06, 5.17813540e-06, 4.65112621e-06, 4.18719352e-06,\n",
       "       3.38956830e-06, 3.75768954e-06, 2.92495333e-06, 2.57864360e-06,\n",
       "       2.25988980e-06, 1.97423080e-06, 1.71822792e-06, 1.49108010e-06,\n",
       "       1.28466084e-06, 1.10992314e-06, 9.35822396e-07, 8.14841366e-07])"
      ]
     },
     "execution_count": 85,
     "metadata": {},
     "output_type": "execute_result"
    }
   ],
   "source": [
    "# This is a parallel table in Mathem.\n",
    "\n",
    "xiPlus_y_direct = np.zeros(len(tangle_T))\n",
    "\n",
    "import scipy.integrate\n",
    "from scipy.integrate import quad\n",
    "\n",
    "for i in range(len(tangle_T)):\n",
    "    xiPlus_y_direct[i] = quad(lambda ell: intPlus(tangle_T[i],ell), ellmin, ellMax)[0]\n",
    "\n",
    "xiPlus_y_direct"
   ]
  },
  {
   "cell_type": "code",
   "execution_count": 86,
   "id": "3fd83de5",
   "metadata": {
    "collapsed": true
   },
   "outputs": [
    {
     "data": {
      "text/plain": [
       "array([[8.72664626e-04, 5.25513551e-05],\n",
       "       [9.37046363e-04, 5.15351297e-05],\n",
       "       [1.00617793e-03, 5.04975567e-05],\n",
       "       [1.08040975e-03, 4.94397461e-05],\n",
       "       [1.16011810e-03, 4.83599518e-05],\n",
       "       [1.24570701e-03, 4.72570949e-05],\n",
       "       [1.33761034e-03, 4.61399848e-05],\n",
       "       [1.43629393e-03, 4.50004574e-05],\n",
       "       [1.54225800e-03, 4.38476101e-05],\n",
       "       [1.65603968e-03, 4.26778883e-05],\n",
       "       [1.77821573e-03, 4.14932003e-05],\n",
       "       [1.90940543e-03, 4.02956856e-05],\n",
       "       [2.05027380e-03, 3.90859459e-05],\n",
       "       [2.20153487e-03, 3.78667107e-05],\n",
       "       [2.36395539e-03, 3.66397795e-05],\n",
       "       [2.53835865e-03, 3.54064395e-05],\n",
       "       [2.72562869e-03, 3.41678629e-05],\n",
       "       [2.92671477e-03, 3.29267352e-05],\n",
       "       [3.14263618e-03, 3.16836496e-05],\n",
       "       [3.37448742e-03, 3.04426526e-05],\n",
       "       [3.62344373e-03, 2.92049254e-05],\n",
       "       [3.89076705e-03, 2.79725803e-05],\n",
       "       [4.17781242e-03, 2.67483014e-05],\n",
       "       [4.48603486e-03, 2.55328563e-05],\n",
       "       [4.81699673e-03, 2.43295188e-05],\n",
       "       [5.17237565e-03, 2.31407935e-05],\n",
       "       [5.55397303e-03, 2.19682573e-05],\n",
       "       [5.96372314e-03, 2.08140298e-05],\n",
       "       [6.40370300e-03, 1.96807975e-05],\n",
       "       [6.87614282e-03, 1.85710915e-05],\n",
       "       [7.38343738e-03, 1.74899744e-05],\n",
       "       [7.92815813e-03, 1.64264116e-05],\n",
       "       [8.51306621e-03, 1.53960711e-05],\n",
       "       [9.14112649e-03, 1.43807479e-05],\n",
       "       [9.81552257e-03, 1.34114377e-05],\n",
       "       [1.05396729e-02, 1.24731536e-05],\n",
       "       [1.13172482e-02, 1.15703037e-05],\n",
       "       [1.21521899e-02, 1.07237541e-05],\n",
       "       [1.30487303e-02, 9.21454607e-06],\n",
       "       [1.40114139e-02, 8.03997885e-06],\n",
       "       [1.50451205e-02, 8.36022604e-06],\n",
       "       [1.61550899e-02, 7.64201714e-06],\n",
       "       [1.73469484e-02, 6.96481908e-06],\n",
       "       [1.86267375e-02, 6.33145703e-06],\n",
       "       [2.00009443e-02, 5.76111538e-06],\n",
       "       [2.14765347e-02, 5.17813540e-06],\n",
       "       [2.30609883e-02, 4.65112621e-06],\n",
       "       [2.47623366e-02, 4.18719352e-06],\n",
       "       [2.65892037e-02, 3.38956830e-06],\n",
       "       [2.85508497e-02, 3.75768954e-06],\n",
       "       [3.06572182e-02, 2.92495333e-06],\n",
       "       [3.29189863e-02, 2.57864360e-06],\n",
       "       [3.53476186e-02, 2.25988980e-06],\n",
       "       [3.79554258e-02, 1.97423080e-06],\n",
       "       [4.07556267e-02, 1.71822792e-06],\n",
       "       [4.37624153e-02, 1.49108010e-06],\n",
       "       [4.69910328e-02, 1.28466084e-06],\n",
       "       [5.04578450e-02, 1.10992314e-06],\n",
       "       [5.41804248e-02, 9.35822396e-07],\n",
       "       [5.81776417e-02, 8.14841366e-07]])"
      ]
     },
     "execution_count": 86,
     "metadata": {},
     "output_type": "execute_result"
    }
   ],
   "source": [
    "xiPlus_T_direct = np.concatenate((tangle_T.reshape(-1,1),xiPlus_y_direct.reshape(-1,1)), axis = 1)\n",
    "xiPlus_T_direct"
   ]
  },
  {
   "cell_type": "code",
   "execution_count": 87,
   "id": "d3ecfeed",
   "metadata": {
    "collapsed": true
   },
   "outputs": [
    {
     "name": "stderr",
     "output_type": "stream",
     "text": [
      "<ipython-input-87-ba51bbb24026>:6: IntegrationWarning: The maximum number of subdivisions (50) has been achieved.\n",
      "  If increasing the limit yields no improvement it is advised to analyze \n",
      "  the integrand in order to determine the difficulties.  If the position of a \n",
      "  local difficulty can be determined (singularity, discontinuity) one will \n",
      "  probably gain from splitting up the interval and calling the integrator \n",
      "  on the subranges.  Perhaps a special-purpose integrator should be used.\n",
      "  xiMinus_y_direct[i] = quad(lambda ell: intMinus(tangle_T[i],ell), ellmin, ellMax)[0]\n"
     ]
    },
    {
     "data": {
      "text/plain": [
       "array([[8.72664626e-04, 2.22360759e-06],\n",
       "       [9.37046363e-04, 2.29227502e-06],\n",
       "       [1.00617793e-03, 2.36328755e-06],\n",
       "       [1.08040975e-03, 2.43716127e-06],\n",
       "       [1.16011810e-03, 2.51134436e-06],\n",
       "       [1.24570701e-03, 2.58428362e-06],\n",
       "       [1.33761034e-03, 2.66364750e-06],\n",
       "       [1.43629393e-03, 2.74000082e-06],\n",
       "       [1.54225800e-03, 2.82127086e-06],\n",
       "       [1.65603968e-03, 2.90256802e-06],\n",
       "       [1.77821573e-03, 2.98413178e-06],\n",
       "       [1.90940543e-03, 3.06644018e-06],\n",
       "       [2.05027380e-03, 3.14833476e-06],\n",
       "       [2.20153487e-03, 3.23071875e-06],\n",
       "       [2.36395539e-03, 3.31328111e-06],\n",
       "       [2.53835865e-03, 3.39536829e-06],\n",
       "       [2.72562869e-03, 3.47596399e-06],\n",
       "       [2.92671477e-03, 3.55495109e-06],\n",
       "       [3.14263618e-03, 3.63227831e-06],\n",
       "       [3.37448742e-03, 3.70794522e-06],\n",
       "       [3.62344373e-03, 3.78127351e-06],\n",
       "       [3.89076705e-03, 3.85168675e-06],\n",
       "       [4.17781242e-03, 3.91950902e-06],\n",
       "       [4.48603486e-03, 3.98351731e-06],\n",
       "       [4.81699673e-03, 4.04342620e-06],\n",
       "       [5.17237565e-03, 4.09956587e-06],\n",
       "       [5.55397303e-03, 4.15093560e-06],\n",
       "       [5.96372314e-03, 4.19712945e-06],\n",
       "       [6.40370300e-03, 4.23832020e-06],\n",
       "       [6.87614282e-03, 4.27406955e-06],\n",
       "       [7.38343738e-03, 4.30800160e-06],\n",
       "       [7.92815813e-03, 4.32661013e-06],\n",
       "       [8.51306621e-03, 4.34331324e-06],\n",
       "       [9.14112649e-03, 4.35314814e-06],\n",
       "       [9.81552257e-03, 4.35581538e-06],\n",
       "       [1.05396729e-02, 4.35111252e-06],\n",
       "       [1.13172482e-02, 4.33901314e-06],\n",
       "       [1.21521899e-02, 4.31946673e-06],\n",
       "       [1.30487303e-02, 4.29351337e-06],\n",
       "       [1.40114139e-02, 4.25787373e-06],\n",
       "       [1.50451205e-02, 4.21597090e-06],\n",
       "       [1.61550899e-02, 4.16047242e-06],\n",
       "       [1.73469484e-02, 4.10369688e-06],\n",
       "       [1.86267375e-02, 4.03678836e-06],\n",
       "       [2.00009443e-02, 3.96493312e-06],\n",
       "       [2.14765347e-02, 3.88272453e-06],\n",
       "       [2.30609883e-02, 3.79375159e-06],\n",
       "       [2.47623366e-02, 3.70133493e-06],\n",
       "       [2.65892037e-02, 3.60156052e-06],\n",
       "       [2.85508497e-02, 3.49288732e-06],\n",
       "       [3.06572182e-02, 3.38623560e-06],\n",
       "       [3.29189863e-02, 3.27225892e-06],\n",
       "       [3.53476186e-02, 3.15058480e-06],\n",
       "       [3.79554258e-02, 3.02871346e-06],\n",
       "       [4.07556267e-02, 2.90515180e-06],\n",
       "       [4.37624153e-02, 2.78077857e-06],\n",
       "       [4.69910328e-02, 2.64928688e-06],\n",
       "       [5.04578450e-02, 2.52389279e-06],\n",
       "       [5.41804248e-02, 2.37690216e-06],\n",
       "       [5.81776417e-02, 2.26473939e-06]])"
      ]
     },
     "execution_count": 87,
     "metadata": {},
     "output_type": "execute_result"
    }
   ],
   "source": [
    "# similarly with xiMinus\n",
    "\n",
    "xiMinus_y_direct = np.zeros(len(tangle_T))\n",
    "\n",
    "for i in range(len(tangle_T)):\n",
    "    xiMinus_y_direct[i] = quad(lambda ell: intMinus(tangle_T[i],ell), ellmin, ellMax)[0]\n",
    "\n",
    "xiMinus_T_direct = np.concatenate((tangle_T.reshape(-1,1),xiMinus_y_direct.reshape(-1,1)), axis = 1)\n",
    "xiMinus_T_direct"
   ]
  },
  {
   "cell_type": "code",
   "execution_count": 88,
   "id": "76303ded",
   "metadata": {},
   "outputs": [],
   "source": [
    "integrand_intMinus = intMinus(0.05, ell_T)\n",
    "integrand_intMinus2 = intMinus(0.01, ell_T)"
   ]
  },
  {
   "cell_type": "code",
   "execution_count": 89,
   "id": "60b1c380",
   "metadata": {},
   "outputs": [
    {
     "data": {
      "image/png": "[encoded data removed]",
      "text/plain": [
       "<Figure size 720x489.6 with 1 Axes>"
      ]
     },
     "metadata": {
      "needs_background": "light"
     },
     "output_type": "display_data"
    }
   ],
   "source": [
    "plt.plot(integrand_intMinus)\n",
    "plt.plot(integrand_intMinus2)\n",
    "plt.show()"
   ]
  },
  {
   "cell_type": "code",
   "execution_count": 90,
   "id": "9d39812f",
   "metadata": {},
   "outputs": [],
   "source": [
    "xiPlus_direct = CubicSpline(tangle_T,xiPlus_T_direct, extrapolate=True)\n",
    "xiMinus_direct = CubicSpline(tangle_T,xiMinus_T_direct, extrapolate=True)"
   ]
  },
  {
   "cell_type": "code",
   "execution_count": 91,
   "id": "7da3cc33",
   "metadata": {},
   "outputs": [
    {
     "name": "stdout",
     "output_type": "stream",
     "text": [
      "[1.00000000e-03 5.05881341e-05]\n",
      "5.058813411902675e-05\n"
     ]
    }
   ],
   "source": [
    "# NOTE the difference between the shape of case FFT and Direct with\n",
    "\n",
    "print(xiPlus_direct(0.001))    # gives a pair (array)\n",
    "print(xiPlus_direct(0.001)[1]) # gives the second value (the desired one)"
   ]
  },
  {
   "cell_type": "code",
   "execution_count": 92,
   "id": "f77e72ec",
   "metadata": {},
   "outputs": [],
   "source": [
    "# But since this case involves an array of different shape (direct method returns (1000,2) instead of just\n",
    "# (1000,) as the FFT case) we have put an index [:,1] right next to function evaluation of 'xi_direct'\n",
    "\n",
    "def xiP_plot_direct(t):\n",
    "    return (10**4)*t*xiPlus_direct(t*math.pi/(180*60))[:,1] # we specify we want the value from its second column (all the rows)\n",
    "\n",
    "def xiM_plot_direct(t):\n",
    "    return (10**4)*t*xiMinus_direct(t*math.pi/(180*60))[:,1]"
   ]
  },
  {
   "cell_type": "code",
   "execution_count": 93,
   "id": "b953218e",
   "metadata": {},
   "outputs": [
    {
     "data": {
      "text/plain": [
       "<function __main__.xiP_plot_direct(t)>"
      ]
     },
     "execution_count": 93,
     "metadata": {},
     "output_type": "execute_result"
    }
   ],
   "source": [
    "xiP_plot_direct # is a function, so it should return a float"
   ]
  },
  {
   "cell_type": "code",
   "execution_count": 94,
   "id": "bee34d15",
   "metadata": {},
   "outputs": [],
   "source": [
    "xi_P_direct = xiP_plot_direct(t_xiplot)\n",
    "xi_M_direct = xiM_plot_direct(t_xiplot)"
   ]
  },
  {
   "cell_type": "code",
   "execution_count": 95,
   "id": "4b8adabf",
   "metadata": {},
   "outputs": [
    {
     "data": {
      "image/png": "[encoded data removed]",
      "text/plain": [
       "<Figure size 720x489.6 with 1 Axes>"
      ]
     },
     "metadata": {
      "needs_background": "light"
     },
     "output_type": "display_data"
    }
   ],
   "source": [
    "# P L O T S (direct method)\n",
    "\n",
    "plt.plot(t_xiplot,xi_P_direct, \"-\", label=r'$\\xi_+$')\n",
    "plt.plot(t_xiplot,xi_M_direct, \"-\", label=r'$\\xi_-$')\n",
    "\n",
    "font1 = {'family':'serif','color':'darkred','size':16}\n",
    "font2 = {'family':'serif','color':'black','size':16}\n",
    "\n",
    "plt.legend(loc='right',bbox_to_anchor=(1.2, 0.5),fontsize = 'xx-large')\n",
    "\n",
    "plt.title(r'Correlation functions (direct method)', fontdict = font1)\n",
    "plt.xlabel(r\"$\\theta$ [arcmin]\",fontdict = font2)\n",
    "plt.ylabel(r\"$\\theta \\xi_{+,-}(\\theta)$\",fontdict = font2)\n",
    "\n",
    "plt.ylim(0,5)\n",
    "plt.xscale('log')\n",
    "\n",
    "plt.show()"
   ]
  },
  {
   "cell_type": "code",
   "execution_count": 96,
   "id": "22106bc2",
   "metadata": {},
   "outputs": [],
   "source": [
    "# STORE OUTPUT VARIABLES\n",
    "\n",
    "xiPlusT_directIntegration = xiPlus_T_direct\n",
    "xiMinusT_directIntegration = xiMinus_T_direct"
   ]
  },
  {
   "cell_type": "markdown",
   "id": "5f147ee9",
   "metadata": {},
   "source": [
    "# Comparing methods"
   ]
  },
  {
   "cell_type": "code",
   "execution_count": 97,
   "id": "8e0388a2",
   "metadata": {},
   "outputs": [],
   "source": [
    "xiPlusDirect = CubicSpline(xiPlusT_directIntegration[:,0], xiPlusT_directIntegration[:,1])\n",
    "xiMinusDirect = CubicSpline(xiMinusT_directIntegration[:,0], xiMinusT_directIntegration[:,1])\n",
    "\n",
    "xiPlusFFT = CubicSpline(xiPlus_FFT_output[:,0], xiPlus_FFT_output[:,1])\n",
    "xiMinusFFT = CubicSpline(xiMinus_FFT_output[:,0], xiMinus_FFT_output[:,1])"
   ]
  },
  {
   "cell_type": "code",
   "execution_count": 98,
   "id": "72752fb2",
   "metadata": {},
   "outputs": [
    {
     "data": {
      "image/png": "[encoded data removed]",
      "text/plain": [
       "<Figure size 720x489.6 with 1 Axes>"
      ]
     },
     "metadata": {
      "needs_background": "light"
     },
     "output_type": "display_data"
    }
   ],
   "source": [
    "# JUST IN ORDER TO PLOT\n",
    "def xiP_plot_dir(t):\n",
    "    return (10**4)*t*xiPlusDirect(t*math.pi/(180*60))\n",
    "\n",
    "def xiM_plot_dir(t):\n",
    "    return (10**4)*t*xiMinusDirect(t*math.pi/(180*60))\n",
    "\n",
    "xi_P_dir = xiP_plot_dir(t_xiplot)\n",
    "xi_M_dir = xiM_plot_dir(t_xiplot)\n",
    "\n",
    "\n",
    "def xiP_plot_FFT(t):\n",
    "    return (10**4)*t*xiPlusFFT(t*math.pi/(180*60))\n",
    "\n",
    "def xiM_plot_FFT(t):\n",
    "    return (10**4)*t*xiMinusFFT(t*math.pi/(180*60))\n",
    "\n",
    "xi_P_FFT = xiP_plot_FFT(t_xiplot)\n",
    "xi_M_FFT = xiM_plot_FFT(t_xiplot)\n",
    "\n",
    "\n",
    "### PLOTTING COMPARATION ###\n",
    "\n",
    "plt.plot(t_xiplot,xi_P_dir, \"--\", label=r'$\\xi_+$ (direct)')\n",
    "plt.plot(t_xiplot,xi_M_dir, \"--\", label=r'$\\xi_-$ (direct)')\n",
    "plt.plot(t_xiplot,xi_P_FFT, \"-\", label=r'$\\xi_+$ (FFT)')\n",
    "plt.plot(t_xiplot,xi_M_FFT, \"-\", label=r'$\\xi_-$ (FFT)')\n",
    "\n",
    "font1 = {'family':'serif','color':'darkred','size':16}\n",
    "font2 = {'family':'serif','color':'black','size':16}\n",
    "\n",
    "plt.legend(loc='right',bbox_to_anchor=(1.5, 0.5),fontsize = 'xx-large')\n",
    "\n",
    "plt.title(r'Correlation functions (direct and FFT method)', fontdict = font1)\n",
    "plt.xlabel(r\"$\\theta$ [arcmin]\",fontdict = font2)\n",
    "plt.ylabel(r\"$\\theta \\xi_{\\pm}^{Lin}(\\theta)$  [$10^{-4}$ arcmin]\",fontdict = font2)\n",
    "\n",
    "plt.ylim(0,5)\n",
    "plt.xscale('log')\n",
    "\n",
    "plt.show()"
   ]
  },
  {
   "cell_type": "code",
   "execution_count": 99,
   "id": "8ca9fd4f",
   "metadata": {},
   "outputs": [
    {
     "data": {
      "image/png": "[encoded data removed]",
      "text/plain": [
       "<Figure size 720x489.6 with 1 Axes>"
      ]
     },
     "metadata": {
      "needs_background": "light"
     },
     "output_type": "display_data"
    }
   ],
   "source": [
    "plt.loglog(t_xiplot, np.abs((xi_P_dir)/(xi_P_FFT) - 1), label=r'$\\xi_+$')\n",
    "plt.loglog(t_xiplot, np.abs((xi_M_dir)/(xi_M_FFT) - 1), label=r'$\\xi_-$')\n",
    "\n",
    "font1 = {'family':'serif','color':'darkred','size':16}\n",
    "font2 = {'family':'serif','color':'black','size':16}\n",
    "\n",
    "plt.legend(loc='right',bbox_to_anchor=(1.2, 0.5),fontsize = 'xx-large')\n",
    "\n",
    "plt.title(r'Methods performance ratio (Direct - FFT)', fontdict = font1)\n",
    "plt.show()"
   ]
  }
 ],
 "metadata": {
  "kernelspec": {
   "display_name": "Python 3 (ipykernel)",
   "language": "python",
   "name": "python3"
  },
  "language_info": {
   "codemirror_mode": {
    "name": "ipython",
    "version": 3
   },
   "file_extension": ".py",
   "mimetype": "text/x-python",
   "name": "python",
   "nbconvert_exporter": "python",
   "pygments_lexer": "ipython3",
   "version": "3.9.13"
  }
 },
 "nbformat": 4,
 "nbformat_minor": 5
}
